{
 "cells": [
  {
   "cell_type": "markdown",
   "metadata": {},
   "source": [
    "# Last Lab.\n",
    "\n",
    "## Next Week.\n",
    "\n",
    "### Review Sessions.\n",
    "Review sessions! There is one on Monday, Wednesday, <i>AND</i> Friyay. You are gonna want to go to all of them, but if you must, go to the ones that cover material you struggle with.\n",
    "\n",
    "### Office hours.\n",
    "Office hours will be held regularly except mine. I am going to do two hours ish on Monday.\n",
    "\n",
    "## Regression Inference."
   ]
  },
  {
   "cell_type": "code",
   "execution_count": null,
   "metadata": {},
   "outputs": [],
   "source": []
  }
 ],
 "metadata": {
  "kernelspec": {
   "display_name": "R",
   "language": "R",
   "name": "ir"
  },
  "language_info": {
   "codemirror_mode": "r",
   "file_extension": ".r",
   "mimetype": "text/x-r-source",
   "name": "R",
   "pygments_lexer": "r",
   "version": "3.5.1"
  }
 },
 "nbformat": 4,
 "nbformat_minor": 2
}
