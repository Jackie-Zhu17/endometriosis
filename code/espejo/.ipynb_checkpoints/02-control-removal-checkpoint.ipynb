{
 "cells": [
  {
   "cell_type": "markdown",
   "metadata": {},
   "source": [
    "# Control Removal\n",
    "I am using the 3 standard deviation rule for cutting out controls."
   ]
  },
  {
   "cell_type": "code",
   "execution_count": 1,
   "metadata": {},
   "outputs": [
    {
     "data": {
      "text/html": [
       "<ol class=list-inline>\n",
       "\t<li>'../../data/genbank/01-normalized/cut_1.csv'</li>\n",
       "\t<li>'../../data/genbank/01-normalized/cut_10.csv'</li>\n",
       "\t<li>'../../data/genbank/01-normalized/cut_2.csv'</li>\n",
       "\t<li>'../../data/genbank/01-normalized/cut_3.csv'</li>\n",
       "\t<li>'../../data/genbank/01-normalized/cut_4.csv'</li>\n",
       "\t<li>'../../data/genbank/01-normalized/cut_5.csv'</li>\n",
       "\t<li>'../../data/genbank/01-normalized/cut_6.csv'</li>\n",
       "\t<li>'../../data/genbank/01-normalized/cut_7.csv'</li>\n",
       "\t<li>'../../data/genbank/01-normalized/cut_8.csv'</li>\n",
       "\t<li>'../../data/genbank/01-normalized/cut_9.csv'</li>\n",
       "</ol>\n"
      ],
      "text/latex": [
       "\\begin{enumerate*}\n",
       "\\item '../../data/genbank/01-normalized/cut\\_1.csv'\n",
       "\\item '../../data/genbank/01-normalized/cut\\_10.csv'\n",
       "\\item '../../data/genbank/01-normalized/cut\\_2.csv'\n",
       "\\item '../../data/genbank/01-normalized/cut\\_3.csv'\n",
       "\\item '../../data/genbank/01-normalized/cut\\_4.csv'\n",
       "\\item '../../data/genbank/01-normalized/cut\\_5.csv'\n",
       "\\item '../../data/genbank/01-normalized/cut\\_6.csv'\n",
       "\\item '../../data/genbank/01-normalized/cut\\_7.csv'\n",
       "\\item '../../data/genbank/01-normalized/cut\\_8.csv'\n",
       "\\item '../../data/genbank/01-normalized/cut\\_9.csv'\n",
       "\\end{enumerate*}\n"
      ],
      "text/markdown": [
       "1. '../../data/genbank/01-normalized/cut_1.csv'\n",
       "2. '../../data/genbank/01-normalized/cut_10.csv'\n",
       "3. '../../data/genbank/01-normalized/cut_2.csv'\n",
       "4. '../../data/genbank/01-normalized/cut_3.csv'\n",
       "5. '../../data/genbank/01-normalized/cut_4.csv'\n",
       "6. '../../data/genbank/01-normalized/cut_5.csv'\n",
       "7. '../../data/genbank/01-normalized/cut_6.csv'\n",
       "8. '../../data/genbank/01-normalized/cut_7.csv'\n",
       "9. '../../data/genbank/01-normalized/cut_8.csv'\n",
       "10. '../../data/genbank/01-normalized/cut_9.csv'\n",
       "\n",
       "\n"
      ],
      "text/plain": [
       " [1] \"../../data/genbank/01-normalized/cut_1.csv\" \n",
       " [2] \"../../data/genbank/01-normalized/cut_10.csv\"\n",
       " [3] \"../../data/genbank/01-normalized/cut_2.csv\" \n",
       " [4] \"../../data/genbank/01-normalized/cut_3.csv\" \n",
       " [5] \"../../data/genbank/01-normalized/cut_4.csv\" \n",
       " [6] \"../../data/genbank/01-normalized/cut_5.csv\" \n",
       " [7] \"../../data/genbank/01-normalized/cut_6.csv\" \n",
       " [8] \"../../data/genbank/01-normalized/cut_7.csv\" \n",
       " [9] \"../../data/genbank/01-normalized/cut_8.csv\" \n",
       "[10] \"../../data/genbank/01-normalized/cut_9.csv\" "
      ]
     },
     "metadata": {},
     "output_type": "display_data"
    }
   ],
   "source": [
    "subset_paths <- list.files(\"../../data/genbank/01-normalized\", full.names=TRUE)\n",
    "subset_paths"
   ]
  },
  {
   "cell_type": "code",
   "execution_count": 2,
   "metadata": {},
   "outputs": [],
   "source": [
    "remove_controls <- function(subset_path, return.df=FALSE, write=TRUE) {\n",
    "    require(data.table)\n",
    "    full_subset <- read.csv(subset_path)\n",
    "    subset      <- full_subset[,-c(1:5)]\n",
    "    controls    <- apply(subset, 2, function(x) {\n",
    "                            range <- range(x)\n",
    "                            lb_ub <- c(mean(unlist(x)) - 3*sd(unlist(x)), mean(unlist(x)) + 3*sd(unlist(x)))\n",
    "                            all(sapply(range, function(x) inrange(x, lb_ub[1], lb_ub[2]))==TRUE)\n",
    "                        })\n",
    "    controls_2  <- apply(subset, 2, function(x) {\n",
    "                            sd(x) < 0.0001\n",
    "                        })\n",
    "                            \n",
    "    if (return.df) {\n",
    "        controls_tot <- unique(c(which(controls==FALSE), which(controls_2==TRUE)))\n",
    "        cbind(full_subset[,c(2:5)], subset[,-controls_tot])\n",
    "        \n",
    "    } else {\n",
    "        controls\n",
    "    }\n",
    "}"
   ]
  },
  {
   "cell_type": "code",
   "execution_count": 98,
   "metadata": {},
   "outputs": [],
   "source": [
    "# subset_path <- subset_paths[1]\n",
    "# full_subset <- read.csv(subset_path)"
   ]
  },
  {
   "cell_type": "code",
   "execution_count": 99,
   "metadata": {},
   "outputs": [],
   "source": [
    "#     subset      <- full_subset[,-c(1:5)]"
   ]
  },
  {
   "cell_type": "code",
   "execution_count": 100,
   "metadata": {
    "scrolled": true
   },
   "outputs": [],
   "source": [
    "# head(subset)"
   ]
  },
  {
   "cell_type": "code",
   "execution_count": 101,
   "metadata": {},
   "outputs": [],
   "source": [
    "# dim(subset)"
   ]
  },
  {
   "cell_type": "code",
   "execution_count": 102,
   "metadata": {},
   "outputs": [],
   "source": [
    "#     controls    <- apply(subset, 2, function(x) {\n",
    "#                             range <- range(x)\n",
    "#                             lb_ub <- c(mean(unlist(x)) - 3*sd(unlist(x)), mean(unlist(x)) + 3*sd(unlist(x)))\n",
    "#                             all(sapply(range, function(x) inrange(x, lb_ub[1], lb_ub[2]))==TRUE)\n",
    "#                         })"
   ]
  },
  {
   "cell_type": "code",
   "execution_count": 103,
   "metadata": {},
   "outputs": [],
   "source": [
    "# fuck_u <- subset[,-which(controls==FALSE)]"
   ]
  },
  {
   "cell_type": "code",
   "execution_count": 104,
   "metadata": {
    "scrolled": true
   },
   "outputs": [],
   "source": [
    "# dim(fuck_u)"
   ]
  },
  {
   "cell_type": "code",
   "execution_count": 105,
   "metadata": {},
   "outputs": [],
   "source": [
    "#     if (return.df) {\n",
    "#         cbind(full_subset[,c(2:5)], subset[,-controls])\n",
    "#     } else {\n",
    "#         controls\n",
    "#     }\n",
    "# }"
   ]
  },
  {
   "cell_type": "code",
   "execution_count": 106,
   "metadata": {},
   "outputs": [],
   "source": [
    "# remove_controls(subset_paths[1])"
   ]
  },
  {
   "cell_type": "code",
   "execution_count": 3,
   "metadata": {},
   "outputs": [
    {
     "name": "stderr",
     "output_type": "stream",
     "text": [
      "Loading required package: data.table\n"
     ]
    }
   ],
   "source": [
    "test_removal <- remove_controls(subset_paths[1], return.df=TRUE)"
   ]
  },
  {
   "cell_type": "code",
   "execution_count": 6,
   "metadata": {},
   "outputs": [],
   "source": [
    "out_paths <- gsub(\"01-normalized\", \"02-removed-controls\", subset_paths)"
   ]
  },
  {
   "cell_type": "code",
   "execution_count": 7,
   "metadata": {},
   "outputs": [
    {
     "data": {
      "text/html": [
       "<ol class=list-inline>\n",
       "\t<li>'../../data/genbank/02-removed-controls/cut_1.csv'</li>\n",
       "\t<li>'../../data/genbank/02-removed-controls/cut_10.csv'</li>\n",
       "\t<li>'../../data/genbank/02-removed-controls/cut_2.csv'</li>\n",
       "\t<li>'../../data/genbank/02-removed-controls/cut_3.csv'</li>\n",
       "\t<li>'../../data/genbank/02-removed-controls/cut_4.csv'</li>\n",
       "\t<li>'../../data/genbank/02-removed-controls/cut_5.csv'</li>\n",
       "\t<li>'../../data/genbank/02-removed-controls/cut_6.csv'</li>\n",
       "\t<li>'../../data/genbank/02-removed-controls/cut_7.csv'</li>\n",
       "\t<li>'../../data/genbank/02-removed-controls/cut_8.csv'</li>\n",
       "\t<li>'../../data/genbank/02-removed-controls/cut_9.csv'</li>\n",
       "</ol>\n"
      ],
      "text/latex": [
       "\\begin{enumerate*}\n",
       "\\item '../../data/genbank/02-removed-controls/cut\\_1.csv'\n",
       "\\item '../../data/genbank/02-removed-controls/cut\\_10.csv'\n",
       "\\item '../../data/genbank/02-removed-controls/cut\\_2.csv'\n",
       "\\item '../../data/genbank/02-removed-controls/cut\\_3.csv'\n",
       "\\item '../../data/genbank/02-removed-controls/cut\\_4.csv'\n",
       "\\item '../../data/genbank/02-removed-controls/cut\\_5.csv'\n",
       "\\item '../../data/genbank/02-removed-controls/cut\\_6.csv'\n",
       "\\item '../../data/genbank/02-removed-controls/cut\\_7.csv'\n",
       "\\item '../../data/genbank/02-removed-controls/cut\\_8.csv'\n",
       "\\item '../../data/genbank/02-removed-controls/cut\\_9.csv'\n",
       "\\end{enumerate*}\n"
      ],
      "text/markdown": [
       "1. '../../data/genbank/02-removed-controls/cut_1.csv'\n",
       "2. '../../data/genbank/02-removed-controls/cut_10.csv'\n",
       "3. '../../data/genbank/02-removed-controls/cut_2.csv'\n",
       "4. '../../data/genbank/02-removed-controls/cut_3.csv'\n",
       "5. '../../data/genbank/02-removed-controls/cut_4.csv'\n",
       "6. '../../data/genbank/02-removed-controls/cut_5.csv'\n",
       "7. '../../data/genbank/02-removed-controls/cut_6.csv'\n",
       "8. '../../data/genbank/02-removed-controls/cut_7.csv'\n",
       "9. '../../data/genbank/02-removed-controls/cut_8.csv'\n",
       "10. '../../data/genbank/02-removed-controls/cut_9.csv'\n",
       "\n",
       "\n"
      ],
      "text/plain": [
       " [1] \"../../data/genbank/02-removed-controls/cut_1.csv\" \n",
       " [2] \"../../data/genbank/02-removed-controls/cut_10.csv\"\n",
       " [3] \"../../data/genbank/02-removed-controls/cut_2.csv\" \n",
       " [4] \"../../data/genbank/02-removed-controls/cut_3.csv\" \n",
       " [5] \"../../data/genbank/02-removed-controls/cut_4.csv\" \n",
       " [6] \"../../data/genbank/02-removed-controls/cut_5.csv\" \n",
       " [7] \"../../data/genbank/02-removed-controls/cut_6.csv\" \n",
       " [8] \"../../data/genbank/02-removed-controls/cut_7.csv\" \n",
       " [9] \"../../data/genbank/02-removed-controls/cut_8.csv\" \n",
       "[10] \"../../data/genbank/02-removed-controls/cut_9.csv\" "
      ]
     },
     "metadata": {},
     "output_type": "display_data"
    }
   ],
   "source": [
    "out_paths"
   ]
  },
  {
   "cell_type": "code",
   "execution_count": 8,
   "metadata": {},
   "outputs": [],
   "source": [
    "for (ix in 1:length(subset_paths)) {\n",
    "    removal <- remove_controls(subset_paths[ix], return.df=TRUE)\n",
    "    write.csv(removal, out_paths[ix])\n",
    "}"
   ]
  },
  {
   "cell_type": "markdown",
   "metadata": {},
   "source": [
    "# Size of Our Data\n",
    "## Full Data"
   ]
  },
  {
   "cell_type": "code",
   "execution_count": 9,
   "metadata": {},
   "outputs": [],
   "source": [
    "dimensions <- lapply(subset_paths, function(x) {\n",
    "    this_data <- read.csv(x)\n",
    "    dim(this_data)\n",
    "})"
   ]
  },
  {
   "cell_type": "code",
   "execution_count": 10,
   "metadata": {},
   "outputs": [],
   "source": [
    "dimensions <- do.call(rbind, dimensions)\n",
    "dimensions[,2] <- dimensions[,2]-5"
   ]
  },
  {
   "cell_type": "code",
   "execution_count": 11,
   "metadata": {},
   "outputs": [
    {
     "data": {
      "text/html": [
       "<table>\n",
       "<tbody>\n",
       "\t<tr><td>148 </td><td>5466</td></tr>\n",
       "\t<tr><td>148 </td><td>5467</td></tr>\n",
       "\t<tr><td>148 </td><td>5466</td></tr>\n",
       "\t<tr><td>148 </td><td>5466</td></tr>\n",
       "\t<tr><td>148 </td><td>5466</td></tr>\n",
       "\t<tr><td>148 </td><td>5467</td></tr>\n",
       "\t<tr><td>148 </td><td>5466</td></tr>\n",
       "\t<tr><td>148 </td><td>5466</td></tr>\n",
       "\t<tr><td>148 </td><td>5466</td></tr>\n",
       "\t<tr><td>148 </td><td>5466</td></tr>\n",
       "</tbody>\n",
       "</table>\n"
      ],
      "text/latex": [
       "\\begin{tabular}{ll}\n",
       "\t 148  & 5466\\\\\n",
       "\t 148  & 5467\\\\\n",
       "\t 148  & 5466\\\\\n",
       "\t 148  & 5466\\\\\n",
       "\t 148  & 5466\\\\\n",
       "\t 148  & 5467\\\\\n",
       "\t 148  & 5466\\\\\n",
       "\t 148  & 5466\\\\\n",
       "\t 148  & 5466\\\\\n",
       "\t 148  & 5466\\\\\n",
       "\\end{tabular}\n"
      ],
      "text/markdown": [
       "\n",
       "| 148  | 5466 | \n",
       "| 148  | 5467 | \n",
       "| 148  | 5466 | \n",
       "| 148  | 5466 | \n",
       "| 148  | 5466 | \n",
       "| 148  | 5467 | \n",
       "| 148  | 5466 | \n",
       "| 148  | 5466 | \n",
       "| 148  | 5466 | \n",
       "| 148  | 5466 | \n",
       "\n",
       "\n"
      ],
      "text/plain": [
       "      [,1] [,2]\n",
       " [1,] 148  5466\n",
       " [2,] 148  5467\n",
       " [3,] 148  5466\n",
       " [4,] 148  5466\n",
       " [5,] 148  5466\n",
       " [6,] 148  5467\n",
       " [7,] 148  5466\n",
       " [8,] 148  5466\n",
       " [9,] 148  5466\n",
       "[10,] 148  5466"
      ]
     },
     "metadata": {},
     "output_type": "display_data"
    }
   ],
   "source": [
    "dimensions"
   ]
  },
  {
   "cell_type": "code",
   "execution_count": 12,
   "metadata": {},
   "outputs": [
    {
     "data": {
      "text/html": [
       "54662"
      ],
      "text/latex": [
       "54662"
      ],
      "text/markdown": [
       "54662"
      ],
      "text/plain": [
       "[1] 54662"
      ]
     },
     "metadata": {},
     "output_type": "display_data"
    }
   ],
   "source": [
    "sum(dimensions[,2])"
   ]
  },
  {
   "cell_type": "markdown",
   "metadata": {},
   "source": [
    "## Cut Data"
   ]
  },
  {
   "cell_type": "code",
   "execution_count": 13,
   "metadata": {},
   "outputs": [
    {
     "data": {
      "text/html": [
       "<ol class=list-inline>\n",
       "\t<li>'../../data/genbank/02-removed-controls/cut_1.csv'</li>\n",
       "\t<li>'../../data/genbank/02-removed-controls/cut_10.csv'</li>\n",
       "\t<li>'../../data/genbank/02-removed-controls/cut_2.csv'</li>\n",
       "\t<li>'../../data/genbank/02-removed-controls/cut_3.csv'</li>\n",
       "\t<li>'../../data/genbank/02-removed-controls/cut_4.csv'</li>\n",
       "\t<li>'../../data/genbank/02-removed-controls/cut_5.csv'</li>\n",
       "\t<li>'../../data/genbank/02-removed-controls/cut_6.csv'</li>\n",
       "\t<li>'../../data/genbank/02-removed-controls/cut_7.csv'</li>\n",
       "\t<li>'../../data/genbank/02-removed-controls/cut_8.csv'</li>\n",
       "\t<li>'../../data/genbank/02-removed-controls/cut_9.csv'</li>\n",
       "</ol>\n"
      ],
      "text/latex": [
       "\\begin{enumerate*}\n",
       "\\item '../../data/genbank/02-removed-controls/cut\\_1.csv'\n",
       "\\item '../../data/genbank/02-removed-controls/cut\\_10.csv'\n",
       "\\item '../../data/genbank/02-removed-controls/cut\\_2.csv'\n",
       "\\item '../../data/genbank/02-removed-controls/cut\\_3.csv'\n",
       "\\item '../../data/genbank/02-removed-controls/cut\\_4.csv'\n",
       "\\item '../../data/genbank/02-removed-controls/cut\\_5.csv'\n",
       "\\item '../../data/genbank/02-removed-controls/cut\\_6.csv'\n",
       "\\item '../../data/genbank/02-removed-controls/cut\\_7.csv'\n",
       "\\item '../../data/genbank/02-removed-controls/cut\\_8.csv'\n",
       "\\item '../../data/genbank/02-removed-controls/cut\\_9.csv'\n",
       "\\end{enumerate*}\n"
      ],
      "text/markdown": [
       "1. '../../data/genbank/02-removed-controls/cut_1.csv'\n",
       "2. '../../data/genbank/02-removed-controls/cut_10.csv'\n",
       "3. '../../data/genbank/02-removed-controls/cut_2.csv'\n",
       "4. '../../data/genbank/02-removed-controls/cut_3.csv'\n",
       "5. '../../data/genbank/02-removed-controls/cut_4.csv'\n",
       "6. '../../data/genbank/02-removed-controls/cut_5.csv'\n",
       "7. '../../data/genbank/02-removed-controls/cut_6.csv'\n",
       "8. '../../data/genbank/02-removed-controls/cut_7.csv'\n",
       "9. '../../data/genbank/02-removed-controls/cut_8.csv'\n",
       "10. '../../data/genbank/02-removed-controls/cut_9.csv'\n",
       "\n",
       "\n"
      ],
      "text/plain": [
       " [1] \"../../data/genbank/02-removed-controls/cut_1.csv\" \n",
       " [2] \"../../data/genbank/02-removed-controls/cut_10.csv\"\n",
       " [3] \"../../data/genbank/02-removed-controls/cut_2.csv\" \n",
       " [4] \"../../data/genbank/02-removed-controls/cut_3.csv\" \n",
       " [5] \"../../data/genbank/02-removed-controls/cut_4.csv\" \n",
       " [6] \"../../data/genbank/02-removed-controls/cut_5.csv\" \n",
       " [7] \"../../data/genbank/02-removed-controls/cut_6.csv\" \n",
       " [8] \"../../data/genbank/02-removed-controls/cut_7.csv\" \n",
       " [9] \"../../data/genbank/02-removed-controls/cut_8.csv\" \n",
       "[10] \"../../data/genbank/02-removed-controls/cut_9.csv\" "
      ]
     },
     "metadata": {},
     "output_type": "display_data"
    }
   ],
   "source": [
    "out_paths"
   ]
  },
  {
   "cell_type": "code",
   "execution_count": 14,
   "metadata": {},
   "outputs": [],
   "source": [
    "dimensions <- lapply(out_paths, function(x) {\n",
    "    this_data <- read.csv(x)\n",
    "    dim(this_data)\n",
    "})"
   ]
  },
  {
   "cell_type": "code",
   "execution_count": 15,
   "metadata": {},
   "outputs": [],
   "source": [
    "dimensions <- do.call(rbind, dimensions)\n",
    "dimensions[,2] <- dimensions[,2]-5"
   ]
  },
  {
   "cell_type": "code",
   "execution_count": 16,
   "metadata": {},
   "outputs": [
    {
     "data": {
      "text/html": [
       "<table>\n",
       "<tbody>\n",
       "\t<tr><td>148 </td><td> 683</td></tr>\n",
       "\t<tr><td>148 </td><td> 926</td></tr>\n",
       "\t<tr><td>148 </td><td> 748</td></tr>\n",
       "\t<tr><td>148 </td><td>2510</td></tr>\n",
       "\t<tr><td>148 </td><td>1809</td></tr>\n",
       "\t<tr><td>148 </td><td>1671</td></tr>\n",
       "\t<tr><td>148 </td><td>2292</td></tr>\n",
       "\t<tr><td>148 </td><td>2618</td></tr>\n",
       "\t<tr><td>148 </td><td>1177</td></tr>\n",
       "\t<tr><td>148 </td><td> 996</td></tr>\n",
       "</tbody>\n",
       "</table>\n"
      ],
      "text/latex": [
       "\\begin{tabular}{ll}\n",
       "\t 148  &  683\\\\\n",
       "\t 148  &  926\\\\\n",
       "\t 148  &  748\\\\\n",
       "\t 148  & 2510\\\\\n",
       "\t 148  & 1809\\\\\n",
       "\t 148  & 1671\\\\\n",
       "\t 148  & 2292\\\\\n",
       "\t 148  & 2618\\\\\n",
       "\t 148  & 1177\\\\\n",
       "\t 148  &  996\\\\\n",
       "\\end{tabular}\n"
      ],
      "text/markdown": [
       "\n",
       "| 148  |  683 | \n",
       "| 148  |  926 | \n",
       "| 148  |  748 | \n",
       "| 148  | 2510 | \n",
       "| 148  | 1809 | \n",
       "| 148  | 1671 | \n",
       "| 148  | 2292 | \n",
       "| 148  | 2618 | \n",
       "| 148  | 1177 | \n",
       "| 148  |  996 | \n",
       "\n",
       "\n"
      ],
      "text/plain": [
       "      [,1] [,2]\n",
       " [1,] 148   683\n",
       " [2,] 148   926\n",
       " [3,] 148   748\n",
       " [4,] 148  2510\n",
       " [5,] 148  1809\n",
       " [6,] 148  1671\n",
       " [7,] 148  2292\n",
       " [8,] 148  2618\n",
       " [9,] 148  1177\n",
       "[10,] 148   996"
      ]
     },
     "metadata": {},
     "output_type": "display_data"
    }
   ],
   "source": [
    "dimensions"
   ]
  },
  {
   "cell_type": "code",
   "execution_count": 17,
   "metadata": {},
   "outputs": [
    {
     "data": {
      "text/html": [
       "15430"
      ],
      "text/latex": [
       "15430"
      ],
      "text/markdown": [
       "15430"
      ],
      "text/plain": [
       "[1] 15430"
      ]
     },
     "metadata": {},
     "output_type": "display_data"
    }
   ],
   "source": [
    "sum(dimensions[,2])"
   ]
  },
  {
   "cell_type": "code",
   "execution_count": null,
   "metadata": {},
   "outputs": [],
   "source": []
  }
 ],
 "metadata": {
  "kernelspec": {
   "display_name": "R",
   "language": "R",
   "name": "ir"
  },
  "language_info": {
   "codemirror_mode": "r",
   "file_extension": ".r",
   "mimetype": "text/x-r-source",
   "name": "R",
   "pygments_lexer": "r",
   "version": "3.5.1"
  }
 },
 "nbformat": 4,
 "nbformat_minor": 2
}
