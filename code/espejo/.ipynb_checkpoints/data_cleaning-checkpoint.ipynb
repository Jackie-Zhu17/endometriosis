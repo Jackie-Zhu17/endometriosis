{
 "cells": [
  {
   "cell_type": "markdown",
   "metadata": {},
   "source": [
    "**If you are going to re-run this code, please do not overwrite our csvs... Also, paths have been updated, but not save paths.**"
   ]
  },
  {
   "cell_type": "markdown",
   "metadata": {},
   "source": [
    "# Series data\n",
    "I have taken the series data from genbank. I will clean it."
   ]
  },
  {
   "cell_type": "code",
   "execution_count": 45,
   "metadata": {
    "scrolled": false
   },
   "outputs": [],
   "source": [
    "library(tidyverse)"
   ]
  },
  {
   "cell_type": "code",
   "execution_count": 51,
   "metadata": {},
   "outputs": [
    {
     "name": "stderr",
     "output_type": "stream",
     "text": [
      "Parsed with column specification:\n",
      "cols(\n",
      "  .default = col_double(),\n",
      "  ID_REF = col_character()\n",
      ")\n",
      "See spec(...) for full column specifications.\n"
     ]
    },
    {
     "data": {
      "text/html": [
       "<table>\n",
       "<thead><tr><th scope=col>ID_REF</th><th scope=col>GSM1256653</th><th scope=col>GSM1256654</th><th scope=col>GSM1256655</th><th scope=col>GSM1256656</th><th scope=col>GSM1256657</th><th scope=col>GSM1256658</th><th scope=col>GSM1256659</th><th scope=col>GSM1256660</th><th scope=col>GSM1256661</th><th scope=col>⋯</th><th scope=col>GSM1256791</th><th scope=col>GSM1256792</th><th scope=col>GSM1256793</th><th scope=col>GSM1256794</th><th scope=col>GSM1256795</th><th scope=col>GSM1256796</th><th scope=col>GSM1256797</th><th scope=col>GSM1256798</th><th scope=col>GSM1256799</th><th scope=col>GSM1256800</th></tr></thead>\n",
       "<tbody>\n",
       "\t<tr><td>1007_s_at</td><td>9.142574 </td><td>9.063049 </td><td>8.371274 </td><td>10.328161</td><td>9.053309 </td><td> 9.826959</td><td>10.051266</td><td>8.916482 </td><td>9.512921 </td><td>⋯        </td><td> 9.422857</td><td>9.509318 </td><td>8.911136 </td><td>8.910045 </td><td> 9.688327</td><td>8.945505 </td><td> 9.914873</td><td>8.360163 </td><td>9.019321 </td><td>9.133539 </td></tr>\n",
       "\t<tr><td>1053_at  </td><td>6.829346 </td><td>7.241591 </td><td>6.217500 </td><td> 5.956927</td><td>7.327925 </td><td> 6.756618</td><td> 6.002931</td><td>7.174114 </td><td>7.176087 </td><td>⋯        </td><td> 6.953829</td><td>6.588734 </td><td>7.550706 </td><td>7.233786 </td><td> 7.124303</td><td>7.176087 </td><td> 7.015061</td><td>7.382790 </td><td>7.294270 </td><td>7.455280 </td></tr>\n",
       "\t<tr><td>117_at   </td><td>2.415871 </td><td>2.481975 </td><td>3.000367 </td><td> 2.481975</td><td>2.565015 </td><td> 3.424743</td><td> 3.228950</td><td>2.523481 </td><td>2.481975 </td><td>⋯        </td><td> 2.489401</td><td>2.813569 </td><td>2.381507 </td><td>2.504751 </td><td>12.746832</td><td>2.405781 </td><td> 2.539794</td><td>2.689892 </td><td>2.408022 </td><td>2.481975 </td></tr>\n",
       "\t<tr><td>121_at   </td><td>9.034042 </td><td>9.148342 </td><td>8.194835 </td><td>11.259729</td><td>7.999834 </td><td>11.024787</td><td>11.493178</td><td>8.627861 </td><td>8.650235 </td><td>⋯        </td><td>10.362475</td><td>9.529804 </td><td>7.771715 </td><td>8.190530 </td><td> 9.513292</td><td>7.430179 </td><td>10.641842</td><td>7.542483 </td><td>7.394785 </td><td>7.345726 </td></tr>\n",
       "\t<tr><td>1255_g_at</td><td>2.236067 </td><td>2.236067 </td><td>2.236067 </td><td> 2.236067</td><td>2.236067 </td><td> 2.236067</td><td> 2.236067</td><td>2.236067 </td><td>2.236067 </td><td>⋯        </td><td> 2.236067</td><td>2.236067 </td><td>2.236067 </td><td>2.236067 </td><td> 2.236067</td><td>2.236067 </td><td> 2.236067</td><td>2.236067 </td><td>2.236067 </td><td>2.236067 </td></tr>\n",
       "\t<tr><td>1294_at  </td><td>4.555846 </td><td>4.395302 </td><td>4.262263 </td><td> 5.402881</td><td>5.339464 </td><td> 5.297131</td><td> 4.724161</td><td>4.969480 </td><td>4.552627 </td><td>⋯        </td><td> 4.355469</td><td>5.052792 </td><td>4.327777 </td><td>4.653725 </td><td> 3.676447</td><td>4.439790 </td><td> 4.689734</td><td>4.163111 </td><td>3.673306 </td><td>4.381687 </td></tr>\n",
       "</tbody>\n",
       "</table>\n"
      ],
      "text/latex": [
       "\\begin{tabular}{r|lllllllllllllllllllllllllllllllllllllllllllllllllllllllllllllllllllllllllllllllllllllllllllllllllllllllllllllllllllllllllllllllllllllllllllllllllllll}\n",
       " ID\\_REF & GSM1256653 & GSM1256654 & GSM1256655 & GSM1256656 & GSM1256657 & GSM1256658 & GSM1256659 & GSM1256660 & GSM1256661 & ⋯ & GSM1256791 & GSM1256792 & GSM1256793 & GSM1256794 & GSM1256795 & GSM1256796 & GSM1256797 & GSM1256798 & GSM1256799 & GSM1256800\\\\\n",
       "\\hline\n",
       "\t 1007\\_s\\_at & 9.142574      & 9.063049      & 8.371274      & 10.328161     & 9.053309      &  9.826959     & 10.051266     & 8.916482      & 9.512921      & ⋯             &  9.422857     & 9.509318      & 8.911136      & 8.910045      &  9.688327     & 8.945505      &  9.914873     & 8.360163      & 9.019321      & 9.133539     \\\\\n",
       "\t 1053\\_at   & 6.829346    & 7.241591    & 6.217500    &  5.956927   & 7.327925    &  6.756618   &  6.002931   & 7.174114    & 7.176087    & ⋯           &  6.953829   & 6.588734    & 7.550706    & 7.233786    &  7.124303   & 7.176087    &  7.015061   & 7.382790    & 7.294270    & 7.455280   \\\\\n",
       "\t 117\\_at    & 2.415871    & 2.481975    & 3.000367    &  2.481975   & 2.565015    &  3.424743   &  3.228950   & 2.523481    & 2.481975    & ⋯           &  2.489401   & 2.813569    & 2.381507    & 2.504751    & 12.746832   & 2.405781    &  2.539794   & 2.689892    & 2.408022    & 2.481975   \\\\\n",
       "\t 121\\_at    & 9.034042    & 9.148342    & 8.194835    & 11.259729   & 7.999834    & 11.024787   & 11.493178   & 8.627861    & 8.650235    & ⋯           & 10.362475   & 9.529804    & 7.771715    & 8.190530    &  9.513292   & 7.430179    & 10.641842   & 7.542483    & 7.394785    & 7.345726   \\\\\n",
       "\t 1255\\_g\\_at & 2.236067      & 2.236067      & 2.236067      &  2.236067     & 2.236067      &  2.236067     &  2.236067     & 2.236067      & 2.236067      & ⋯             &  2.236067     & 2.236067      & 2.236067      & 2.236067      &  2.236067     & 2.236067      &  2.236067     & 2.236067      & 2.236067      & 2.236067     \\\\\n",
       "\t 1294\\_at   & 4.555846    & 4.395302    & 4.262263    &  5.402881   & 5.339464    &  5.297131   &  4.724161   & 4.969480    & 4.552627    & ⋯           &  4.355469   & 5.052792    & 4.327777    & 4.653725    &  3.676447   & 4.439790    &  4.689734   & 4.163111    & 3.673306    & 4.381687   \\\\\n",
       "\\end{tabular}\n"
      ],
      "text/markdown": [
       "\n",
       "ID_REF | GSM1256653 | GSM1256654 | GSM1256655 | GSM1256656 | GSM1256657 | GSM1256658 | GSM1256659 | GSM1256660 | GSM1256661 | ⋯ | GSM1256791 | GSM1256792 | GSM1256793 | GSM1256794 | GSM1256795 | GSM1256796 | GSM1256797 | GSM1256798 | GSM1256799 | GSM1256800 | \n",
       "|---|---|---|---|---|---|\n",
       "| 1007_s_at | 9.142574  | 9.063049  | 8.371274  | 10.328161 | 9.053309  |  9.826959 | 10.051266 | 8.916482  | 9.512921  | ⋯         |  9.422857 | 9.509318  | 8.911136  | 8.910045  |  9.688327 | 8.945505  |  9.914873 | 8.360163  | 9.019321  | 9.133539  | \n",
       "| 1053_at   | 6.829346  | 7.241591  | 6.217500  |  5.956927 | 7.327925  |  6.756618 |  6.002931 | 7.174114  | 7.176087  | ⋯         |  6.953829 | 6.588734  | 7.550706  | 7.233786  |  7.124303 | 7.176087  |  7.015061 | 7.382790  | 7.294270  | 7.455280  | \n",
       "| 117_at    | 2.415871  | 2.481975  | 3.000367  |  2.481975 | 2.565015  |  3.424743 |  3.228950 | 2.523481  | 2.481975  | ⋯         |  2.489401 | 2.813569  | 2.381507  | 2.504751  | 12.746832 | 2.405781  |  2.539794 | 2.689892  | 2.408022  | 2.481975  | \n",
       "| 121_at    | 9.034042  | 9.148342  | 8.194835  | 11.259729 | 7.999834  | 11.024787 | 11.493178 | 8.627861  | 8.650235  | ⋯         | 10.362475 | 9.529804  | 7.771715  | 8.190530  |  9.513292 | 7.430179  | 10.641842 | 7.542483  | 7.394785  | 7.345726  | \n",
       "| 1255_g_at | 2.236067  | 2.236067  | 2.236067  |  2.236067 | 2.236067  |  2.236067 |  2.236067 | 2.236067  | 2.236067  | ⋯         |  2.236067 | 2.236067  | 2.236067  | 2.236067  |  2.236067 | 2.236067  |  2.236067 | 2.236067  | 2.236067  | 2.236067  | \n",
       "| 1294_at   | 4.555846  | 4.395302  | 4.262263  |  5.402881 | 5.339464  |  5.297131 |  4.724161 | 4.969480  | 4.552627  | ⋯         |  4.355469 | 5.052792  | 4.327777  | 4.653725  |  3.676447 | 4.439790  |  4.689734 | 4.163111  | 3.673306  | 4.381687  | \n",
       "\n",
       "\n"
      ],
      "text/plain": [
       "  ID_REF    GSM1256653 GSM1256654 GSM1256655 GSM1256656 GSM1256657 GSM1256658\n",
       "1 1007_s_at 9.142574   9.063049   8.371274   10.328161  9.053309    9.826959 \n",
       "2 1053_at   6.829346   7.241591   6.217500    5.956927  7.327925    6.756618 \n",
       "3 117_at    2.415871   2.481975   3.000367    2.481975  2.565015    3.424743 \n",
       "4 121_at    9.034042   9.148342   8.194835   11.259729  7.999834   11.024787 \n",
       "5 1255_g_at 2.236067   2.236067   2.236067    2.236067  2.236067    2.236067 \n",
       "6 1294_at   4.555846   4.395302   4.262263    5.402881  5.339464    5.297131 \n",
       "  GSM1256659 GSM1256660 GSM1256661 ⋯ GSM1256791 GSM1256792 GSM1256793\n",
       "1 10.051266  8.916482   9.512921   ⋯  9.422857  9.509318   8.911136  \n",
       "2  6.002931  7.174114   7.176087   ⋯  6.953829  6.588734   7.550706  \n",
       "3  3.228950  2.523481   2.481975   ⋯  2.489401  2.813569   2.381507  \n",
       "4 11.493178  8.627861   8.650235   ⋯ 10.362475  9.529804   7.771715  \n",
       "5  2.236067  2.236067   2.236067   ⋯  2.236067  2.236067   2.236067  \n",
       "6  4.724161  4.969480   4.552627   ⋯  4.355469  5.052792   4.327777  \n",
       "  GSM1256794 GSM1256795 GSM1256796 GSM1256797 GSM1256798 GSM1256799 GSM1256800\n",
       "1 8.910045    9.688327  8.945505    9.914873  8.360163   9.019321   9.133539  \n",
       "2 7.233786    7.124303  7.176087    7.015061  7.382790   7.294270   7.455280  \n",
       "3 2.504751   12.746832  2.405781    2.539794  2.689892   2.408022   2.481975  \n",
       "4 8.190530    9.513292  7.430179   10.641842  7.542483   7.394785   7.345726  \n",
       "5 2.236067    2.236067  2.236067    2.236067  2.236067   2.236067   2.236067  \n",
       "6 4.653725    3.676447  4.439790    4.689734  4.163111   3.673306   4.381687  "
      ]
     },
     "metadata": {},
     "output_type": "display_data"
    }
   ],
   "source": [
    "clean_af <- read_csv(\"../../data/genbank/original/excel-to-csv/series.csv\")\n",
    "head(clean_af)"
   ]
  },
  {
   "cell_type": "markdown",
   "metadata": {},
   "source": [
    "I want samples to be the rows, so I will transpose."
   ]
  },
  {
   "cell_type": "code",
   "execution_count": 52,
   "metadata": {
    "scrolled": true
   },
   "outputs": [],
   "source": [
    "test <- t(clean_af)\n",
    "test <- data.frame(test)"
   ]
  },
  {
   "cell_type": "code",
   "execution_count": 54,
   "metadata": {},
   "outputs": [
    {
     "name": "stderr",
     "output_type": "stream",
     "text": [
      "ERROR while rich displaying an object: Error in sprintf(wrap, header, body): 'fmt' length exceeds maximal format length 8192\n",
      "\n",
      "Traceback:\n",
      "1. FUN(X[[i]], ...)\n",
      "2. tryCatch(withCallingHandlers({\n",
      " .     rpr <- mime2repr[[mime]](obj)\n",
      " .     if (is.null(rpr)) \n",
      " .         return(NULL)\n",
      " .     prepare_content(is.raw(rpr), rpr)\n",
      " . }, error = error_handler), error = outer_handler)\n",
      "3. tryCatchList(expr, classes, parentenv, handlers)\n",
      "4. tryCatchOne(expr, names, parentenv, handlers[[1L]])\n",
      "5. doTryCatch(return(expr), name, parentenv, handler)\n",
      "6. withCallingHandlers({\n",
      " .     rpr <- mime2repr[[mime]](obj)\n",
      " .     if (is.null(rpr)) \n",
      " .         return(NULL)\n",
      " .     prepare_content(is.raw(rpr), rpr)\n",
      " . }, error = error_handler)\n",
      "7. mime2repr[[mime]](obj)\n",
      "8. repr_latex.data.frame(obj)\n",
      "9. repr_matrix_generic(obj, sprintf(\"\\\\begin{tabular}{%s}\\n%%s%%s\\\\end{tabular}\\n\", \n",
      " .     cols), \"%s\\\\\\\\\\n\\\\hline\\n\", \"  &\", \" %s &\", \"%s\", \"\\t%s\\\\\\\\\\n\", \n",
      " .     \"%s &\", \" %s &\", escape_fun = latex_escape_vec, ...)\n",
      "10. sprintf(wrap, header, body)\n"
     ]
    },
    {
     "data": {
      "text/html": [
       "<table>\n",
       "<thead><tr><th></th><th scope=col>1007_s_at</th><th scope=col>1053_at</th><th scope=col>117_at</th><th scope=col>121_at</th><th scope=col>1255_g_at</th><th scope=col>1294_at</th><th scope=col>1316_at</th><th scope=col>1320_at</th><th scope=col>1405_i_at</th><th scope=col>1431_at</th><th scope=col>⋯</th><th scope=col>AFFX-r2-Ec-bioD-3_at</th><th scope=col>AFFX-r2-Ec-bioD-5_at</th><th scope=col>AFFX-r2-P1-cre-3_at</th><th scope=col>AFFX-r2-P1-cre-5_at</th><th scope=col>AFFX-ThrX-3_at</th><th scope=col>AFFX-ThrX-5_at</th><th scope=col>AFFX-ThrX-M_at</th><th scope=col>AFFX-TrpnX-3_at</th><th scope=col>AFFX-TrpnX-5_at</th><th scope=col>AFFX-TrpnX-M_at</th></tr></thead>\n",
       "<tbody>\n",
       "\t<tr><th scope=row>GSM1256653</th><td> 9.142574</td><td> 6.829346</td><td> 2.415871</td><td> 9.034042</td><td> 2.236067</td><td> 4.555846</td><td> 4.513244</td><td> 2.236067</td><td> 7.780779</td><td> 2.253879</td><td>⋯        </td><td>14.133014</td><td>13.781970</td><td>15.691278</td><td>14.932762</td><td> 2.236067</td><td> 2.236067</td><td> 2.236067</td><td> 2.236067</td><td> 2.236067</td><td> 2.236067</td></tr>\n",
       "\t<tr><th scope=row>GSM1256654</th><td> 9.063049</td><td> 7.241591</td><td> 2.481975</td><td> 9.148342</td><td> 2.236067</td><td> 4.395302</td><td> 5.055301</td><td> 2.236067</td><td> 5.351146</td><td> 2.253879</td><td>⋯        </td><td>14.949410</td><td>14.574480</td><td>16.250008</td><td>15.555548</td><td> 2.236067</td><td> 2.236067</td><td> 2.236067</td><td> 2.236067</td><td> 2.236067</td><td> 2.236067</td></tr>\n",
       "\t<tr><th scope=row>GSM1256655</th><td> 8.371274</td><td> 6.217500</td><td> 3.000367</td><td> 8.194835</td><td> 2.236067</td><td> 4.262263</td><td> 5.067819</td><td> 2.236067</td><td> 6.788972</td><td> 2.253879</td><td>⋯        </td><td>15.102873</td><td>14.515896</td><td>16.552179</td><td>16.284248</td><td> 2.236067</td><td> 2.236067</td><td> 2.236067</td><td> 2.236067</td><td> 2.236067</td><td> 2.236067</td></tr>\n",
       "\t<tr><th scope=row>GSM1256656</th><td>10.328161</td><td> 5.956927</td><td> 2.481975</td><td>11.259729</td><td> 2.236067</td><td> 5.402881</td><td> 4.463150</td><td> 2.236067</td><td> 6.200862</td><td> 2.253879</td><td>⋯        </td><td>14.607170</td><td>14.378953</td><td>15.993253</td><td>15.217346</td><td> 2.236067</td><td> 2.236067</td><td> 2.236067</td><td> 2.236067</td><td> 2.236067</td><td> 2.236067</td></tr>\n",
       "\t<tr><th scope=row>GSM1256657</th><td> 9.053309</td><td> 7.327925</td><td> 2.565015</td><td> 7.999834</td><td> 2.236067</td><td> 5.339464</td><td> 4.406136</td><td> 2.236067</td><td> 8.635627</td><td> 2.253879</td><td>⋯        </td><td>13.842043</td><td>13.569647</td><td>15.611547</td><td>15.146517</td><td> 2.236067</td><td> 2.236067</td><td> 2.236067</td><td> 2.236067</td><td> 2.236067</td><td> 2.236067</td></tr>\n",
       "\t<tr><th scope=row>GSM1256658</th><td> 9.826959</td><td> 6.756618</td><td> 3.424743</td><td>11.024787</td><td> 2.236067</td><td> 5.297131</td><td> 5.091108</td><td> 2.236067</td><td> 6.603349</td><td> 2.253879</td><td>⋯        </td><td>14.831271</td><td>14.319158</td><td>16.014199</td><td>15.330209</td><td> 2.236067</td><td> 2.236067</td><td> 2.236067</td><td> 2.236067</td><td> 2.236067</td><td> 2.236067</td></tr>\n",
       "</tbody>\n",
       "</table>\n"
      ],
      "text/markdown": [
       "\n",
       "| <!--/--> | 1007_s_at | 1053_at | 117_at | 121_at | 1255_g_at | 1294_at | 1316_at | 1320_at | 1405_i_at | 1431_at | ⋯ | AFFX-r2-Ec-bioD-3_at | AFFX-r2-Ec-bioD-5_at | AFFX-r2-P1-cre-3_at | AFFX-r2-P1-cre-5_at | AFFX-ThrX-3_at | AFFX-ThrX-5_at | AFFX-ThrX-M_at | AFFX-TrpnX-3_at | AFFX-TrpnX-5_at | AFFX-TrpnX-M_at | \n",
       "|---|---|---|---|---|---|\n",
       "| GSM1256653 |  9.142574 |  6.829346 |  2.415871 |  9.034042 |  2.236067 |  4.555846 |  4.513244 |  2.236067 |  7.780779 |  2.253879 | ⋯         | 14.133014 | 13.781970 | 15.691278 | 14.932762 |  2.236067 |  2.236067 |  2.236067 |  2.236067 |  2.236067 |  2.236067 | \n",
       "| GSM1256654 |  9.063049 |  7.241591 |  2.481975 |  9.148342 |  2.236067 |  4.395302 |  5.055301 |  2.236067 |  5.351146 |  2.253879 | ⋯         | 14.949410 | 14.574480 | 16.250008 | 15.555548 |  2.236067 |  2.236067 |  2.236067 |  2.236067 |  2.236067 |  2.236067 | \n",
       "| GSM1256655 |  8.371274 |  6.217500 |  3.000367 |  8.194835 |  2.236067 |  4.262263 |  5.067819 |  2.236067 |  6.788972 |  2.253879 | ⋯         | 15.102873 | 14.515896 | 16.552179 | 16.284248 |  2.236067 |  2.236067 |  2.236067 |  2.236067 |  2.236067 |  2.236067 | \n",
       "| GSM1256656 | 10.328161 |  5.956927 |  2.481975 | 11.259729 |  2.236067 |  5.402881 |  4.463150 |  2.236067 |  6.200862 |  2.253879 | ⋯         | 14.607170 | 14.378953 | 15.993253 | 15.217346 |  2.236067 |  2.236067 |  2.236067 |  2.236067 |  2.236067 |  2.236067 | \n",
       "| GSM1256657 |  9.053309 |  7.327925 |  2.565015 |  7.999834 |  2.236067 |  5.339464 |  4.406136 |  2.236067 |  8.635627 |  2.253879 | ⋯         | 13.842043 | 13.569647 | 15.611547 | 15.146517 |  2.236067 |  2.236067 |  2.236067 |  2.236067 |  2.236067 |  2.236067 | \n",
       "| GSM1256658 |  9.826959 |  6.756618 |  3.424743 | 11.024787 |  2.236067 |  5.297131 |  5.091108 |  2.236067 |  6.603349 |  2.253879 | ⋯         | 14.831271 | 14.319158 | 16.014199 | 15.330209 |  2.236067 |  2.236067 |  2.236067 |  2.236067 |  2.236067 |  2.236067 | \n",
       "\n",
       "\n"
      ],
      "text/plain": [
       "           1007_s_at 1053_at   117_at    121_at    1255_g_at 1294_at  \n",
       "GSM1256653  9.142574  6.829346  2.415871  9.034042  2.236067  4.555846\n",
       "GSM1256654  9.063049  7.241591  2.481975  9.148342  2.236067  4.395302\n",
       "GSM1256655  8.371274  6.217500  3.000367  8.194835  2.236067  4.262263\n",
       "GSM1256656 10.328161  5.956927  2.481975 11.259729  2.236067  5.402881\n",
       "GSM1256657  9.053309  7.327925  2.565015  7.999834  2.236067  5.339464\n",
       "GSM1256658  9.826959  6.756618  3.424743 11.024787  2.236067  5.297131\n",
       "           1316_at   1320_at   1405_i_at 1431_at   ⋯ AFFX-r2-Ec-bioD-3_at\n",
       "GSM1256653  4.513244  2.236067  7.780779  2.253879 ⋯ 14.133014           \n",
       "GSM1256654  5.055301  2.236067  5.351146  2.253879 ⋯ 14.949410           \n",
       "GSM1256655  5.067819  2.236067  6.788972  2.253879 ⋯ 15.102873           \n",
       "GSM1256656  4.463150  2.236067  6.200862  2.253879 ⋯ 14.607170           \n",
       "GSM1256657  4.406136  2.236067  8.635627  2.253879 ⋯ 13.842043           \n",
       "GSM1256658  5.091108  2.236067  6.603349  2.253879 ⋯ 14.831271           \n",
       "           AFFX-r2-Ec-bioD-5_at AFFX-r2-P1-cre-3_at AFFX-r2-P1-cre-5_at\n",
       "GSM1256653 13.781970            15.691278           14.932762          \n",
       "GSM1256654 14.574480            16.250008           15.555548          \n",
       "GSM1256655 14.515896            16.552179           16.284248          \n",
       "GSM1256656 14.378953            15.993253           15.217346          \n",
       "GSM1256657 13.569647            15.611547           15.146517          \n",
       "GSM1256658 14.319158            16.014199           15.330209          \n",
       "           AFFX-ThrX-3_at AFFX-ThrX-5_at AFFX-ThrX-M_at AFFX-TrpnX-3_at\n",
       "GSM1256653  2.236067       2.236067       2.236067       2.236067      \n",
       "GSM1256654  2.236067       2.236067       2.236067       2.236067      \n",
       "GSM1256655  2.236067       2.236067       2.236067       2.236067      \n",
       "GSM1256656  2.236067       2.236067       2.236067       2.236067      \n",
       "GSM1256657  2.236067       2.236067       2.236067       2.236067      \n",
       "GSM1256658  2.236067       2.236067       2.236067       2.236067      \n",
       "           AFFX-TrpnX-5_at AFFX-TrpnX-M_at\n",
       "GSM1256653  2.236067        2.236067      \n",
       "GSM1256654  2.236067        2.236067      \n",
       "GSM1256655  2.236067        2.236067      \n",
       "GSM1256656  2.236067        2.236067      \n",
       "GSM1256657  2.236067        2.236067      \n",
       "GSM1256658  2.236067        2.236067      "
      ]
     },
     "metadata": {},
     "output_type": "display_data"
    }
   ],
   "source": [
    "names(test) <- unlist(test[1,])\n",
    "test <- test[-1,]\n",
    "head(test)"
   ]
  },
  {
   "cell_type": "code",
   "execution_count": 55,
   "metadata": {},
   "outputs": [
    {
     "data": {
      "text/html": [
       "<ol class=list-inline>\n",
       "\t<li>148</li>\n",
       "\t<li>54675</li>\n",
       "</ol>\n"
      ],
      "text/latex": [
       "\\begin{enumerate*}\n",
       "\\item 148\n",
       "\\item 54675\n",
       "\\end{enumerate*}\n"
      ],
      "text/markdown": [
       "1. 148\n",
       "2. 54675\n",
       "\n",
       "\n"
      ],
      "text/plain": [
       "[1]   148 54675"
      ]
     },
     "metadata": {},
     "output_type": "display_data"
    }
   ],
   "source": [
    "dim(test)"
   ]
  },
  {
   "cell_type": "code",
   "execution_count": 29,
   "metadata": {},
   "outputs": [],
   "source": [
    "# write.csv(test, \"../../data/clean/series_clean.csv\")"
   ]
  },
  {
   "cell_type": "markdown",
   "metadata": {},
   "source": [
    "# Metadata\n",
    "I am going to clean the metadata."
   ]
  },
  {
   "cell_type": "code",
   "execution_count": 6,
   "metadata": {},
   "outputs": [
    {
     "name": "stderr",
     "output_type": "stream",
     "text": [
      "Parsed with column specification:\n",
      "cols(\n",
      "  .default = col_character()\n",
      ")\n",
      "See spec(...) for full column specifications.\n"
     ]
    }
   ],
   "source": [
    "metadata <- read_csv(\"../../data/genbank/original/excel-to-csv/sample_metadata.csv\")"
   ]
  },
  {
   "cell_type": "code",
   "execution_count": 7,
   "metadata": {},
   "outputs": [
    {
     "data": {
      "text/html": [
       "<ol class=list-inline>\n",
       "\t<li>'tbl_df'</li>\n",
       "\t<li>'tbl'</li>\n",
       "\t<li>'data.frame'</li>\n",
       "</ol>\n"
      ],
      "text/latex": [
       "\\begin{enumerate*}\n",
       "\\item 'tbl\\_df'\n",
       "\\item 'tbl'\n",
       "\\item 'data.frame'\n",
       "\\end{enumerate*}\n"
      ],
      "text/markdown": [
       "1. 'tbl_df'\n",
       "2. 'tbl'\n",
       "3. 'data.frame'\n",
       "\n",
       "\n"
      ],
      "text/plain": [
       "[1] \"tbl_df\"     \"tbl\"        \"data.frame\""
      ]
     },
     "metadata": {},
     "output_type": "display_data"
    }
   ],
   "source": [
    "metadata <- rbind(names(metadata), metadata)\n",
    "class(metadata)"
   ]
  },
  {
   "cell_type": "code",
   "execution_count": 8,
   "metadata": {},
   "outputs": [],
   "source": [
    "names(metadata) <- c(\"attribute\", metadata[2,2:ncol(metadata)])"
   ]
  },
  {
   "cell_type": "code",
   "execution_count": 9,
   "metadata": {},
   "outputs": [],
   "source": [
    "metadata <- t(metadata[-2,])\n",
    "metadata <- data.frame(metadata)\n",
    "names(metadata) <- unlist(metadata[1,])\n",
    "names(metadata) <- gsub(\"!\", \"\", names(metadata))\n",
    "metadata <- metadata[-1,]"
   ]
  },
  {
   "cell_type": "code",
   "execution_count": 10,
   "metadata": {},
   "outputs": [],
   "source": [
    "names(metadata)[which(grepl(\"Sample_characteristics_ch1\", names(metadata)))] <- paste0(\"Sample_characteristics_ch1_\", 1:3)"
   ]
  },
  {
   "cell_type": "code",
   "execution_count": 11,
   "metadata": {},
   "outputs": [
    {
     "data": {
      "text/html": [
       "<table>\n",
       "<thead><tr><th></th><th scope=col>Sample_title</th><th scope=col>Sample_status</th><th scope=col>Sample_submission_date</th><th scope=col>Sample_last_update_date</th><th scope=col>Sample_type</th><th scope=col>Sample_channel_count</th><th scope=col>Sample_source_name_ch1</th><th scope=col>Sample_organism_ch1</th><th scope=col>Sample_characteristics_ch1_1</th><th scope=col>Sample_characteristics_ch1_2</th><th scope=col>⋯</th><th scope=col>Sample_contact_laboratory</th><th scope=col>Sample_contact_department</th><th scope=col>Sample_contact_institute</th><th scope=col>Sample_contact_address</th><th scope=col>Sample_contact_city</th><th scope=col>Sample_contact_state</th><th scope=col>Sample_contact_zip/postal_code</th><th scope=col>Sample_contact_country</th><th scope=col>Sample_supplementary_file</th><th scope=col>Sample_data_row_count</th></tr></thead>\n",
       "<tbody>\n",
       "\t<tr><th scope=row>GSM1256653</th><td>123                                                                                     </td><td>Public on Oct 01 2014                                                                   </td><td>Nov 01 2013                                                                             </td><td>Oct 01 2014                                                                             </td><td>RNA                                                                                     </td><td>1                                                                                       </td><td>Endometriosis_Moderate/Severe                                                           </td><td>Homo sapiens                                                                            </td><td>tissue: Early Secretory Endometrial tissue                                              </td><td>endometriosis/no endometriosis: Endometriosis                                           </td><td>⋯                                                                                       </td><td>Giudice Lab                                                                             </td><td>OBGYN and RS                                                                            </td><td>University of California, San Francisco                                                 </td><td>513 Parnassus Ave. HSE 1619                                                             </td><td>San Francisco                                                                           </td><td>CA                                                                                      </td><td>94122                                                                                   </td><td>USA                                                                                     </td><td>ftp://ftp.ncbi.nlm.nih.gov/geo/samples/GSM1256nnn/GSM1256653/suppl/GSM1256653_123.CEL.gz</td><td>54675                                                                                   </td></tr>\n",
       "\t<tr><th scope=row>GSM1256654</th><td>118                                                                                     </td><td>Public on Oct 01 2014                                                                   </td><td>Nov 01 2013                                                                             </td><td>Oct 01 2014                                                                             </td><td>RNA                                                                                     </td><td>1                                                                                       </td><td>Endometriosis_Moderate/Severe                                                           </td><td>Homo sapiens                                                                            </td><td>tissue: Early Secretory Endometrial tissue                                              </td><td>endometriosis/no endometriosis: Endometriosis                                           </td><td>⋯                                                                                       </td><td>Giudice Lab                                                                             </td><td>OBGYN and RS                                                                            </td><td>University of California, San Francisco                                                 </td><td>513 Parnassus Ave. HSE 1619                                                             </td><td>San Francisco                                                                           </td><td>CA                                                                                      </td><td>94122                                                                                   </td><td>USA                                                                                     </td><td>ftp://ftp.ncbi.nlm.nih.gov/geo/samples/GSM1256nnn/GSM1256654/suppl/GSM1256654_118.CEL.gz</td><td>54675                                                                                   </td></tr>\n",
       "\t<tr><th scope=row>GSM1256655</th><td>103                                                                                     </td><td>Public on Oct 01 2014                                                                   </td><td>Nov 01 2013                                                                             </td><td>Oct 01 2014                                                                             </td><td>RNA                                                                                     </td><td>1                                                                                       </td><td>Endometriosis_Moderate/Severe                                                           </td><td>Homo sapiens                                                                            </td><td>tissue: Proliferative Endometrial tissue                                                </td><td>endometriosis/no endometriosis: Endometriosis                                           </td><td>⋯                                                                                       </td><td>Giudice Lab                                                                             </td><td>OBGYN and RS                                                                            </td><td>University of California, San Francisco                                                 </td><td>513 Parnassus Ave. HSE 1619                                                             </td><td>San Francisco                                                                           </td><td>CA                                                                                      </td><td>94122                                                                                   </td><td>USA                                                                                     </td><td>ftp://ftp.ncbi.nlm.nih.gov/geo/samples/GSM1256nnn/GSM1256655/suppl/GSM1256655_103.CEL.gz</td><td>54675                                                                                   </td></tr>\n",
       "\t<tr><th scope=row>GSM1256656</th><td>132                                                                                     </td><td>Public on Oct 01 2014                                                                   </td><td>Nov 01 2013                                                                             </td><td>Oct 01 2014                                                                             </td><td>RNA                                                                                     </td><td>1                                                                                       </td><td>Endometriosis_Moderate/Severe                                                           </td><td>Homo sapiens                                                                            </td><td>tissue: Mid-Secretory Endometrial tissue                                                </td><td>endometriosis/no endometriosis: Endometriosis                                           </td><td>⋯                                                                                       </td><td>Giudice Lab                                                                             </td><td>OBGYN and RS                                                                            </td><td>University of California, San Francisco                                                 </td><td>513 Parnassus Ave. HSE 1619                                                             </td><td>San Francisco                                                                           </td><td>CA                                                                                      </td><td>94122                                                                                   </td><td>USA                                                                                     </td><td>ftp://ftp.ncbi.nlm.nih.gov/geo/samples/GSM1256nnn/GSM1256656/suppl/GSM1256656_132.CEL.gz</td><td>54675                                                                                   </td></tr>\n",
       "\t<tr><th scope=row>GSM1256657</th><td>119                                                                                     </td><td>Public on Oct 01 2014                                                                   </td><td>Nov 01 2013                                                                             </td><td>Oct 01 2014                                                                             </td><td>RNA                                                                                     </td><td>1                                                                                       </td><td>Endometriosis_Moderate/Severe                                                           </td><td>Homo sapiens                                                                            </td><td>tissue: Early Secretory Endometrial tissue                                              </td><td>endometriosis/no endometriosis: Endometriosis                                           </td><td>⋯                                                                                       </td><td>Giudice Lab                                                                             </td><td>OBGYN and RS                                                                            </td><td>University of California, San Francisco                                                 </td><td>513 Parnassus Ave. HSE 1619                                                             </td><td>San Francisco                                                                           </td><td>CA                                                                                      </td><td>94122                                                                                   </td><td>USA                                                                                     </td><td>ftp://ftp.ncbi.nlm.nih.gov/geo/samples/GSM1256nnn/GSM1256657/suppl/GSM1256657_119.CEL.gz</td><td>54675                                                                                   </td></tr>\n",
       "\t<tr><th scope=row>GSM1256658</th><td>133                                                                                     </td><td>Public on Oct 01 2014                                                                   </td><td>Nov 01 2013                                                                             </td><td>Oct 01 2014                                                                             </td><td>RNA                                                                                     </td><td>1                                                                                       </td><td>Endometriosis_Moderate/Severe                                                           </td><td>Homo sapiens                                                                            </td><td>tissue: Mid-Secretory Endometrial tissue                                                </td><td>endometriosis/no endometriosis: Endometriosis                                           </td><td>⋯                                                                                       </td><td>Giudice Lab                                                                             </td><td>OBGYN and RS                                                                            </td><td>University of California, San Francisco                                                 </td><td>513 Parnassus Ave. HSE 1619                                                             </td><td>San Francisco                                                                           </td><td>CA                                                                                      </td><td>94122                                                                                   </td><td>USA                                                                                     </td><td>ftp://ftp.ncbi.nlm.nih.gov/geo/samples/GSM1256nnn/GSM1256658/suppl/GSM1256658_133.CEL.gz</td><td>54675                                                                                   </td></tr>\n",
       "</tbody>\n",
       "</table>\n"
      ],
      "text/latex": [
       "\\begin{tabular}{r|llllllllllllllllllllllllllllllllll}\n",
       "  & Sample\\_title & Sample\\_status & Sample\\_submission\\_date & Sample\\_last\\_update\\_date & Sample\\_type & Sample\\_channel\\_count & Sample\\_source\\_name\\_ch1 & Sample\\_organism\\_ch1 & Sample\\_characteristics\\_ch1\\_1 & Sample\\_characteristics\\_ch1\\_2 & ⋯ & Sample\\_contact\\_laboratory & Sample\\_contact\\_department & Sample\\_contact\\_institute & Sample\\_contact\\_address & Sample\\_contact\\_city & Sample\\_contact\\_state & Sample\\_contact\\_zip/postal\\_code & Sample\\_contact\\_country & Sample\\_supplementary\\_file & Sample\\_data\\_row\\_count\\\\\n",
       "\\hline\n",
       "\tGSM1256653 & 123                                                                                        & Public on Oct 01 2014                                                                      & Nov 01 2013                                                                                & Oct 01 2014                                                                                & RNA                                                                                        & 1                                                                                          & Endometriosis\\_Moderate/Severe                                                            & Homo sapiens                                                                               & tissue: Early Secretory Endometrial tissue                                                 & endometriosis/no endometriosis: Endometriosis                                              & ⋯                                                                                          & Giudice Lab                                                                                & OBGYN and RS                                                                               & University of California, San Francisco                                                    & 513 Parnassus Ave. HSE 1619                                                                & San Francisco                                                                              & CA                                                                                         & 94122                                                                                      & USA                                                                                        & ftp://ftp.ncbi.nlm.nih.gov/geo/samples/GSM1256nnn/GSM1256653/suppl/GSM1256653\\_123.CEL.gz & 54675                                                                                     \\\\\n",
       "\tGSM1256654 & 118                                                                                        & Public on Oct 01 2014                                                                      & Nov 01 2013                                                                                & Oct 01 2014                                                                                & RNA                                                                                        & 1                                                                                          & Endometriosis\\_Moderate/Severe                                                            & Homo sapiens                                                                               & tissue: Early Secretory Endometrial tissue                                                 & endometriosis/no endometriosis: Endometriosis                                              & ⋯                                                                                          & Giudice Lab                                                                                & OBGYN and RS                                                                               & University of California, San Francisco                                                    & 513 Parnassus Ave. HSE 1619                                                                & San Francisco                                                                              & CA                                                                                         & 94122                                                                                      & USA                                                                                        & ftp://ftp.ncbi.nlm.nih.gov/geo/samples/GSM1256nnn/GSM1256654/suppl/GSM1256654\\_118.CEL.gz & 54675                                                                                     \\\\\n",
       "\tGSM1256655 & 103                                                                                        & Public on Oct 01 2014                                                                      & Nov 01 2013                                                                                & Oct 01 2014                                                                                & RNA                                                                                        & 1                                                                                          & Endometriosis\\_Moderate/Severe                                                            & Homo sapiens                                                                               & tissue: Proliferative Endometrial tissue                                                   & endometriosis/no endometriosis: Endometriosis                                              & ⋯                                                                                          & Giudice Lab                                                                                & OBGYN and RS                                                                               & University of California, San Francisco                                                    & 513 Parnassus Ave. HSE 1619                                                                & San Francisco                                                                              & CA                                                                                         & 94122                                                                                      & USA                                                                                        & ftp://ftp.ncbi.nlm.nih.gov/geo/samples/GSM1256nnn/GSM1256655/suppl/GSM1256655\\_103.CEL.gz & 54675                                                                                     \\\\\n",
       "\tGSM1256656 & 132                                                                                        & Public on Oct 01 2014                                                                      & Nov 01 2013                                                                                & Oct 01 2014                                                                                & RNA                                                                                        & 1                                                                                          & Endometriosis\\_Moderate/Severe                                                            & Homo sapiens                                                                               & tissue: Mid-Secretory Endometrial tissue                                                   & endometriosis/no endometriosis: Endometriosis                                              & ⋯                                                                                          & Giudice Lab                                                                                & OBGYN and RS                                                                               & University of California, San Francisco                                                    & 513 Parnassus Ave. HSE 1619                                                                & San Francisco                                                                              & CA                                                                                         & 94122                                                                                      & USA                                                                                        & ftp://ftp.ncbi.nlm.nih.gov/geo/samples/GSM1256nnn/GSM1256656/suppl/GSM1256656\\_132.CEL.gz & 54675                                                                                     \\\\\n",
       "\tGSM1256657 & 119                                                                                        & Public on Oct 01 2014                                                                      & Nov 01 2013                                                                                & Oct 01 2014                                                                                & RNA                                                                                        & 1                                                                                          & Endometriosis\\_Moderate/Severe                                                            & Homo sapiens                                                                               & tissue: Early Secretory Endometrial tissue                                                 & endometriosis/no endometriosis: Endometriosis                                              & ⋯                                                                                          & Giudice Lab                                                                                & OBGYN and RS                                                                               & University of California, San Francisco                                                    & 513 Parnassus Ave. HSE 1619                                                                & San Francisco                                                                              & CA                                                                                         & 94122                                                                                      & USA                                                                                        & ftp://ftp.ncbi.nlm.nih.gov/geo/samples/GSM1256nnn/GSM1256657/suppl/GSM1256657\\_119.CEL.gz & 54675                                                                                     \\\\\n",
       "\tGSM1256658 & 133                                                                                        & Public on Oct 01 2014                                                                      & Nov 01 2013                                                                                & Oct 01 2014                                                                                & RNA                                                                                        & 1                                                                                          & Endometriosis\\_Moderate/Severe                                                            & Homo sapiens                                                                               & tissue: Mid-Secretory Endometrial tissue                                                   & endometriosis/no endometriosis: Endometriosis                                              & ⋯                                                                                          & Giudice Lab                                                                                & OBGYN and RS                                                                               & University of California, San Francisco                                                    & 513 Parnassus Ave. HSE 1619                                                                & San Francisco                                                                              & CA                                                                                         & 94122                                                                                      & USA                                                                                        & ftp://ftp.ncbi.nlm.nih.gov/geo/samples/GSM1256nnn/GSM1256658/suppl/GSM1256658\\_133.CEL.gz & 54675                                                                                     \\\\\n",
       "\\end{tabular}\n"
      ],
      "text/markdown": [
       "\n",
       "| <!--/--> | Sample_title | Sample_status | Sample_submission_date | Sample_last_update_date | Sample_type | Sample_channel_count | Sample_source_name_ch1 | Sample_organism_ch1 | Sample_characteristics_ch1_1 | Sample_characteristics_ch1_2 | ⋯ | Sample_contact_laboratory | Sample_contact_department | Sample_contact_institute | Sample_contact_address | Sample_contact_city | Sample_contact_state | Sample_contact_zip/postal_code | Sample_contact_country | Sample_supplementary_file | Sample_data_row_count | \n",
       "|---|---|---|---|---|---|\n",
       "| GSM1256653 | 123                                                                                      | Public on Oct 01 2014                                                                    | Nov 01 2013                                                                              | Oct 01 2014                                                                              | RNA                                                                                      | 1                                                                                        | Endometriosis_Moderate/Severe                                                            | Homo sapiens                                                                             | tissue: Early Secretory Endometrial tissue                                               | endometriosis/no endometriosis: Endometriosis                                            | ⋯                                                                                        | Giudice Lab                                                                              | OBGYN and RS                                                                             | University of California, San Francisco                                                  | 513 Parnassus Ave. HSE 1619                                                              | San Francisco                                                                            | CA                                                                                       | 94122                                                                                    | USA                                                                                      | ftp://ftp.ncbi.nlm.nih.gov/geo/samples/GSM1256nnn/GSM1256653/suppl/GSM1256653_123.CEL.gz | 54675                                                                                    | \n",
       "| GSM1256654 | 118                                                                                      | Public on Oct 01 2014                                                                    | Nov 01 2013                                                                              | Oct 01 2014                                                                              | RNA                                                                                      | 1                                                                                        | Endometriosis_Moderate/Severe                                                            | Homo sapiens                                                                             | tissue: Early Secretory Endometrial tissue                                               | endometriosis/no endometriosis: Endometriosis                                            | ⋯                                                                                        | Giudice Lab                                                                              | OBGYN and RS                                                                             | University of California, San Francisco                                                  | 513 Parnassus Ave. HSE 1619                                                              | San Francisco                                                                            | CA                                                                                       | 94122                                                                                    | USA                                                                                      | ftp://ftp.ncbi.nlm.nih.gov/geo/samples/GSM1256nnn/GSM1256654/suppl/GSM1256654_118.CEL.gz | 54675                                                                                    | \n",
       "| GSM1256655 | 103                                                                                      | Public on Oct 01 2014                                                                    | Nov 01 2013                                                                              | Oct 01 2014                                                                              | RNA                                                                                      | 1                                                                                        | Endometriosis_Moderate/Severe                                                            | Homo sapiens                                                                             | tissue: Proliferative Endometrial tissue                                                 | endometriosis/no endometriosis: Endometriosis                                            | ⋯                                                                                        | Giudice Lab                                                                              | OBGYN and RS                                                                             | University of California, San Francisco                                                  | 513 Parnassus Ave. HSE 1619                                                              | San Francisco                                                                            | CA                                                                                       | 94122                                                                                    | USA                                                                                      | ftp://ftp.ncbi.nlm.nih.gov/geo/samples/GSM1256nnn/GSM1256655/suppl/GSM1256655_103.CEL.gz | 54675                                                                                    | \n",
       "| GSM1256656 | 132                                                                                      | Public on Oct 01 2014                                                                    | Nov 01 2013                                                                              | Oct 01 2014                                                                              | RNA                                                                                      | 1                                                                                        | Endometriosis_Moderate/Severe                                                            | Homo sapiens                                                                             | tissue: Mid-Secretory Endometrial tissue                                                 | endometriosis/no endometriosis: Endometriosis                                            | ⋯                                                                                        | Giudice Lab                                                                              | OBGYN and RS                                                                             | University of California, San Francisco                                                  | 513 Parnassus Ave. HSE 1619                                                              | San Francisco                                                                            | CA                                                                                       | 94122                                                                                    | USA                                                                                      | ftp://ftp.ncbi.nlm.nih.gov/geo/samples/GSM1256nnn/GSM1256656/suppl/GSM1256656_132.CEL.gz | 54675                                                                                    | \n",
       "| GSM1256657 | 119                                                                                      | Public on Oct 01 2014                                                                    | Nov 01 2013                                                                              | Oct 01 2014                                                                              | RNA                                                                                      | 1                                                                                        | Endometriosis_Moderate/Severe                                                            | Homo sapiens                                                                             | tissue: Early Secretory Endometrial tissue                                               | endometriosis/no endometriosis: Endometriosis                                            | ⋯                                                                                        | Giudice Lab                                                                              | OBGYN and RS                                                                             | University of California, San Francisco                                                  | 513 Parnassus Ave. HSE 1619                                                              | San Francisco                                                                            | CA                                                                                       | 94122                                                                                    | USA                                                                                      | ftp://ftp.ncbi.nlm.nih.gov/geo/samples/GSM1256nnn/GSM1256657/suppl/GSM1256657_119.CEL.gz | 54675                                                                                    | \n",
       "| GSM1256658 | 133                                                                                      | Public on Oct 01 2014                                                                    | Nov 01 2013                                                                              | Oct 01 2014                                                                              | RNA                                                                                      | 1                                                                                        | Endometriosis_Moderate/Severe                                                            | Homo sapiens                                                                             | tissue: Mid-Secretory Endometrial tissue                                                 | endometriosis/no endometriosis: Endometriosis                                            | ⋯                                                                                        | Giudice Lab                                                                              | OBGYN and RS                                                                             | University of California, San Francisco                                                  | 513 Parnassus Ave. HSE 1619                                                              | San Francisco                                                                            | CA                                                                                       | 94122                                                                                    | USA                                                                                      | ftp://ftp.ncbi.nlm.nih.gov/geo/samples/GSM1256nnn/GSM1256658/suppl/GSM1256658_133.CEL.gz | 54675                                                                                    | \n",
       "\n",
       "\n"
      ],
      "text/plain": [
       "           Sample_title Sample_status         Sample_submission_date\n",
       "GSM1256653 123          Public on Oct 01 2014 Nov 01 2013           \n",
       "GSM1256654 118          Public on Oct 01 2014 Nov 01 2013           \n",
       "GSM1256655 103          Public on Oct 01 2014 Nov 01 2013           \n",
       "GSM1256656 132          Public on Oct 01 2014 Nov 01 2013           \n",
       "GSM1256657 119          Public on Oct 01 2014 Nov 01 2013           \n",
       "GSM1256658 133          Public on Oct 01 2014 Nov 01 2013           \n",
       "           Sample_last_update_date Sample_type Sample_channel_count\n",
       "GSM1256653 Oct 01 2014             RNA         1                   \n",
       "GSM1256654 Oct 01 2014             RNA         1                   \n",
       "GSM1256655 Oct 01 2014             RNA         1                   \n",
       "GSM1256656 Oct 01 2014             RNA         1                   \n",
       "GSM1256657 Oct 01 2014             RNA         1                   \n",
       "GSM1256658 Oct 01 2014             RNA         1                   \n",
       "           Sample_source_name_ch1        Sample_organism_ch1\n",
       "GSM1256653 Endometriosis_Moderate/Severe Homo sapiens       \n",
       "GSM1256654 Endometriosis_Moderate/Severe Homo sapiens       \n",
       "GSM1256655 Endometriosis_Moderate/Severe Homo sapiens       \n",
       "GSM1256656 Endometriosis_Moderate/Severe Homo sapiens       \n",
       "GSM1256657 Endometriosis_Moderate/Severe Homo sapiens       \n",
       "GSM1256658 Endometriosis_Moderate/Severe Homo sapiens       \n",
       "           Sample_characteristics_ch1_1              \n",
       "GSM1256653 tissue: Early Secretory Endometrial tissue\n",
       "GSM1256654 tissue: Early Secretory Endometrial tissue\n",
       "GSM1256655 tissue: Proliferative Endometrial tissue  \n",
       "GSM1256656 tissue: Mid-Secretory Endometrial tissue  \n",
       "GSM1256657 tissue: Early Secretory Endometrial tissue\n",
       "GSM1256658 tissue: Mid-Secretory Endometrial tissue  \n",
       "           Sample_characteristics_ch1_2                  ⋯\n",
       "GSM1256653 endometriosis/no endometriosis: Endometriosis ⋯\n",
       "GSM1256654 endometriosis/no endometriosis: Endometriosis ⋯\n",
       "GSM1256655 endometriosis/no endometriosis: Endometriosis ⋯\n",
       "GSM1256656 endometriosis/no endometriosis: Endometriosis ⋯\n",
       "GSM1256657 endometriosis/no endometriosis: Endometriosis ⋯\n",
       "GSM1256658 endometriosis/no endometriosis: Endometriosis ⋯\n",
       "           Sample_contact_laboratory Sample_contact_department\n",
       "GSM1256653 Giudice Lab               OBGYN and RS             \n",
       "GSM1256654 Giudice Lab               OBGYN and RS             \n",
       "GSM1256655 Giudice Lab               OBGYN and RS             \n",
       "GSM1256656 Giudice Lab               OBGYN and RS             \n",
       "GSM1256657 Giudice Lab               OBGYN and RS             \n",
       "GSM1256658 Giudice Lab               OBGYN and RS             \n",
       "           Sample_contact_institute                Sample_contact_address     \n",
       "GSM1256653 University of California, San Francisco 513 Parnassus Ave. HSE 1619\n",
       "GSM1256654 University of California, San Francisco 513 Parnassus Ave. HSE 1619\n",
       "GSM1256655 University of California, San Francisco 513 Parnassus Ave. HSE 1619\n",
       "GSM1256656 University of California, San Francisco 513 Parnassus Ave. HSE 1619\n",
       "GSM1256657 University of California, San Francisco 513 Parnassus Ave. HSE 1619\n",
       "GSM1256658 University of California, San Francisco 513 Parnassus Ave. HSE 1619\n",
       "           Sample_contact_city Sample_contact_state\n",
       "GSM1256653 San Francisco       CA                  \n",
       "GSM1256654 San Francisco       CA                  \n",
       "GSM1256655 San Francisco       CA                  \n",
       "GSM1256656 San Francisco       CA                  \n",
       "GSM1256657 San Francisco       CA                  \n",
       "GSM1256658 San Francisco       CA                  \n",
       "           Sample_contact_zip/postal_code Sample_contact_country\n",
       "GSM1256653 94122                          USA                   \n",
       "GSM1256654 94122                          USA                   \n",
       "GSM1256655 94122                          USA                   \n",
       "GSM1256656 94122                          USA                   \n",
       "GSM1256657 94122                          USA                   \n",
       "GSM1256658 94122                          USA                   \n",
       "           Sample_supplementary_file                                                               \n",
       "GSM1256653 ftp://ftp.ncbi.nlm.nih.gov/geo/samples/GSM1256nnn/GSM1256653/suppl/GSM1256653_123.CEL.gz\n",
       "GSM1256654 ftp://ftp.ncbi.nlm.nih.gov/geo/samples/GSM1256nnn/GSM1256654/suppl/GSM1256654_118.CEL.gz\n",
       "GSM1256655 ftp://ftp.ncbi.nlm.nih.gov/geo/samples/GSM1256nnn/GSM1256655/suppl/GSM1256655_103.CEL.gz\n",
       "GSM1256656 ftp://ftp.ncbi.nlm.nih.gov/geo/samples/GSM1256nnn/GSM1256656/suppl/GSM1256656_132.CEL.gz\n",
       "GSM1256657 ftp://ftp.ncbi.nlm.nih.gov/geo/samples/GSM1256nnn/GSM1256657/suppl/GSM1256657_119.CEL.gz\n",
       "GSM1256658 ftp://ftp.ncbi.nlm.nih.gov/geo/samples/GSM1256nnn/GSM1256658/suppl/GSM1256658_133.CEL.gz\n",
       "           Sample_data_row_count\n",
       "GSM1256653 54675                \n",
       "GSM1256654 54675                \n",
       "GSM1256655 54675                \n",
       "GSM1256656 54675                \n",
       "GSM1256657 54675                \n",
       "GSM1256658 54675                "
      ]
     },
     "metadata": {},
     "output_type": "display_data"
    }
   ],
   "source": [
    "head(metadata)"
   ]
  },
  {
   "cell_type": "code",
   "execution_count": 12,
   "metadata": {},
   "outputs": [
    {
     "data": {
      "text/html": [
       "<ol class=list-inline>\n",
       "\t<li>'Sample_title'</li>\n",
       "\t<li>'Sample_status'</li>\n",
       "\t<li>'Sample_submission_date'</li>\n",
       "\t<li>'Sample_last_update_date'</li>\n",
       "\t<li>'Sample_type'</li>\n",
       "\t<li>'Sample_channel_count'</li>\n",
       "\t<li>'Sample_source_name_ch1'</li>\n",
       "\t<li>'Sample_organism_ch1'</li>\n",
       "\t<li>'Sample_characteristics_ch1_1'</li>\n",
       "\t<li>'Sample_characteristics_ch1_2'</li>\n",
       "\t<li>'Sample_characteristics_ch1_3'</li>\n",
       "\t<li>'Sample_molecule_ch1'</li>\n",
       "\t<li>'Sample_extract_protocol_ch1'</li>\n",
       "\t<li>'Sample_label_ch1'</li>\n",
       "\t<li>'Sample_label_protocol_ch1'</li>\n",
       "\t<li>'Sample_taxid_ch1'</li>\n",
       "\t<li>'Sample_hyb_protocol'</li>\n",
       "\t<li>'Sample_scan_protocol'</li>\n",
       "\t<li>'Sample_description'</li>\n",
       "\t<li>'Sample_data_processing'</li>\n",
       "\t<li>'Sample_platform_id'</li>\n",
       "\t<li>'Sample_contact_name'</li>\n",
       "\t<li>'Sample_contact_email'</li>\n",
       "\t<li>'Sample_contact_phone'</li>\n",
       "\t<li>'Sample_contact_laboratory'</li>\n",
       "\t<li>'Sample_contact_department'</li>\n",
       "\t<li>'Sample_contact_institute'</li>\n",
       "\t<li>'Sample_contact_address'</li>\n",
       "\t<li>'Sample_contact_city'</li>\n",
       "\t<li>'Sample_contact_state'</li>\n",
       "\t<li>'Sample_contact_zip/postal_code'</li>\n",
       "\t<li>'Sample_contact_country'</li>\n",
       "\t<li>'Sample_supplementary_file'</li>\n",
       "\t<li>'Sample_data_row_count'</li>\n",
       "</ol>\n"
      ],
      "text/latex": [
       "\\begin{enumerate*}\n",
       "\\item 'Sample\\_title'\n",
       "\\item 'Sample\\_status'\n",
       "\\item 'Sample\\_submission\\_date'\n",
       "\\item 'Sample\\_last\\_update\\_date'\n",
       "\\item 'Sample\\_type'\n",
       "\\item 'Sample\\_channel\\_count'\n",
       "\\item 'Sample\\_source\\_name\\_ch1'\n",
       "\\item 'Sample\\_organism\\_ch1'\n",
       "\\item 'Sample\\_characteristics\\_ch1\\_1'\n",
       "\\item 'Sample\\_characteristics\\_ch1\\_2'\n",
       "\\item 'Sample\\_characteristics\\_ch1\\_3'\n",
       "\\item 'Sample\\_molecule\\_ch1'\n",
       "\\item 'Sample\\_extract\\_protocol\\_ch1'\n",
       "\\item 'Sample\\_label\\_ch1'\n",
       "\\item 'Sample\\_label\\_protocol\\_ch1'\n",
       "\\item 'Sample\\_taxid\\_ch1'\n",
       "\\item 'Sample\\_hyb\\_protocol'\n",
       "\\item 'Sample\\_scan\\_protocol'\n",
       "\\item 'Sample\\_description'\n",
       "\\item 'Sample\\_data\\_processing'\n",
       "\\item 'Sample\\_platform\\_id'\n",
       "\\item 'Sample\\_contact\\_name'\n",
       "\\item 'Sample\\_contact\\_email'\n",
       "\\item 'Sample\\_contact\\_phone'\n",
       "\\item 'Sample\\_contact\\_laboratory'\n",
       "\\item 'Sample\\_contact\\_department'\n",
       "\\item 'Sample\\_contact\\_institute'\n",
       "\\item 'Sample\\_contact\\_address'\n",
       "\\item 'Sample\\_contact\\_city'\n",
       "\\item 'Sample\\_contact\\_state'\n",
       "\\item 'Sample\\_contact\\_zip/postal\\_code'\n",
       "\\item 'Sample\\_contact\\_country'\n",
       "\\item 'Sample\\_supplementary\\_file'\n",
       "\\item 'Sample\\_data\\_row\\_count'\n",
       "\\end{enumerate*}\n"
      ],
      "text/markdown": [
       "1. 'Sample_title'\n",
       "2. 'Sample_status'\n",
       "3. 'Sample_submission_date'\n",
       "4. 'Sample_last_update_date'\n",
       "5. 'Sample_type'\n",
       "6. 'Sample_channel_count'\n",
       "7. 'Sample_source_name_ch1'\n",
       "8. 'Sample_organism_ch1'\n",
       "9. 'Sample_characteristics_ch1_1'\n",
       "10. 'Sample_characteristics_ch1_2'\n",
       "11. 'Sample_characteristics_ch1_3'\n",
       "12. 'Sample_molecule_ch1'\n",
       "13. 'Sample_extract_protocol_ch1'\n",
       "14. 'Sample_label_ch1'\n",
       "15. 'Sample_label_protocol_ch1'\n",
       "16. 'Sample_taxid_ch1'\n",
       "17. 'Sample_hyb_protocol'\n",
       "18. 'Sample_scan_protocol'\n",
       "19. 'Sample_description'\n",
       "20. 'Sample_data_processing'\n",
       "21. 'Sample_platform_id'\n",
       "22. 'Sample_contact_name'\n",
       "23. 'Sample_contact_email'\n",
       "24. 'Sample_contact_phone'\n",
       "25. 'Sample_contact_laboratory'\n",
       "26. 'Sample_contact_department'\n",
       "27. 'Sample_contact_institute'\n",
       "28. 'Sample_contact_address'\n",
       "29. 'Sample_contact_city'\n",
       "30. 'Sample_contact_state'\n",
       "31. 'Sample_contact_zip/postal_code'\n",
       "32. 'Sample_contact_country'\n",
       "33. 'Sample_supplementary_file'\n",
       "34. 'Sample_data_row_count'\n",
       "\n",
       "\n"
      ],
      "text/plain": [
       " [1] \"Sample_title\"                   \"Sample_status\"                 \n",
       " [3] \"Sample_submission_date\"         \"Sample_last_update_date\"       \n",
       " [5] \"Sample_type\"                    \"Sample_channel_count\"          \n",
       " [7] \"Sample_source_name_ch1\"         \"Sample_organism_ch1\"           \n",
       " [9] \"Sample_characteristics_ch1_1\"   \"Sample_characteristics_ch1_2\"  \n",
       "[11] \"Sample_characteristics_ch1_3\"   \"Sample_molecule_ch1\"           \n",
       "[13] \"Sample_extract_protocol_ch1\"    \"Sample_label_ch1\"              \n",
       "[15] \"Sample_label_protocol_ch1\"      \"Sample_taxid_ch1\"              \n",
       "[17] \"Sample_hyb_protocol\"            \"Sample_scan_protocol\"          \n",
       "[19] \"Sample_description\"             \"Sample_data_processing\"        \n",
       "[21] \"Sample_platform_id\"             \"Sample_contact_name\"           \n",
       "[23] \"Sample_contact_email\"           \"Sample_contact_phone\"          \n",
       "[25] \"Sample_contact_laboratory\"      \"Sample_contact_department\"     \n",
       "[27] \"Sample_contact_institute\"       \"Sample_contact_address\"        \n",
       "[29] \"Sample_contact_city\"            \"Sample_contact_state\"          \n",
       "[31] \"Sample_contact_zip/postal_code\" \"Sample_contact_country\"        \n",
       "[33] \"Sample_supplementary_file\"      \"Sample_data_row_count\"         "
      ]
     },
     "metadata": {},
     "output_type": "display_data"
    }
   ],
   "source": [
    "names(metadata)"
   ]
  },
  {
   "cell_type": "code",
   "execution_count": 13,
   "metadata": {},
   "outputs": [],
   "source": [
    "desired_metadata <- metadata %>% select(Sample_characteristics_ch1_1, Sample_characteristics_ch1_2, Sample_characteristics_ch1_3)\n",
    "# desired_metadata"
   ]
  },
  {
   "cell_type": "code",
   "execution_count": 14,
   "metadata": {},
   "outputs": [],
   "source": [
    "desired_metadata <- desired_metadata %>% rename(tissue=Sample_characteristics_ch1_1,\n",
    "                            endometriosis=Sample_characteristics_ch1_2,\n",
    "                            severity=Sample_characteristics_ch1_3)"
   ]
  },
  {
   "cell_type": "code",
   "execution_count": 15,
   "metadata": {},
   "outputs": [],
   "source": [
    "desired_metadata$tissue <- gsub(\"tissue: \", \"\", desired_metadata$tissue)"
   ]
  },
  {
   "cell_type": "code",
   "execution_count": 16,
   "metadata": {},
   "outputs": [],
   "source": [
    "desired_metadata$endometriosis <- gsub(\"endometriosis/no endometriosis: \", \"\", desired_metadata$endometriosis)"
   ]
  },
  {
   "cell_type": "code",
   "execution_count": 62,
   "metadata": {},
   "outputs": [],
   "source": [
    "desired_metadata$severity <- gsub(\"endometriosis severity: \", \"\", desired_metadata$severity)\n",
    "desired_metadata$severity <- gsub(\"presence or absence of uterine/pelvic pathology: \", \"\", desired_metadata$severity)"
   ]
  },
  {
   "cell_type": "code",
   "execution_count": 63,
   "metadata": {},
   "outputs": [
    {
     "data": {
      "text/html": [
       "<table>\n",
       "<thead><tr><th></th><th scope=col>tissue</th><th scope=col>endometriosis</th><th scope=col>severity</th></tr></thead>\n",
       "<tbody>\n",
       "\t<tr><th scope=row>GSM1256653</th><td>Early Secretory Endometrial tissue</td><td>Endometriosis                     </td><td>Moderate/Severe                   </td></tr>\n",
       "\t<tr><th scope=row>GSM1256654</th><td>Early Secretory Endometrial tissue</td><td>Endometriosis                     </td><td>Moderate/Severe                   </td></tr>\n",
       "\t<tr><th scope=row>GSM1256655</th><td>Proliferative Endometrial tissue  </td><td>Endometriosis                     </td><td>Moderate/Severe                   </td></tr>\n",
       "\t<tr><th scope=row>GSM1256656</th><td>Mid-Secretory Endometrial tissue  </td><td>Endometriosis                     </td><td>Moderate/Severe                   </td></tr>\n",
       "\t<tr><th scope=row>GSM1256657</th><td>Early Secretory Endometrial tissue</td><td>Endometriosis                     </td><td>Moderate/Severe                   </td></tr>\n",
       "\t<tr><th scope=row>GSM1256658</th><td>Mid-Secretory Endometrial tissue  </td><td>Endometriosis                     </td><td>Moderate/Severe                   </td></tr>\n",
       "</tbody>\n",
       "</table>\n"
      ],
      "text/latex": [
       "\\begin{tabular}{r|lll}\n",
       "  & tissue & endometriosis & severity\\\\\n",
       "\\hline\n",
       "\tGSM1256653 & Early Secretory Endometrial tissue & Endometriosis                      & Moderate/Severe                   \\\\\n",
       "\tGSM1256654 & Early Secretory Endometrial tissue & Endometriosis                      & Moderate/Severe                   \\\\\n",
       "\tGSM1256655 & Proliferative Endometrial tissue   & Endometriosis                      & Moderate/Severe                   \\\\\n",
       "\tGSM1256656 & Mid-Secretory Endometrial tissue   & Endometriosis                      & Moderate/Severe                   \\\\\n",
       "\tGSM1256657 & Early Secretory Endometrial tissue & Endometriosis                      & Moderate/Severe                   \\\\\n",
       "\tGSM1256658 & Mid-Secretory Endometrial tissue   & Endometriosis                      & Moderate/Severe                   \\\\\n",
       "\\end{tabular}\n"
      ],
      "text/markdown": [
       "\n",
       "| <!--/--> | tissue | endometriosis | severity | \n",
       "|---|---|---|---|---|---|\n",
       "| GSM1256653 | Early Secretory Endometrial tissue | Endometriosis                      | Moderate/Severe                    | \n",
       "| GSM1256654 | Early Secretory Endometrial tissue | Endometriosis                      | Moderate/Severe                    | \n",
       "| GSM1256655 | Proliferative Endometrial tissue   | Endometriosis                      | Moderate/Severe                    | \n",
       "| GSM1256656 | Mid-Secretory Endometrial tissue   | Endometriosis                      | Moderate/Severe                    | \n",
       "| GSM1256657 | Early Secretory Endometrial tissue | Endometriosis                      | Moderate/Severe                    | \n",
       "| GSM1256658 | Mid-Secretory Endometrial tissue   | Endometriosis                      | Moderate/Severe                    | \n",
       "\n",
       "\n"
      ],
      "text/plain": [
       "           tissue                             endometriosis severity       \n",
       "GSM1256653 Early Secretory Endometrial tissue Endometriosis Moderate/Severe\n",
       "GSM1256654 Early Secretory Endometrial tissue Endometriosis Moderate/Severe\n",
       "GSM1256655 Proliferative Endometrial tissue   Endometriosis Moderate/Severe\n",
       "GSM1256656 Mid-Secretory Endometrial tissue   Endometriosis Moderate/Severe\n",
       "GSM1256657 Early Secretory Endometrial tissue Endometriosis Moderate/Severe\n",
       "GSM1256658 Mid-Secretory Endometrial tissue   Endometriosis Moderate/Severe"
      ]
     },
     "metadata": {},
     "output_type": "display_data"
    }
   ],
   "source": [
    "head(desired_metadata)"
   ]
  },
  {
   "cell_type": "code",
   "execution_count": 107,
   "metadata": {},
   "outputs": [],
   "source": [
    "# write.csv(desired_metadata, \"../../data/clean/metadata.csv\")"
   ]
  },
  {
   "cell_type": "markdown",
   "metadata": {},
   "source": [
    "# How big is this dataset?"
   ]
  },
  {
   "cell_type": "code",
   "execution_count": 30,
   "metadata": {},
   "outputs": [
    {
     "data": {
      "text/html": [
       "<ol class=list-inline>\n",
       "\t<li>148</li>\n",
       "\t<li>54675</li>\n",
       "</ol>\n"
      ],
      "text/latex": [
       "\\begin{enumerate*}\n",
       "\\item 148\n",
       "\\item 54675\n",
       "\\end{enumerate*}\n"
      ],
      "text/markdown": [
       "1. 148\n",
       "2. 54675\n",
       "\n",
       "\n"
      ],
      "text/plain": [
       "[1]   148 54675"
      ]
     },
     "metadata": {},
     "output_type": "display_data"
    }
   ],
   "source": [
    "series <- test\n",
    "dim(test)"
   ]
  },
  {
   "cell_type": "markdown",
   "metadata": {},
   "source": [
    "As stated in the study, **n=148**."
   ]
  },
  {
   "cell_type": "code",
   "execution_count": 94,
   "metadata": {},
   "outputs": [
    {
     "data": {
      "text/plain": [
       "             severity\n",
       "endometriosis Minimal/Mild Moderate/Severe No UPP UPP\n",
       "      Absent             0               0     34  37\n",
       "      Present           28              49      0   0"
      ]
     },
     "metadata": {},
     "output_type": "display_data"
    }
   ],
   "source": [
    "table(desired_metadata_2[,2:3])"
   ]
  },
  {
   "cell_type": "markdown",
   "metadata": {},
   "source": [
    "# Merging"
   ]
  },
  {
   "cell_type": "markdown",
   "metadata": {},
   "source": [
    "I will merge the dataset, but you may just simply want to work on series alone then add in metadata later."
   ]
  },
  {
   "cell_type": "code",
   "execution_count": 108,
   "metadata": {},
   "outputs": [],
   "source": [
    "merged_df <- merge(desired_metadata, test, by=0, all=TRUE)"
   ]
  },
  {
   "cell_type": "code",
   "execution_count": 109,
   "metadata": {},
   "outputs": [],
   "source": [
    "names(merged_df)[1] <- \"sample\""
   ]
  },
  {
   "cell_type": "code",
   "execution_count": 110,
   "metadata": {
    "scrolled": true
   },
   "outputs": [
    {
     "name": "stderr",
     "output_type": "stream",
     "text": [
      "ERROR while rich displaying an object: Error in sprintf(wrap, header, body): 'fmt' length exceeds maximal format length 8192\n",
      "\n",
      "Traceback:\n",
      "1. FUN(X[[i]], ...)\n",
      "2. tryCatch(withCallingHandlers({\n",
      " .     rpr <- mime2repr[[mime]](obj)\n",
      " .     if (is.null(rpr)) \n",
      " .         return(NULL)\n",
      " .     prepare_content(is.raw(rpr), rpr)\n",
      " . }, error = error_handler), error = outer_handler)\n",
      "3. tryCatchList(expr, classes, parentenv, handlers)\n",
      "4. tryCatchOne(expr, names, parentenv, handlers[[1L]])\n",
      "5. doTryCatch(return(expr), name, parentenv, handler)\n",
      "6. withCallingHandlers({\n",
      " .     rpr <- mime2repr[[mime]](obj)\n",
      " .     if (is.null(rpr)) \n",
      " .         return(NULL)\n",
      " .     prepare_content(is.raw(rpr), rpr)\n",
      " . }, error = error_handler)\n",
      "7. mime2repr[[mime]](obj)\n",
      "8. repr_latex.data.frame(obj)\n",
      "9. repr_matrix_generic(obj, sprintf(\"\\\\begin{tabular}{%s}\\n%%s%%s\\\\end{tabular}\\n\", \n",
      " .     cols), \"%s\\\\\\\\\\n\\\\hline\\n\", \"  &\", \" %s &\", \"%s\", \"\\t%s\\\\\\\\\\n\", \n",
      " .     \"%s &\", \" %s &\", escape_fun = latex_escape_vec, ...)\n",
      "10. sprintf(wrap, header, body)\n"
     ]
    },
    {
     "data": {
      "text/html": [
       "<table>\n",
       "<thead><tr><th scope=col>sample</th><th scope=col>tissue</th><th scope=col>endometriosis</th><th scope=col>severity</th><th scope=col>1007_s_at</th><th scope=col>1053_at</th><th scope=col>117_at</th><th scope=col>121_at</th><th scope=col>1255_g_at</th><th scope=col>1294_at</th><th scope=col>⋯</th><th scope=col>AFFX-r2-Ec-bioD-3_at</th><th scope=col>AFFX-r2-Ec-bioD-5_at</th><th scope=col>AFFX-r2-P1-cre-3_at</th><th scope=col>AFFX-r2-P1-cre-5_at</th><th scope=col>AFFX-ThrX-3_at</th><th scope=col>AFFX-ThrX-5_at</th><th scope=col>AFFX-ThrX-M_at</th><th scope=col>AFFX-TrpnX-3_at</th><th scope=col>AFFX-TrpnX-5_at</th><th scope=col>AFFX-TrpnX-M_at</th></tr></thead>\n",
       "<tbody>\n",
       "\t<tr><td>GSM1256653                        </td><td>Early Secretory Endometrial tissue</td><td>Endometriosis                     </td><td>Moderate/Severe                   </td><td> 9.142574                         </td><td> 6.829346                         </td><td> 2.415871                         </td><td> 9.034042                         </td><td> 2.236067                         </td><td> 4.555846                         </td><td>⋯                                 </td><td>14.133014                         </td><td>13.781970                         </td><td>15.691278                         </td><td>14.932762                         </td><td> 2.236067                         </td><td> 2.236067                         </td><td> 2.236067                         </td><td> 2.236067                         </td><td> 2.236067                         </td><td> 2.236067                         </td></tr>\n",
       "\t<tr><td>GSM1256654                        </td><td>Early Secretory Endometrial tissue</td><td>Endometriosis                     </td><td>Moderate/Severe                   </td><td> 9.063049                         </td><td> 7.241591                         </td><td> 2.481975                         </td><td> 9.148342                         </td><td> 2.236067                         </td><td> 4.395302                         </td><td>⋯                                 </td><td>14.949410                         </td><td>14.574480                         </td><td>16.250008                         </td><td>15.555548                         </td><td> 2.236067                         </td><td> 2.236067                         </td><td> 2.236067                         </td><td> 2.236067                         </td><td> 2.236067                         </td><td> 2.236067                         </td></tr>\n",
       "\t<tr><td>GSM1256655                        </td><td>Proliferative Endometrial tissue  </td><td>Endometriosis                     </td><td>Moderate/Severe                   </td><td> 8.371274                         </td><td> 6.217500                         </td><td> 3.000367                         </td><td> 8.194835                         </td><td> 2.236067                         </td><td> 4.262263                         </td><td>⋯                                 </td><td>15.102873                         </td><td>14.515896                         </td><td>16.552179                         </td><td>16.284248                         </td><td> 2.236067                         </td><td> 2.236067                         </td><td> 2.236067                         </td><td> 2.236067                         </td><td> 2.236067                         </td><td> 2.236067                         </td></tr>\n",
       "\t<tr><td>GSM1256656                        </td><td>Mid-Secretory Endometrial tissue  </td><td>Endometriosis                     </td><td>Moderate/Severe                   </td><td>10.328161                         </td><td> 5.956927                         </td><td> 2.481975                         </td><td>11.259729                         </td><td> 2.236067                         </td><td> 5.402881                         </td><td>⋯                                 </td><td>14.607170                         </td><td>14.378953                         </td><td>15.993253                         </td><td>15.217346                         </td><td> 2.236067                         </td><td> 2.236067                         </td><td> 2.236067                         </td><td> 2.236067                         </td><td> 2.236067                         </td><td> 2.236067                         </td></tr>\n",
       "\t<tr><td>GSM1256657                        </td><td>Early Secretory Endometrial tissue</td><td>Endometriosis                     </td><td>Moderate/Severe                   </td><td> 9.053309                         </td><td> 7.327925                         </td><td> 2.565015                         </td><td> 7.999834                         </td><td> 2.236067                         </td><td> 5.339464                         </td><td>⋯                                 </td><td>13.842043                         </td><td>13.569647                         </td><td>15.611547                         </td><td>15.146517                         </td><td> 2.236067                         </td><td> 2.236067                         </td><td> 2.236067                         </td><td> 2.236067                         </td><td> 2.236067                         </td><td> 2.236067                         </td></tr>\n",
       "\t<tr><td>GSM1256658                        </td><td>Mid-Secretory Endometrial tissue  </td><td>Endometriosis                     </td><td>Moderate/Severe                   </td><td> 9.826959                         </td><td> 6.756618                         </td><td> 3.424743                         </td><td>11.024787                         </td><td> 2.236067                         </td><td> 5.297131                         </td><td>⋯                                 </td><td>14.831271                         </td><td>14.319158                         </td><td>16.014199                         </td><td>15.330209                         </td><td> 2.236067                         </td><td> 2.236067                         </td><td> 2.236067                         </td><td> 2.236067                         </td><td> 2.236067                         </td><td> 2.236067                         </td></tr>\n",
       "</tbody>\n",
       "</table>\n"
      ],
      "text/markdown": [
       "\n",
       "sample | tissue | endometriosis | severity | 1007_s_at | 1053_at | 117_at | 121_at | 1255_g_at | 1294_at | ⋯ | AFFX-r2-Ec-bioD-3_at | AFFX-r2-Ec-bioD-5_at | AFFX-r2-P1-cre-3_at | AFFX-r2-P1-cre-5_at | AFFX-ThrX-3_at | AFFX-ThrX-5_at | AFFX-ThrX-M_at | AFFX-TrpnX-3_at | AFFX-TrpnX-5_at | AFFX-TrpnX-M_at | \n",
       "|---|---|---|---|---|---|\n",
       "| GSM1256653                         | Early Secretory Endometrial tissue | Endometriosis                      | Moderate/Severe                    |  9.142574                          |  6.829346                          |  2.415871                          |  9.034042                          |  2.236067                          |  4.555846                          | ⋯                                  | 14.133014                          | 13.781970                          | 15.691278                          | 14.932762                          |  2.236067                          |  2.236067                          |  2.236067                          |  2.236067                          |  2.236067                          |  2.236067                          | \n",
       "| GSM1256654                         | Early Secretory Endometrial tissue | Endometriosis                      | Moderate/Severe                    |  9.063049                          |  7.241591                          |  2.481975                          |  9.148342                          |  2.236067                          |  4.395302                          | ⋯                                  | 14.949410                          | 14.574480                          | 16.250008                          | 15.555548                          |  2.236067                          |  2.236067                          |  2.236067                          |  2.236067                          |  2.236067                          |  2.236067                          | \n",
       "| GSM1256655                         | Proliferative Endometrial tissue   | Endometriosis                      | Moderate/Severe                    |  8.371274                          |  6.217500                          |  3.000367                          |  8.194835                          |  2.236067                          |  4.262263                          | ⋯                                  | 15.102873                          | 14.515896                          | 16.552179                          | 16.284248                          |  2.236067                          |  2.236067                          |  2.236067                          |  2.236067                          |  2.236067                          |  2.236067                          | \n",
       "| GSM1256656                         | Mid-Secretory Endometrial tissue   | Endometriosis                      | Moderate/Severe                    | 10.328161                          |  5.956927                          |  2.481975                          | 11.259729                          |  2.236067                          |  5.402881                          | ⋯                                  | 14.607170                          | 14.378953                          | 15.993253                          | 15.217346                          |  2.236067                          |  2.236067                          |  2.236067                          |  2.236067                          |  2.236067                          |  2.236067                          | \n",
       "| GSM1256657                         | Early Secretory Endometrial tissue | Endometriosis                      | Moderate/Severe                    |  9.053309                          |  7.327925                          |  2.565015                          |  7.999834                          |  2.236067                          |  5.339464                          | ⋯                                  | 13.842043                          | 13.569647                          | 15.611547                          | 15.146517                          |  2.236067                          |  2.236067                          |  2.236067                          |  2.236067                          |  2.236067                          |  2.236067                          | \n",
       "| GSM1256658                         | Mid-Secretory Endometrial tissue   | Endometriosis                      | Moderate/Severe                    |  9.826959                          |  6.756618                          |  3.424743                          | 11.024787                          |  2.236067                          |  5.297131                          | ⋯                                  | 14.831271                          | 14.319158                          | 16.014199                          | 15.330209                          |  2.236067                          |  2.236067                          |  2.236067                          |  2.236067                          |  2.236067                          |  2.236067                          | \n",
       "\n",
       "\n"
      ],
      "text/plain": [
       "  sample     tissue                             endometriosis severity       \n",
       "1 GSM1256653 Early Secretory Endometrial tissue Endometriosis Moderate/Severe\n",
       "2 GSM1256654 Early Secretory Endometrial tissue Endometriosis Moderate/Severe\n",
       "3 GSM1256655 Proliferative Endometrial tissue   Endometriosis Moderate/Severe\n",
       "4 GSM1256656 Mid-Secretory Endometrial tissue   Endometriosis Moderate/Severe\n",
       "5 GSM1256657 Early Secretory Endometrial tissue Endometriosis Moderate/Severe\n",
       "6 GSM1256658 Mid-Secretory Endometrial tissue   Endometriosis Moderate/Severe\n",
       "  1007_s_at 1053_at   117_at    121_at    1255_g_at 1294_at   ⋯\n",
       "1  9.142574  6.829346  2.415871  9.034042  2.236067  4.555846 ⋯\n",
       "2  9.063049  7.241591  2.481975  9.148342  2.236067  4.395302 ⋯\n",
       "3  8.371274  6.217500  3.000367  8.194835  2.236067  4.262263 ⋯\n",
       "4 10.328161  5.956927  2.481975 11.259729  2.236067  5.402881 ⋯\n",
       "5  9.053309  7.327925  2.565015  7.999834  2.236067  5.339464 ⋯\n",
       "6  9.826959  6.756618  3.424743 11.024787  2.236067  5.297131 ⋯\n",
       "  AFFX-r2-Ec-bioD-3_at AFFX-r2-Ec-bioD-5_at AFFX-r2-P1-cre-3_at\n",
       "1 14.133014            13.781970            15.691278          \n",
       "2 14.949410            14.574480            16.250008          \n",
       "3 15.102873            14.515896            16.552179          \n",
       "4 14.607170            14.378953            15.993253          \n",
       "5 13.842043            13.569647            15.611547          \n",
       "6 14.831271            14.319158            16.014199          \n",
       "  AFFX-r2-P1-cre-5_at AFFX-ThrX-3_at AFFX-ThrX-5_at AFFX-ThrX-M_at\n",
       "1 14.932762            2.236067       2.236067       2.236067     \n",
       "2 15.555548            2.236067       2.236067       2.236067     \n",
       "3 16.284248            2.236067       2.236067       2.236067     \n",
       "4 15.217346            2.236067       2.236067       2.236067     \n",
       "5 15.146517            2.236067       2.236067       2.236067     \n",
       "6 15.330209            2.236067       2.236067       2.236067     \n",
       "  AFFX-TrpnX-3_at AFFX-TrpnX-5_at AFFX-TrpnX-M_at\n",
       "1  2.236067        2.236067        2.236067      \n",
       "2  2.236067        2.236067        2.236067      \n",
       "3  2.236067        2.236067        2.236067      \n",
       "4  2.236067        2.236067        2.236067      \n",
       "5  2.236067        2.236067        2.236067      \n",
       "6  2.236067        2.236067        2.236067      "
      ]
     },
     "metadata": {},
     "output_type": "display_data"
    }
   ],
   "source": [
    "head(merged_df)"
   ]
  },
  {
   "cell_type": "markdown",
   "metadata": {},
   "source": [
    "We can now play around with this use `dplyr` or the like."
   ]
  },
  {
   "cell_type": "code",
   "execution_count": 111,
   "metadata": {},
   "outputs": [],
   "source": [
    "# write.csv(merged_df, \"../../data/clean/endometriosis.csv\")"
   ]
  },
  {
   "cell_type": "markdown",
   "metadata": {},
   "source": [
    "# Subset\n",
    "I want to play with a subset of the data only. My computer might burst into flames with such a big dataset."
   ]
  },
  {
   "cell_type": "code",
   "execution_count": 112,
   "metadata": {},
   "outputs": [],
   "source": [
    "ix <- sample(x=1:ncol(merged_df), size=100, replace=FALSE)"
   ]
  },
  {
   "cell_type": "markdown",
   "metadata": {},
   "source": [
    "48311 48038 46259 45607 30859 36212 27412 49211 12498 37608 17275 8977 51860 6773 4279 41073 52002 43853 30942 12710 14552 4363 2390 18347 36729 4004 25003 40453 85 21466 15258 50398 8650 40258 26186 25705 32507 49416 34377 47942 17768 32303 15772 12870 47486 2577 7727 24999 39689 7776 47238 12204 51666 42631 45989 39079 36200 11922 35675 37843 32106 41530 10603 48845 46623 46727 32260 13626 36846 41145 26506 23904 29141 44410 10340 11948 15524 24035 18054 20767 42290 45802 7007 17957 27856 31556 40242 44022 8213 12002 2864 24337 19793 37263 41779 29699 6940 991 23800 18913"
   ]
  },
  {
   "cell_type": "code",
   "execution_count": 100,
   "metadata": {},
   "outputs": [
    {
     "data": {
      "text/html": [
       "<ol class=list-inline>\n",
       "\t<li>48311</li>\n",
       "\t<li>48038</li>\n",
       "\t<li>46259</li>\n",
       "\t<li>45607</li>\n",
       "\t<li>30859</li>\n",
       "\t<li>36212</li>\n",
       "\t<li>27412</li>\n",
       "\t<li>49211</li>\n",
       "\t<li>12498</li>\n",
       "\t<li>37608</li>\n",
       "\t<li>17275</li>\n",
       "\t<li>8977</li>\n",
       "\t<li>51860</li>\n",
       "\t<li>6773</li>\n",
       "\t<li>4279</li>\n",
       "\t<li>41073</li>\n",
       "\t<li>52002</li>\n",
       "\t<li>43853</li>\n",
       "\t<li>30942</li>\n",
       "\t<li>12710</li>\n",
       "\t<li>14552</li>\n",
       "\t<li>4363</li>\n",
       "\t<li>2390</li>\n",
       "\t<li>18347</li>\n",
       "\t<li>36729</li>\n",
       "\t<li>4004</li>\n",
       "\t<li>25003</li>\n",
       "\t<li>40453</li>\n",
       "\t<li>85</li>\n",
       "\t<li>21466</li>\n",
       "\t<li>15258</li>\n",
       "\t<li>50398</li>\n",
       "\t<li>8650</li>\n",
       "\t<li>40258</li>\n",
       "\t<li>26186</li>\n",
       "\t<li>25705</li>\n",
       "\t<li>32507</li>\n",
       "\t<li>49416</li>\n",
       "\t<li>34377</li>\n",
       "\t<li>47942</li>\n",
       "\t<li>17768</li>\n",
       "\t<li>32303</li>\n",
       "\t<li>15772</li>\n",
       "\t<li>12870</li>\n",
       "\t<li>47486</li>\n",
       "\t<li>2577</li>\n",
       "\t<li>7727</li>\n",
       "\t<li>24999</li>\n",
       "\t<li>39689</li>\n",
       "\t<li>7776</li>\n",
       "\t<li>47238</li>\n",
       "\t<li>12204</li>\n",
       "\t<li>51666</li>\n",
       "\t<li>42631</li>\n",
       "\t<li>45989</li>\n",
       "\t<li>39079</li>\n",
       "\t<li>36200</li>\n",
       "\t<li>11922</li>\n",
       "\t<li>35675</li>\n",
       "\t<li>37843</li>\n",
       "\t<li>32106</li>\n",
       "\t<li>41530</li>\n",
       "\t<li>10603</li>\n",
       "\t<li>48845</li>\n",
       "\t<li>46623</li>\n",
       "\t<li>46727</li>\n",
       "\t<li>32260</li>\n",
       "\t<li>13626</li>\n",
       "\t<li>36846</li>\n",
       "\t<li>41145</li>\n",
       "\t<li>26506</li>\n",
       "\t<li>23904</li>\n",
       "\t<li>29141</li>\n",
       "\t<li>44410</li>\n",
       "\t<li>10340</li>\n",
       "\t<li>11948</li>\n",
       "\t<li>15524</li>\n",
       "\t<li>24035</li>\n",
       "\t<li>18054</li>\n",
       "\t<li>20767</li>\n",
       "\t<li>42290</li>\n",
       "\t<li>45802</li>\n",
       "\t<li>7007</li>\n",
       "\t<li>17957</li>\n",
       "\t<li>27856</li>\n",
       "\t<li>31556</li>\n",
       "\t<li>40242</li>\n",
       "\t<li>44022</li>\n",
       "\t<li>8213</li>\n",
       "\t<li>12002</li>\n",
       "\t<li>2864</li>\n",
       "\t<li>24337</li>\n",
       "\t<li>19793</li>\n",
       "\t<li>37263</li>\n",
       "\t<li>41779</li>\n",
       "\t<li>29699</li>\n",
       "\t<li>6940</li>\n",
       "\t<li>991</li>\n",
       "\t<li>23800</li>\n",
       "\t<li>18913</li>\n",
       "</ol>\n"
      ],
      "text/latex": [
       "\\begin{enumerate*}\n",
       "\\item 48311\n",
       "\\item 48038\n",
       "\\item 46259\n",
       "\\item 45607\n",
       "\\item 30859\n",
       "\\item 36212\n",
       "\\item 27412\n",
       "\\item 49211\n",
       "\\item 12498\n",
       "\\item 37608\n",
       "\\item 17275\n",
       "\\item 8977\n",
       "\\item 51860\n",
       "\\item 6773\n",
       "\\item 4279\n",
       "\\item 41073\n",
       "\\item 52002\n",
       "\\item 43853\n",
       "\\item 30942\n",
       "\\item 12710\n",
       "\\item 14552\n",
       "\\item 4363\n",
       "\\item 2390\n",
       "\\item 18347\n",
       "\\item 36729\n",
       "\\item 4004\n",
       "\\item 25003\n",
       "\\item 40453\n",
       "\\item 85\n",
       "\\item 21466\n",
       "\\item 15258\n",
       "\\item 50398\n",
       "\\item 8650\n",
       "\\item 40258\n",
       "\\item 26186\n",
       "\\item 25705\n",
       "\\item 32507\n",
       "\\item 49416\n",
       "\\item 34377\n",
       "\\item 47942\n",
       "\\item 17768\n",
       "\\item 32303\n",
       "\\item 15772\n",
       "\\item 12870\n",
       "\\item 47486\n",
       "\\item 2577\n",
       "\\item 7727\n",
       "\\item 24999\n",
       "\\item 39689\n",
       "\\item 7776\n",
       "\\item 47238\n",
       "\\item 12204\n",
       "\\item 51666\n",
       "\\item 42631\n",
       "\\item 45989\n",
       "\\item 39079\n",
       "\\item 36200\n",
       "\\item 11922\n",
       "\\item 35675\n",
       "\\item 37843\n",
       "\\item 32106\n",
       "\\item 41530\n",
       "\\item 10603\n",
       "\\item 48845\n",
       "\\item 46623\n",
       "\\item 46727\n",
       "\\item 32260\n",
       "\\item 13626\n",
       "\\item 36846\n",
       "\\item 41145\n",
       "\\item 26506\n",
       "\\item 23904\n",
       "\\item 29141\n",
       "\\item 44410\n",
       "\\item 10340\n",
       "\\item 11948\n",
       "\\item 15524\n",
       "\\item 24035\n",
       "\\item 18054\n",
       "\\item 20767\n",
       "\\item 42290\n",
       "\\item 45802\n",
       "\\item 7007\n",
       "\\item 17957\n",
       "\\item 27856\n",
       "\\item 31556\n",
       "\\item 40242\n",
       "\\item 44022\n",
       "\\item 8213\n",
       "\\item 12002\n",
       "\\item 2864\n",
       "\\item 24337\n",
       "\\item 19793\n",
       "\\item 37263\n",
       "\\item 41779\n",
       "\\item 29699\n",
       "\\item 6940\n",
       "\\item 991\n",
       "\\item 23800\n",
       "\\item 18913\n",
       "\\end{enumerate*}\n"
      ],
      "text/markdown": [
       "1. 48311\n",
       "2. 48038\n",
       "3. 46259\n",
       "4. 45607\n",
       "5. 30859\n",
       "6. 36212\n",
       "7. 27412\n",
       "8. 49211\n",
       "9. 12498\n",
       "10. 37608\n",
       "11. 17275\n",
       "12. 8977\n",
       "13. 51860\n",
       "14. 6773\n",
       "15. 4279\n",
       "16. 41073\n",
       "17. 52002\n",
       "18. 43853\n",
       "19. 30942\n",
       "20. 12710\n",
       "21. 14552\n",
       "22. 4363\n",
       "23. 2390\n",
       "24. 18347\n",
       "25. 36729\n",
       "26. 4004\n",
       "27. 25003\n",
       "28. 40453\n",
       "29. 85\n",
       "30. 21466\n",
       "31. 15258\n",
       "32. 50398\n",
       "33. 8650\n",
       "34. 40258\n",
       "35. 26186\n",
       "36. 25705\n",
       "37. 32507\n",
       "38. 49416\n",
       "39. 34377\n",
       "40. 47942\n",
       "41. 17768\n",
       "42. 32303\n",
       "43. 15772\n",
       "44. 12870\n",
       "45. 47486\n",
       "46. 2577\n",
       "47. 7727\n",
       "48. 24999\n",
       "49. 39689\n",
       "50. 7776\n",
       "51. 47238\n",
       "52. 12204\n",
       "53. 51666\n",
       "54. 42631\n",
       "55. 45989\n",
       "56. 39079\n",
       "57. 36200\n",
       "58. 11922\n",
       "59. 35675\n",
       "60. 37843\n",
       "61. 32106\n",
       "62. 41530\n",
       "63. 10603\n",
       "64. 48845\n",
       "65. 46623\n",
       "66. 46727\n",
       "67. 32260\n",
       "68. 13626\n",
       "69. 36846\n",
       "70. 41145\n",
       "71. 26506\n",
       "72. 23904\n",
       "73. 29141\n",
       "74. 44410\n",
       "75. 10340\n",
       "76. 11948\n",
       "77. 15524\n",
       "78. 24035\n",
       "79. 18054\n",
       "80. 20767\n",
       "81. 42290\n",
       "82. 45802\n",
       "83. 7007\n",
       "84. 17957\n",
       "85. 27856\n",
       "86. 31556\n",
       "87. 40242\n",
       "88. 44022\n",
       "89. 8213\n",
       "90. 12002\n",
       "91. 2864\n",
       "92. 24337\n",
       "93. 19793\n",
       "94. 37263\n",
       "95. 41779\n",
       "96. 29699\n",
       "97. 6940\n",
       "98. 991\n",
       "99. 23800\n",
       "100. 18913\n",
       "\n",
       "\n"
      ],
      "text/plain": [
       "  [1] 48311 48038 46259 45607 30859 36212 27412 49211 12498 37608 17275  8977\n",
       " [13] 51860  6773  4279 41073 52002 43853 30942 12710 14552  4363  2390 18347\n",
       " [25] 36729  4004 25003 40453    85 21466 15258 50398  8650 40258 26186 25705\n",
       " [37] 32507 49416 34377 47942 17768 32303 15772 12870 47486  2577  7727 24999\n",
       " [49] 39689  7776 47238 12204 51666 42631 45989 39079 36200 11922 35675 37843\n",
       " [61] 32106 41530 10603 48845 46623 46727 32260 13626 36846 41145 26506 23904\n",
       " [73] 29141 44410 10340 11948 15524 24035 18054 20767 42290 45802  7007 17957\n",
       " [85] 27856 31556 40242 44022  8213 12002  2864 24337 19793 37263 41779 29699\n",
       " [97]  6940   991 23800 18913"
      ]
     },
     "metadata": {},
     "output_type": "display_data"
    }
   ],
   "source": [
    "# ix"
   ]
  },
  {
   "cell_type": "code",
   "execution_count": 113,
   "metadata": {},
   "outputs": [],
   "source": [
    "small_subset <-merged_df[,c(1:4,ix)]"
   ]
  },
  {
   "cell_type": "code",
   "execution_count": 114,
   "metadata": {},
   "outputs": [],
   "source": [
    "# write.csv(small_subset, \"../../data/clean/small_subset.csv\")"
   ]
  }
 ],
 "metadata": {
  "kernelspec": {
   "display_name": "R",
   "language": "R",
   "name": "ir"
  },
  "language_info": {
   "codemirror_mode": "r",
   "file_extension": ".r",
   "mimetype": "text/x-r-source",
   "name": "R",
   "pygments_lexer": "r",
   "version": "3.5.1"
  }
 },
 "nbformat": 4,
 "nbformat_minor": 2
}
