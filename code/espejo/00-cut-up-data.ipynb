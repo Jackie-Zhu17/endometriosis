{
 "cells": [
  {
   "cell_type": "markdown",
   "metadata": {},
   "source": [
    "# Going to go a bit crazyyyy"
   ]
  },
  {
   "cell_type": "code",
   "execution_count": 1,
   "metadata": {},
   "outputs": [],
   "source": [
    "import pandas as pd\n",
    "import numpy as np\n",
    "import re"
   ]
  },
  {
   "cell_type": "code",
   "execution_count": 2,
   "metadata": {},
   "outputs": [],
   "source": [
    "endo = pd.read_csv(\"../../../../Dropbox/cal_berkeley/classes/phc240c/normalized_t.csv\")"
   ]
  },
  {
   "cell_type": "code",
   "execution_count": 3,
   "metadata": {
    "scrolled": true
   },
   "outputs": [
    {
     "data": {
      "text/html": [
       "<div>\n",
       "<style scoped>\n",
       "    .dataframe tbody tr th:only-of-type {\n",
       "        vertical-align: middle;\n",
       "    }\n",
       "\n",
       "    .dataframe tbody tr th {\n",
       "        vertical-align: top;\n",
       "    }\n",
       "\n",
       "    .dataframe thead th {\n",
       "        text-align: right;\n",
       "    }\n",
       "</style>\n",
       "<table border=\"1\" class=\"dataframe\">\n",
       "  <thead>\n",
       "    <tr style=\"text-align: right;\">\n",
       "      <th></th>\n",
       "      <th>Unnamed: 0</th>\n",
       "      <th>1007_s_at</th>\n",
       "      <th>1053_at</th>\n",
       "      <th>117_at</th>\n",
       "      <th>121_at</th>\n",
       "      <th>1255_g_at</th>\n",
       "      <th>1294_at</th>\n",
       "      <th>1316_at</th>\n",
       "      <th>1320_at</th>\n",
       "      <th>1405_i_at</th>\n",
       "      <th>...</th>\n",
       "      <th>AFFX-r2-Ec-bioD-3_at</th>\n",
       "      <th>AFFX-r2-Ec-bioD-5_at</th>\n",
       "      <th>AFFX-r2-P1-cre-3_at</th>\n",
       "      <th>AFFX-r2-P1-cre-5_at</th>\n",
       "      <th>AFFX-ThrX-3_at</th>\n",
       "      <th>AFFX-ThrX-5_at</th>\n",
       "      <th>AFFX-ThrX-M_at</th>\n",
       "      <th>AFFX-TrpnX-3_at</th>\n",
       "      <th>AFFX-TrpnX-5_at</th>\n",
       "      <th>AFFX-TrpnX-M_at</th>\n",
       "    </tr>\n",
       "  </thead>\n",
       "  <tbody>\n",
       "    <tr>\n",
       "      <th>0</th>\n",
       "      <td>GSM1256653_123.CEL.gz</td>\n",
       "      <td>9.144360</td>\n",
       "      <td>6.822537</td>\n",
       "      <td>2.416620</td>\n",
       "      <td>9.009204</td>\n",
       "      <td>2.236028</td>\n",
       "      <td>4.520386</td>\n",
       "      <td>4.526698</td>\n",
       "      <td>2.236028</td>\n",
       "      <td>7.767562</td>\n",
       "      <td>...</td>\n",
       "      <td>14.154105</td>\n",
       "      <td>13.799957</td>\n",
       "      <td>15.704194</td>\n",
       "      <td>14.928269</td>\n",
       "      <td>2.236028</td>\n",
       "      <td>2.236028</td>\n",
       "      <td>2.236028</td>\n",
       "      <td>2.236028</td>\n",
       "      <td>2.236028</td>\n",
       "      <td>2.236028</td>\n",
       "    </tr>\n",
       "    <tr>\n",
       "      <th>1</th>\n",
       "      <td>GSM1256654_118.CEL.gz</td>\n",
       "      <td>9.071027</td>\n",
       "      <td>7.239534</td>\n",
       "      <td>2.482114</td>\n",
       "      <td>9.121438</td>\n",
       "      <td>2.236028</td>\n",
       "      <td>4.367321</td>\n",
       "      <td>5.062675</td>\n",
       "      <td>2.236028</td>\n",
       "      <td>5.342020</td>\n",
       "      <td>...</td>\n",
       "      <td>14.976518</td>\n",
       "      <td>14.589105</td>\n",
       "      <td>16.271436</td>\n",
       "      <td>15.556831</td>\n",
       "      <td>2.236028</td>\n",
       "      <td>2.236028</td>\n",
       "      <td>2.236028</td>\n",
       "      <td>2.236028</td>\n",
       "      <td>2.236028</td>\n",
       "      <td>2.236028</td>\n",
       "    </tr>\n",
       "    <tr>\n",
       "      <th>2</th>\n",
       "      <td>GSM1256655_103.CEL.gz</td>\n",
       "      <td>8.376408</td>\n",
       "      <td>6.211566</td>\n",
       "      <td>3.000532</td>\n",
       "      <td>8.171364</td>\n",
       "      <td>2.236028</td>\n",
       "      <td>4.232511</td>\n",
       "      <td>5.081152</td>\n",
       "      <td>2.236028</td>\n",
       "      <td>6.775237</td>\n",
       "      <td>...</td>\n",
       "      <td>15.125143</td>\n",
       "      <td>14.529937</td>\n",
       "      <td>16.569502</td>\n",
       "      <td>16.294425</td>\n",
       "      <td>2.236028</td>\n",
       "      <td>2.236028</td>\n",
       "      <td>2.236028</td>\n",
       "      <td>2.236028</td>\n",
       "      <td>2.236028</td>\n",
       "      <td>2.236028</td>\n",
       "    </tr>\n",
       "    <tr>\n",
       "      <th>3</th>\n",
       "      <td>GSM1256656_132.CEL.gz</td>\n",
       "      <td>10.326269</td>\n",
       "      <td>5.947279</td>\n",
       "      <td>2.482114</td>\n",
       "      <td>11.231319</td>\n",
       "      <td>2.236028</td>\n",
       "      <td>5.366003</td>\n",
       "      <td>4.475372</td>\n",
       "      <td>2.236028</td>\n",
       "      <td>6.191358</td>\n",
       "      <td>...</td>\n",
       "      <td>14.630020</td>\n",
       "      <td>14.396243</td>\n",
       "      <td>16.021648</td>\n",
       "      <td>15.198964</td>\n",
       "      <td>2.236028</td>\n",
       "      <td>2.236028</td>\n",
       "      <td>2.236028</td>\n",
       "      <td>2.236028</td>\n",
       "      <td>2.236028</td>\n",
       "      <td>2.236028</td>\n",
       "    </tr>\n",
       "    <tr>\n",
       "      <th>4</th>\n",
       "      <td>GSM1256657_119.CEL.gz</td>\n",
       "      <td>9.062173</td>\n",
       "      <td>7.319749</td>\n",
       "      <td>2.564821</td>\n",
       "      <td>7.979589</td>\n",
       "      <td>2.236028</td>\n",
       "      <td>5.308206</td>\n",
       "      <td>4.416175</td>\n",
       "      <td>2.236028</td>\n",
       "      <td>8.618690</td>\n",
       "      <td>...</td>\n",
       "      <td>13.873481</td>\n",
       "      <td>13.584635</td>\n",
       "      <td>15.624633</td>\n",
       "      <td>15.143731</td>\n",
       "      <td>2.236028</td>\n",
       "      <td>2.236028</td>\n",
       "      <td>2.236028</td>\n",
       "      <td>2.236028</td>\n",
       "      <td>2.236028</td>\n",
       "      <td>2.236028</td>\n",
       "    </tr>\n",
       "  </tbody>\n",
       "</table>\n",
       "<p>5 rows × 54676 columns</p>\n",
       "</div>"
      ],
      "text/plain": [
       "              Unnamed: 0  1007_s_at   1053_at    117_at     121_at  1255_g_at  \\\n",
       "0  GSM1256653_123.CEL.gz   9.144360  6.822537  2.416620   9.009204   2.236028   \n",
       "1  GSM1256654_118.CEL.gz   9.071027  7.239534  2.482114   9.121438   2.236028   \n",
       "2  GSM1256655_103.CEL.gz   8.376408  6.211566  3.000532   8.171364   2.236028   \n",
       "3  GSM1256656_132.CEL.gz  10.326269  5.947279  2.482114  11.231319   2.236028   \n",
       "4  GSM1256657_119.CEL.gz   9.062173  7.319749  2.564821   7.979589   2.236028   \n",
       "\n",
       "    1294_at   1316_at   1320_at  1405_i_at       ...         \\\n",
       "0  4.520386  4.526698  2.236028   7.767562       ...          \n",
       "1  4.367321  5.062675  2.236028   5.342020       ...          \n",
       "2  4.232511  5.081152  2.236028   6.775237       ...          \n",
       "3  5.366003  4.475372  2.236028   6.191358       ...          \n",
       "4  5.308206  4.416175  2.236028   8.618690       ...          \n",
       "\n",
       "   AFFX-r2-Ec-bioD-3_at  AFFX-r2-Ec-bioD-5_at  AFFX-r2-P1-cre-3_at  \\\n",
       "0             14.154105             13.799957            15.704194   \n",
       "1             14.976518             14.589105            16.271436   \n",
       "2             15.125143             14.529937            16.569502   \n",
       "3             14.630020             14.396243            16.021648   \n",
       "4             13.873481             13.584635            15.624633   \n",
       "\n",
       "   AFFX-r2-P1-cre-5_at  AFFX-ThrX-3_at  AFFX-ThrX-5_at  AFFX-ThrX-M_at  \\\n",
       "0            14.928269        2.236028        2.236028        2.236028   \n",
       "1            15.556831        2.236028        2.236028        2.236028   \n",
       "2            16.294425        2.236028        2.236028        2.236028   \n",
       "3            15.198964        2.236028        2.236028        2.236028   \n",
       "4            15.143731        2.236028        2.236028        2.236028   \n",
       "\n",
       "   AFFX-TrpnX-3_at  AFFX-TrpnX-5_at  AFFX-TrpnX-M_at  \n",
       "0         2.236028         2.236028         2.236028  \n",
       "1         2.236028         2.236028         2.236028  \n",
       "2         2.236028         2.236028         2.236028  \n",
       "3         2.236028         2.236028         2.236028  \n",
       "4         2.236028         2.236028         2.236028  \n",
       "\n",
       "[5 rows x 54676 columns]"
      ]
     },
     "execution_count": 3,
     "metadata": {},
     "output_type": "execute_result"
    }
   ],
   "source": [
    "endo.head()"
   ]
  },
  {
   "cell_type": "code",
   "execution_count": 4,
   "metadata": {},
   "outputs": [
    {
     "data": {
      "text/plain": [
       "(148, 54676)"
      ]
     },
     "execution_count": 4,
     "metadata": {},
     "output_type": "execute_result"
    }
   ],
   "source": [
    "endo.shape"
   ]
  },
  {
   "cell_type": "code",
   "execution_count": 5,
   "metadata": {},
   "outputs": [],
   "source": [
    "endo[endo.columns[0]] = [re.sub(\".CEL.gz\", \"\", x) for x in  endo[endo.columns[0]]]"
   ]
  },
  {
   "cell_type": "code",
   "execution_count": 6,
   "metadata": {},
   "outputs": [],
   "source": [
    "endo[endo.columns[0]] = [re.sub(\"_[0-9]{1,3}\", \"\", x) for x in endo[endo.columns[0]]]"
   ]
  },
  {
   "cell_type": "code",
   "execution_count": 7,
   "metadata": {},
   "outputs": [
    {
     "data": {
      "text/html": [
       "<div>\n",
       "<style scoped>\n",
       "    .dataframe tbody tr th:only-of-type {\n",
       "        vertical-align: middle;\n",
       "    }\n",
       "\n",
       "    .dataframe tbody tr th {\n",
       "        vertical-align: top;\n",
       "    }\n",
       "\n",
       "    .dataframe thead th {\n",
       "        text-align: right;\n",
       "    }\n",
       "</style>\n",
       "<table border=\"1\" class=\"dataframe\">\n",
       "  <thead>\n",
       "    <tr style=\"text-align: right;\">\n",
       "      <th></th>\n",
       "      <th>Unnamed: 0</th>\n",
       "      <th>1007_s_at</th>\n",
       "      <th>1053_at</th>\n",
       "      <th>117_at</th>\n",
       "      <th>121_at</th>\n",
       "      <th>1255_g_at</th>\n",
       "      <th>1294_at</th>\n",
       "      <th>1316_at</th>\n",
       "      <th>1320_at</th>\n",
       "      <th>1405_i_at</th>\n",
       "      <th>...</th>\n",
       "      <th>AFFX-r2-Ec-bioD-3_at</th>\n",
       "      <th>AFFX-r2-Ec-bioD-5_at</th>\n",
       "      <th>AFFX-r2-P1-cre-3_at</th>\n",
       "      <th>AFFX-r2-P1-cre-5_at</th>\n",
       "      <th>AFFX-ThrX-3_at</th>\n",
       "      <th>AFFX-ThrX-5_at</th>\n",
       "      <th>AFFX-ThrX-M_at</th>\n",
       "      <th>AFFX-TrpnX-3_at</th>\n",
       "      <th>AFFX-TrpnX-5_at</th>\n",
       "      <th>AFFX-TrpnX-M_at</th>\n",
       "    </tr>\n",
       "  </thead>\n",
       "  <tbody>\n",
       "    <tr>\n",
       "      <th>0</th>\n",
       "      <td>GSM1256653</td>\n",
       "      <td>9.144360</td>\n",
       "      <td>6.822537</td>\n",
       "      <td>2.416620</td>\n",
       "      <td>9.009204</td>\n",
       "      <td>2.236028</td>\n",
       "      <td>4.520386</td>\n",
       "      <td>4.526698</td>\n",
       "      <td>2.236028</td>\n",
       "      <td>7.767562</td>\n",
       "      <td>...</td>\n",
       "      <td>14.154105</td>\n",
       "      <td>13.799957</td>\n",
       "      <td>15.704194</td>\n",
       "      <td>14.928269</td>\n",
       "      <td>2.236028</td>\n",
       "      <td>2.236028</td>\n",
       "      <td>2.236028</td>\n",
       "      <td>2.236028</td>\n",
       "      <td>2.236028</td>\n",
       "      <td>2.236028</td>\n",
       "    </tr>\n",
       "    <tr>\n",
       "      <th>1</th>\n",
       "      <td>GSM1256654</td>\n",
       "      <td>9.071027</td>\n",
       "      <td>7.239534</td>\n",
       "      <td>2.482114</td>\n",
       "      <td>9.121438</td>\n",
       "      <td>2.236028</td>\n",
       "      <td>4.367321</td>\n",
       "      <td>5.062675</td>\n",
       "      <td>2.236028</td>\n",
       "      <td>5.342020</td>\n",
       "      <td>...</td>\n",
       "      <td>14.976518</td>\n",
       "      <td>14.589105</td>\n",
       "      <td>16.271436</td>\n",
       "      <td>15.556831</td>\n",
       "      <td>2.236028</td>\n",
       "      <td>2.236028</td>\n",
       "      <td>2.236028</td>\n",
       "      <td>2.236028</td>\n",
       "      <td>2.236028</td>\n",
       "      <td>2.236028</td>\n",
       "    </tr>\n",
       "    <tr>\n",
       "      <th>2</th>\n",
       "      <td>GSM1256655</td>\n",
       "      <td>8.376408</td>\n",
       "      <td>6.211566</td>\n",
       "      <td>3.000532</td>\n",
       "      <td>8.171364</td>\n",
       "      <td>2.236028</td>\n",
       "      <td>4.232511</td>\n",
       "      <td>5.081152</td>\n",
       "      <td>2.236028</td>\n",
       "      <td>6.775237</td>\n",
       "      <td>...</td>\n",
       "      <td>15.125143</td>\n",
       "      <td>14.529937</td>\n",
       "      <td>16.569502</td>\n",
       "      <td>16.294425</td>\n",
       "      <td>2.236028</td>\n",
       "      <td>2.236028</td>\n",
       "      <td>2.236028</td>\n",
       "      <td>2.236028</td>\n",
       "      <td>2.236028</td>\n",
       "      <td>2.236028</td>\n",
       "    </tr>\n",
       "    <tr>\n",
       "      <th>3</th>\n",
       "      <td>GSM1256656</td>\n",
       "      <td>10.326269</td>\n",
       "      <td>5.947279</td>\n",
       "      <td>2.482114</td>\n",
       "      <td>11.231319</td>\n",
       "      <td>2.236028</td>\n",
       "      <td>5.366003</td>\n",
       "      <td>4.475372</td>\n",
       "      <td>2.236028</td>\n",
       "      <td>6.191358</td>\n",
       "      <td>...</td>\n",
       "      <td>14.630020</td>\n",
       "      <td>14.396243</td>\n",
       "      <td>16.021648</td>\n",
       "      <td>15.198964</td>\n",
       "      <td>2.236028</td>\n",
       "      <td>2.236028</td>\n",
       "      <td>2.236028</td>\n",
       "      <td>2.236028</td>\n",
       "      <td>2.236028</td>\n",
       "      <td>2.236028</td>\n",
       "    </tr>\n",
       "    <tr>\n",
       "      <th>4</th>\n",
       "      <td>GSM1256657</td>\n",
       "      <td>9.062173</td>\n",
       "      <td>7.319749</td>\n",
       "      <td>2.564821</td>\n",
       "      <td>7.979589</td>\n",
       "      <td>2.236028</td>\n",
       "      <td>5.308206</td>\n",
       "      <td>4.416175</td>\n",
       "      <td>2.236028</td>\n",
       "      <td>8.618690</td>\n",
       "      <td>...</td>\n",
       "      <td>13.873481</td>\n",
       "      <td>13.584635</td>\n",
       "      <td>15.624633</td>\n",
       "      <td>15.143731</td>\n",
       "      <td>2.236028</td>\n",
       "      <td>2.236028</td>\n",
       "      <td>2.236028</td>\n",
       "      <td>2.236028</td>\n",
       "      <td>2.236028</td>\n",
       "      <td>2.236028</td>\n",
       "    </tr>\n",
       "  </tbody>\n",
       "</table>\n",
       "<p>5 rows × 54676 columns</p>\n",
       "</div>"
      ],
      "text/plain": [
       "   Unnamed: 0  1007_s_at   1053_at    117_at     121_at  1255_g_at   1294_at  \\\n",
       "0  GSM1256653   9.144360  6.822537  2.416620   9.009204   2.236028  4.520386   \n",
       "1  GSM1256654   9.071027  7.239534  2.482114   9.121438   2.236028  4.367321   \n",
       "2  GSM1256655   8.376408  6.211566  3.000532   8.171364   2.236028  4.232511   \n",
       "3  GSM1256656  10.326269  5.947279  2.482114  11.231319   2.236028  5.366003   \n",
       "4  GSM1256657   9.062173  7.319749  2.564821   7.979589   2.236028  5.308206   \n",
       "\n",
       "    1316_at   1320_at  1405_i_at       ...         AFFX-r2-Ec-bioD-3_at  \\\n",
       "0  4.526698  2.236028   7.767562       ...                    14.154105   \n",
       "1  5.062675  2.236028   5.342020       ...                    14.976518   \n",
       "2  5.081152  2.236028   6.775237       ...                    15.125143   \n",
       "3  4.475372  2.236028   6.191358       ...                    14.630020   \n",
       "4  4.416175  2.236028   8.618690       ...                    13.873481   \n",
       "\n",
       "   AFFX-r2-Ec-bioD-5_at  AFFX-r2-P1-cre-3_at  AFFX-r2-P1-cre-5_at  \\\n",
       "0             13.799957            15.704194            14.928269   \n",
       "1             14.589105            16.271436            15.556831   \n",
       "2             14.529937            16.569502            16.294425   \n",
       "3             14.396243            16.021648            15.198964   \n",
       "4             13.584635            15.624633            15.143731   \n",
       "\n",
       "   AFFX-ThrX-3_at  AFFX-ThrX-5_at  AFFX-ThrX-M_at  AFFX-TrpnX-3_at  \\\n",
       "0        2.236028        2.236028        2.236028         2.236028   \n",
       "1        2.236028        2.236028        2.236028         2.236028   \n",
       "2        2.236028        2.236028        2.236028         2.236028   \n",
       "3        2.236028        2.236028        2.236028         2.236028   \n",
       "4        2.236028        2.236028        2.236028         2.236028   \n",
       "\n",
       "   AFFX-TrpnX-5_at  AFFX-TrpnX-M_at  \n",
       "0         2.236028         2.236028  \n",
       "1         2.236028         2.236028  \n",
       "2         2.236028         2.236028  \n",
       "3         2.236028         2.236028  \n",
       "4         2.236028         2.236028  \n",
       "\n",
       "[5 rows x 54676 columns]"
      ]
     },
     "execution_count": 7,
     "metadata": {},
     "output_type": "execute_result"
    }
   ],
   "source": [
    "endo.head()"
   ]
  },
  {
   "cell_type": "code",
   "execution_count": 8,
   "metadata": {},
   "outputs": [],
   "source": [
    "meta = pd.read_csv(\"../../data/genbank/clean-csv/metadata.csv\")"
   ]
  },
  {
   "cell_type": "code",
   "execution_count": 9,
   "metadata": {},
   "outputs": [
    {
     "data": {
      "text/html": [
       "<div>\n",
       "<style scoped>\n",
       "    .dataframe tbody tr th:only-of-type {\n",
       "        vertical-align: middle;\n",
       "    }\n",
       "\n",
       "    .dataframe tbody tr th {\n",
       "        vertical-align: top;\n",
       "    }\n",
       "\n",
       "    .dataframe thead th {\n",
       "        text-align: right;\n",
       "    }\n",
       "</style>\n",
       "<table border=\"1\" class=\"dataframe\">\n",
       "  <thead>\n",
       "    <tr style=\"text-align: right;\">\n",
       "      <th></th>\n",
       "      <th>Unnamed: 0</th>\n",
       "      <th>tissue</th>\n",
       "      <th>endometriosis</th>\n",
       "      <th>severity</th>\n",
       "    </tr>\n",
       "  </thead>\n",
       "  <tbody>\n",
       "    <tr>\n",
       "      <th>0</th>\n",
       "      <td>GSM1256653</td>\n",
       "      <td>Early Secretory Endometrial tissue</td>\n",
       "      <td>Endometriosis</td>\n",
       "      <td>Moderate/Severe</td>\n",
       "    </tr>\n",
       "    <tr>\n",
       "      <th>1</th>\n",
       "      <td>GSM1256654</td>\n",
       "      <td>Early Secretory Endometrial tissue</td>\n",
       "      <td>Endometriosis</td>\n",
       "      <td>Moderate/Severe</td>\n",
       "    </tr>\n",
       "    <tr>\n",
       "      <th>2</th>\n",
       "      <td>GSM1256655</td>\n",
       "      <td>Proliferative Endometrial tissue</td>\n",
       "      <td>Endometriosis</td>\n",
       "      <td>Moderate/Severe</td>\n",
       "    </tr>\n",
       "    <tr>\n",
       "      <th>3</th>\n",
       "      <td>GSM1256656</td>\n",
       "      <td>Mid-Secretory Endometrial tissue</td>\n",
       "      <td>Endometriosis</td>\n",
       "      <td>Moderate/Severe</td>\n",
       "    </tr>\n",
       "    <tr>\n",
       "      <th>4</th>\n",
       "      <td>GSM1256657</td>\n",
       "      <td>Early Secretory Endometrial tissue</td>\n",
       "      <td>Endometriosis</td>\n",
       "      <td>Moderate/Severe</td>\n",
       "    </tr>\n",
       "  </tbody>\n",
       "</table>\n",
       "</div>"
      ],
      "text/plain": [
       "   Unnamed: 0                              tissue  endometriosis  \\\n",
       "0  GSM1256653  Early Secretory Endometrial tissue  Endometriosis   \n",
       "1  GSM1256654  Early Secretory Endometrial tissue  Endometriosis   \n",
       "2  GSM1256655    Proliferative Endometrial tissue  Endometriosis   \n",
       "3  GSM1256656    Mid-Secretory Endometrial tissue  Endometriosis   \n",
       "4  GSM1256657  Early Secretory Endometrial tissue  Endometriosis   \n",
       "\n",
       "          severity  \n",
       "0  Moderate/Severe  \n",
       "1  Moderate/Severe  \n",
       "2  Moderate/Severe  \n",
       "3  Moderate/Severe  \n",
       "4  Moderate/Severe  "
      ]
     },
     "execution_count": 9,
     "metadata": {},
     "output_type": "execute_result"
    }
   ],
   "source": [
    "meta.head()"
   ]
  },
  {
   "cell_type": "code",
   "execution_count": 10,
   "metadata": {},
   "outputs": [],
   "source": [
    "full_data = meta.merge(endo, on=meta.columns[0])"
   ]
  },
  {
   "cell_type": "code",
   "execution_count": 11,
   "metadata": {
    "scrolled": true
   },
   "outputs": [
    {
     "data": {
      "text/html": [
       "<div>\n",
       "<style scoped>\n",
       "    .dataframe tbody tr th:only-of-type {\n",
       "        vertical-align: middle;\n",
       "    }\n",
       "\n",
       "    .dataframe tbody tr th {\n",
       "        vertical-align: top;\n",
       "    }\n",
       "\n",
       "    .dataframe thead th {\n",
       "        text-align: right;\n",
       "    }\n",
       "</style>\n",
       "<table border=\"1\" class=\"dataframe\">\n",
       "  <thead>\n",
       "    <tr style=\"text-align: right;\">\n",
       "      <th></th>\n",
       "      <th>Unnamed: 0</th>\n",
       "      <th>tissue</th>\n",
       "      <th>endometriosis</th>\n",
       "      <th>severity</th>\n",
       "      <th>1007_s_at</th>\n",
       "      <th>1053_at</th>\n",
       "      <th>117_at</th>\n",
       "      <th>121_at</th>\n",
       "      <th>1255_g_at</th>\n",
       "      <th>1294_at</th>\n",
       "      <th>...</th>\n",
       "      <th>AFFX-r2-Ec-bioD-3_at</th>\n",
       "      <th>AFFX-r2-Ec-bioD-5_at</th>\n",
       "      <th>AFFX-r2-P1-cre-3_at</th>\n",
       "      <th>AFFX-r2-P1-cre-5_at</th>\n",
       "      <th>AFFX-ThrX-3_at</th>\n",
       "      <th>AFFX-ThrX-5_at</th>\n",
       "      <th>AFFX-ThrX-M_at</th>\n",
       "      <th>AFFX-TrpnX-3_at</th>\n",
       "      <th>AFFX-TrpnX-5_at</th>\n",
       "      <th>AFFX-TrpnX-M_at</th>\n",
       "    </tr>\n",
       "  </thead>\n",
       "  <tbody>\n",
       "    <tr>\n",
       "      <th>0</th>\n",
       "      <td>GSM1256653</td>\n",
       "      <td>Early Secretory Endometrial tissue</td>\n",
       "      <td>Endometriosis</td>\n",
       "      <td>Moderate/Severe</td>\n",
       "      <td>9.144360</td>\n",
       "      <td>6.822537</td>\n",
       "      <td>2.416620</td>\n",
       "      <td>9.009204</td>\n",
       "      <td>2.236028</td>\n",
       "      <td>4.520386</td>\n",
       "      <td>...</td>\n",
       "      <td>14.154105</td>\n",
       "      <td>13.799957</td>\n",
       "      <td>15.704194</td>\n",
       "      <td>14.928269</td>\n",
       "      <td>2.236028</td>\n",
       "      <td>2.236028</td>\n",
       "      <td>2.236028</td>\n",
       "      <td>2.236028</td>\n",
       "      <td>2.236028</td>\n",
       "      <td>2.236028</td>\n",
       "    </tr>\n",
       "    <tr>\n",
       "      <th>1</th>\n",
       "      <td>GSM1256654</td>\n",
       "      <td>Early Secretory Endometrial tissue</td>\n",
       "      <td>Endometriosis</td>\n",
       "      <td>Moderate/Severe</td>\n",
       "      <td>9.071027</td>\n",
       "      <td>7.239534</td>\n",
       "      <td>2.482114</td>\n",
       "      <td>9.121438</td>\n",
       "      <td>2.236028</td>\n",
       "      <td>4.367321</td>\n",
       "      <td>...</td>\n",
       "      <td>14.976518</td>\n",
       "      <td>14.589105</td>\n",
       "      <td>16.271436</td>\n",
       "      <td>15.556831</td>\n",
       "      <td>2.236028</td>\n",
       "      <td>2.236028</td>\n",
       "      <td>2.236028</td>\n",
       "      <td>2.236028</td>\n",
       "      <td>2.236028</td>\n",
       "      <td>2.236028</td>\n",
       "    </tr>\n",
       "    <tr>\n",
       "      <th>2</th>\n",
       "      <td>GSM1256655</td>\n",
       "      <td>Proliferative Endometrial tissue</td>\n",
       "      <td>Endometriosis</td>\n",
       "      <td>Moderate/Severe</td>\n",
       "      <td>8.376408</td>\n",
       "      <td>6.211566</td>\n",
       "      <td>3.000532</td>\n",
       "      <td>8.171364</td>\n",
       "      <td>2.236028</td>\n",
       "      <td>4.232511</td>\n",
       "      <td>...</td>\n",
       "      <td>15.125143</td>\n",
       "      <td>14.529937</td>\n",
       "      <td>16.569502</td>\n",
       "      <td>16.294425</td>\n",
       "      <td>2.236028</td>\n",
       "      <td>2.236028</td>\n",
       "      <td>2.236028</td>\n",
       "      <td>2.236028</td>\n",
       "      <td>2.236028</td>\n",
       "      <td>2.236028</td>\n",
       "    </tr>\n",
       "    <tr>\n",
       "      <th>3</th>\n",
       "      <td>GSM1256656</td>\n",
       "      <td>Mid-Secretory Endometrial tissue</td>\n",
       "      <td>Endometriosis</td>\n",
       "      <td>Moderate/Severe</td>\n",
       "      <td>10.326269</td>\n",
       "      <td>5.947279</td>\n",
       "      <td>2.482114</td>\n",
       "      <td>11.231319</td>\n",
       "      <td>2.236028</td>\n",
       "      <td>5.366003</td>\n",
       "      <td>...</td>\n",
       "      <td>14.630020</td>\n",
       "      <td>14.396243</td>\n",
       "      <td>16.021648</td>\n",
       "      <td>15.198964</td>\n",
       "      <td>2.236028</td>\n",
       "      <td>2.236028</td>\n",
       "      <td>2.236028</td>\n",
       "      <td>2.236028</td>\n",
       "      <td>2.236028</td>\n",
       "      <td>2.236028</td>\n",
       "    </tr>\n",
       "    <tr>\n",
       "      <th>4</th>\n",
       "      <td>GSM1256657</td>\n",
       "      <td>Early Secretory Endometrial tissue</td>\n",
       "      <td>Endometriosis</td>\n",
       "      <td>Moderate/Severe</td>\n",
       "      <td>9.062173</td>\n",
       "      <td>7.319749</td>\n",
       "      <td>2.564821</td>\n",
       "      <td>7.979589</td>\n",
       "      <td>2.236028</td>\n",
       "      <td>5.308206</td>\n",
       "      <td>...</td>\n",
       "      <td>13.873481</td>\n",
       "      <td>13.584635</td>\n",
       "      <td>15.624633</td>\n",
       "      <td>15.143731</td>\n",
       "      <td>2.236028</td>\n",
       "      <td>2.236028</td>\n",
       "      <td>2.236028</td>\n",
       "      <td>2.236028</td>\n",
       "      <td>2.236028</td>\n",
       "      <td>2.236028</td>\n",
       "    </tr>\n",
       "  </tbody>\n",
       "</table>\n",
       "<p>5 rows × 54679 columns</p>\n",
       "</div>"
      ],
      "text/plain": [
       "   Unnamed: 0                              tissue  endometriosis  \\\n",
       "0  GSM1256653  Early Secretory Endometrial tissue  Endometriosis   \n",
       "1  GSM1256654  Early Secretory Endometrial tissue  Endometriosis   \n",
       "2  GSM1256655    Proliferative Endometrial tissue  Endometriosis   \n",
       "3  GSM1256656    Mid-Secretory Endometrial tissue  Endometriosis   \n",
       "4  GSM1256657  Early Secretory Endometrial tissue  Endometriosis   \n",
       "\n",
       "          severity  1007_s_at   1053_at    117_at     121_at  1255_g_at  \\\n",
       "0  Moderate/Severe   9.144360  6.822537  2.416620   9.009204   2.236028   \n",
       "1  Moderate/Severe   9.071027  7.239534  2.482114   9.121438   2.236028   \n",
       "2  Moderate/Severe   8.376408  6.211566  3.000532   8.171364   2.236028   \n",
       "3  Moderate/Severe  10.326269  5.947279  2.482114  11.231319   2.236028   \n",
       "4  Moderate/Severe   9.062173  7.319749  2.564821   7.979589   2.236028   \n",
       "\n",
       "    1294_at       ...         AFFX-r2-Ec-bioD-3_at  AFFX-r2-Ec-bioD-5_at  \\\n",
       "0  4.520386       ...                    14.154105             13.799957   \n",
       "1  4.367321       ...                    14.976518             14.589105   \n",
       "2  4.232511       ...                    15.125143             14.529937   \n",
       "3  5.366003       ...                    14.630020             14.396243   \n",
       "4  5.308206       ...                    13.873481             13.584635   \n",
       "\n",
       "   AFFX-r2-P1-cre-3_at  AFFX-r2-P1-cre-5_at  AFFX-ThrX-3_at  AFFX-ThrX-5_at  \\\n",
       "0            15.704194            14.928269        2.236028        2.236028   \n",
       "1            16.271436            15.556831        2.236028        2.236028   \n",
       "2            16.569502            16.294425        2.236028        2.236028   \n",
       "3            16.021648            15.198964        2.236028        2.236028   \n",
       "4            15.624633            15.143731        2.236028        2.236028   \n",
       "\n",
       "   AFFX-ThrX-M_at  AFFX-TrpnX-3_at  AFFX-TrpnX-5_at  AFFX-TrpnX-M_at  \n",
       "0        2.236028         2.236028         2.236028         2.236028  \n",
       "1        2.236028         2.236028         2.236028         2.236028  \n",
       "2        2.236028         2.236028         2.236028         2.236028  \n",
       "3        2.236028         2.236028         2.236028         2.236028  \n",
       "4        2.236028         2.236028         2.236028         2.236028  \n",
       "\n",
       "[5 rows x 54679 columns]"
      ]
     },
     "execution_count": 11,
     "metadata": {},
     "output_type": "execute_result"
    }
   ],
   "source": [
    "full_data.head()"
   ]
  },
  {
   "cell_type": "code",
   "execution_count": 12,
   "metadata": {},
   "outputs": [
    {
     "data": {
      "text/plain": [
       "(148, 54679)"
      ]
     },
     "execution_count": 12,
     "metadata": {},
     "output_type": "execute_result"
    }
   ],
   "source": [
    "full_data.shape"
   ]
  },
  {
   "cell_type": "code",
   "execution_count": 13,
   "metadata": {},
   "outputs": [
    {
     "data": {
      "text/plain": [
       "array(['GSM1256653', 'GSM1256654', 'GSM1256655', 'GSM1256656',\n",
       "       'GSM1256657', 'GSM1256658', 'GSM1256659', 'GSM1256660',\n",
       "       'GSM1256661', 'GSM1256662', 'GSM1256663', 'GSM1256664',\n",
       "       'GSM1256665', 'GSM1256666', 'GSM1256667', 'GSM1256668',\n",
       "       'GSM1256669', 'GSM1256670', 'GSM1256671', 'GSM1256672',\n",
       "       'GSM1256673', 'GSM1256674', 'GSM1256675', 'GSM1256676',\n",
       "       'GSM1256677', 'GSM1256678', 'GSM1256679', 'GSM1256680',\n",
       "       'GSM1256681', 'GSM1256682', 'GSM1256683', 'GSM1256684',\n",
       "       'GSM1256685', 'GSM1256686', 'GSM1256687', 'GSM1256688',\n",
       "       'GSM1256689', 'GSM1256690', 'GSM1256691', 'GSM1256692',\n",
       "       'GSM1256693', 'GSM1256694', 'GSM1256695', 'GSM1256696',\n",
       "       'GSM1256697', 'GSM1256698', 'GSM1256699', 'GSM1256700',\n",
       "       'GSM1256701', 'GSM1256702', 'GSM1256703', 'GSM1256704',\n",
       "       'GSM1256705', 'GSM1256706', 'GSM1256707', 'GSM1256708',\n",
       "       'GSM1256709', 'GSM1256710', 'GSM1256711', 'GSM1256712',\n",
       "       'GSM1256713', 'GSM1256714', 'GSM1256715', 'GSM1256716',\n",
       "       'GSM1256717', 'GSM1256718', 'GSM1256719', 'GSM1256720',\n",
       "       'GSM1256721', 'GSM1256722', 'GSM1256723', 'GSM1256724',\n",
       "       'GSM1256725', 'GSM1256726', 'GSM1256727', 'GSM1256728',\n",
       "       'GSM1256729', 'GSM1256730', 'GSM1256731', 'GSM1256732',\n",
       "       'GSM1256733', 'GSM1256734', 'GSM1256735', 'GSM1256736',\n",
       "       'GSM1256737', 'GSM1256738', 'GSM1256739', 'GSM1256740',\n",
       "       'GSM1256741', 'GSM1256742', 'GSM1256743', 'GSM1256744',\n",
       "       'GSM1256745', 'GSM1256746', 'GSM1256747', 'GSM1256748',\n",
       "       'GSM1256749', 'GSM1256750', 'GSM1256751', 'GSM1256752',\n",
       "       'GSM1256753', 'GSM1256754', 'GSM1256755', 'GSM1256756',\n",
       "       'GSM1256757', 'GSM1256758', 'GSM1256759', 'GSM1256760',\n",
       "       'GSM1256761', 'GSM1256762', 'GSM1256763', 'GSM1256764',\n",
       "       'GSM1256765', 'GSM1256766', 'GSM1256767', 'GSM1256768',\n",
       "       'GSM1256769', 'GSM1256770', 'GSM1256771', 'GSM1256772',\n",
       "       'GSM1256773', 'GSM1256774', 'GSM1256775', 'GSM1256776',\n",
       "       'GSM1256777', 'GSM1256778', 'GSM1256779', 'GSM1256780',\n",
       "       'GSM1256781', 'GSM1256782', 'GSM1256783', 'GSM1256784',\n",
       "       'GSM1256785', 'GSM1256786', 'GSM1256787', 'GSM1256788',\n",
       "       'GSM1256789', 'GSM1256790', 'GSM1256791', 'GSM1256792',\n",
       "       'GSM1256793', 'GSM1256794', 'GSM1256795', 'GSM1256796',\n",
       "       'GSM1256797', 'GSM1256798', 'GSM1256799', 'GSM1256800'],\n",
       "      dtype=object)"
      ]
     },
     "execution_count": 13,
     "metadata": {},
     "output_type": "execute_result"
    }
   ],
   "source": [
    "np.intersect1d(meta[meta.columns[0]], endo[endo.columns[0]])"
   ]
  },
  {
   "cell_type": "code",
   "execution_count": 14,
   "metadata": {
    "scrolled": true
   },
   "outputs": [
    {
     "data": {
      "text/plain": [
       "array([], dtype=object)"
      ]
     },
     "execution_count": 14,
     "metadata": {},
     "output_type": "execute_result"
    }
   ],
   "source": [
    "np.setdiff1d(meta[meta.columns[0]], endo[endo.columns[0]])"
   ]
  },
  {
   "cell_type": "code",
   "execution_count": 15,
   "metadata": {},
   "outputs": [
    {
     "data": {
      "text/plain": [
       "array([], dtype=object)"
      ]
     },
     "execution_count": 15,
     "metadata": {},
     "output_type": "execute_result"
    }
   ],
   "source": [
    "np.setdiff1d(endo[endo.columns[0]], meta[meta.columns[0]])"
   ]
  },
  {
   "cell_type": "markdown",
   "metadata": {},
   "source": [
    "# Cut out here"
   ]
  },
  {
   "cell_type": "code",
   "execution_count": 16,
   "metadata": {},
   "outputs": [
    {
     "data": {
      "text/plain": [
       "54672"
      ]
     },
     "execution_count": 16,
     "metadata": {},
     "output_type": "execute_result"
    }
   ],
   "source": [
    "endo.shape[1]-4"
   ]
  },
  {
   "cell_type": "code",
   "execution_count": 17,
   "metadata": {},
   "outputs": [
    {
     "data": {
      "text/plain": [
       "[[0, 5466],\n",
       " [5467, 10933],\n",
       " [10934, 16400],\n",
       " [16401, 21867],\n",
       " [21868, 27335],\n",
       " [27336, 32802],\n",
       " [32803, 38269],\n",
       " [38270, 43736],\n",
       " [43737, 49203],\n",
       " [49204, 54671]]"
      ]
     },
     "execution_count": 17,
     "metadata": {},
     "output_type": "execute_result"
    }
   ],
   "source": [
    "ranges = [[np.min(x), np.max(x)] for x in [range(y*(endo.shape[1]-4)/10,(y+1)*(endo.shape[1]-4)/10) for y in range(0,10)]]\n",
    "ranges"
   ]
  },
  {
   "cell_type": "code",
   "execution_count": 18,
   "metadata": {},
   "outputs": [
    {
     "data": {
      "text/html": [
       "<div>\n",
       "<style scoped>\n",
       "    .dataframe tbody tr th:only-of-type {\n",
       "        vertical-align: middle;\n",
       "    }\n",
       "\n",
       "    .dataframe tbody tr th {\n",
       "        vertical-align: top;\n",
       "    }\n",
       "\n",
       "    .dataframe thead th {\n",
       "        text-align: right;\n",
       "    }\n",
       "</style>\n",
       "<table border=\"1\" class=\"dataframe\">\n",
       "  <thead>\n",
       "    <tr style=\"text-align: right;\">\n",
       "      <th></th>\n",
       "      <th>start</th>\n",
       "      <th>end</th>\n",
       "    </tr>\n",
       "  </thead>\n",
       "  <tbody>\n",
       "    <tr>\n",
       "      <th>0</th>\n",
       "      <td>0</td>\n",
       "      <td>5466</td>\n",
       "    </tr>\n",
       "    <tr>\n",
       "      <th>1</th>\n",
       "      <td>5467</td>\n",
       "      <td>10933</td>\n",
       "    </tr>\n",
       "    <tr>\n",
       "      <th>2</th>\n",
       "      <td>10934</td>\n",
       "      <td>16400</td>\n",
       "    </tr>\n",
       "    <tr>\n",
       "      <th>3</th>\n",
       "      <td>16401</td>\n",
       "      <td>21867</td>\n",
       "    </tr>\n",
       "    <tr>\n",
       "      <th>4</th>\n",
       "      <td>21868</td>\n",
       "      <td>27335</td>\n",
       "    </tr>\n",
       "    <tr>\n",
       "      <th>5</th>\n",
       "      <td>27336</td>\n",
       "      <td>32802</td>\n",
       "    </tr>\n",
       "    <tr>\n",
       "      <th>6</th>\n",
       "      <td>32803</td>\n",
       "      <td>38269</td>\n",
       "    </tr>\n",
       "    <tr>\n",
       "      <th>7</th>\n",
       "      <td>38270</td>\n",
       "      <td>43736</td>\n",
       "    </tr>\n",
       "    <tr>\n",
       "      <th>8</th>\n",
       "      <td>43737</td>\n",
       "      <td>49203</td>\n",
       "    </tr>\n",
       "    <tr>\n",
       "      <th>9</th>\n",
       "      <td>49204</td>\n",
       "      <td>54671</td>\n",
       "    </tr>\n",
       "  </tbody>\n",
       "</table>\n",
       "</div>"
      ],
      "text/plain": [
       "   start    end\n",
       "0      0   5466\n",
       "1   5467  10933\n",
       "2  10934  16400\n",
       "3  16401  21867\n",
       "4  21868  27335\n",
       "5  27336  32802\n",
       "6  32803  38269\n",
       "7  38270  43736\n",
       "8  43737  49203\n",
       "9  49204  54671"
      ]
     },
     "execution_count": 18,
     "metadata": {},
     "output_type": "execute_result"
    }
   ],
   "source": [
    "ranges = pd.DataFrame(ranges, columns=[\"start\", \"end\"])\n",
    "ranges"
   ]
  },
  {
   "cell_type": "code",
   "execution_count": 19,
   "metadata": {},
   "outputs": [],
   "source": [
    "def cut_csv(ranges, out_name):\n",
    "    this_range = range(ranges[0], ranges[1])\n",
    "    this_cut   = endo[endo.columns[[x+4 for x in this_range]]]\n",
    "    this_subset = meta.join(this_cut, how=\"outer\")\n",
    "    this_file = \"../../data/genbank/01-normalized/\" + out_name + \".csv\"\n",
    "    this_subset.to_csv(this_file, encoding=\"utf-8\")  "
   ]
  },
  {
   "cell_type": "code",
   "execution_count": 20,
   "metadata": {},
   "outputs": [
    {
     "data": {
      "text/plain": [
       "['cut_1',\n",
       " 'cut_2',\n",
       " 'cut_3',\n",
       " 'cut_4',\n",
       " 'cut_5',\n",
       " 'cut_6',\n",
       " 'cut_7',\n",
       " 'cut_8',\n",
       " 'cut_9',\n",
       " 'cut_10']"
      ]
     },
     "execution_count": 20,
     "metadata": {},
     "output_type": "execute_result"
    }
   ],
   "source": [
    "out_names = [\"cut_\"+str(x) for x in range(1,11)]\n",
    "out_names"
   ]
  },
  {
   "cell_type": "code",
   "execution_count": 21,
   "metadata": {},
   "outputs": [
    {
     "name": "stdout",
     "output_type": "stream",
     "text": [
      "0\n",
      "1\n",
      "2\n",
      "3\n",
      "4\n",
      "5\n",
      "6\n",
      "7\n",
      "8\n",
      "9\n"
     ]
    }
   ],
   "source": [
    "for index, row in ranges.iterrows():\n",
    "    print(index)\n",
    "    cut_csv(list(row), out_names[index])"
   ]
  },
  {
   "cell_type": "markdown",
   "metadata": {},
   "source": [
    "# Make A Random Sample"
   ]
  },
  {
   "cell_type": "code",
   "execution_count": null,
   "metadata": {},
   "outputs": [],
   "source": [
    "# random_integers(low[, high, size])\tRandom integers of type np.int between low and high, inclusive."
   ]
  },
  {
   "cell_type": "code",
   "execution_count": 22,
   "metadata": {},
   "outputs": [],
   "source": [
    "ix = np.random.randint(full_data.shape[1], size=100)"
   ]
  },
  {
   "cell_type": "code",
   "execution_count": 23,
   "metadata": {},
   "outputs": [],
   "source": [
    "ix = ix.tolist()"
   ]
  },
  {
   "cell_type": "code",
   "execution_count": 24,
   "metadata": {},
   "outputs": [],
   "source": [
    "start = [0,1,2,3,4]"
   ]
  },
  {
   "cell_type": "code",
   "execution_count": 25,
   "metadata": {},
   "outputs": [],
   "source": [
    "ix = [start, ix]"
   ]
  },
  {
   "cell_type": "code",
   "execution_count": 26,
   "metadata": {},
   "outputs": [],
   "source": [
    "ix = [y for x in ix for y in x]"
   ]
  },
  {
   "cell_type": "code",
   "execution_count": 27,
   "metadata": {},
   "outputs": [],
   "source": [
    "sample = full_data.columns[ix]"
   ]
  },
  {
   "cell_type": "code",
   "execution_count": 28,
   "metadata": {},
   "outputs": [
    {
     "data": {
      "text/plain": [
       "Index([u'Unnamed: 0', u'tissue', u'endometriosis', u'severity', u'1007_s_at',\n",
       "       u'202371_at', u'210656_at', u'216939_s_at', u'205160_at', u'225576_at',\n",
       "       ...\n",
       "       u'223027_at', u'242342_at', u'222257_s_at', u'204336_s_at',\n",
       "       u'201211_s_at', u'1562502_at', u'225233_at', u'1559441_s_at',\n",
       "       u'1553804_a_at', u'235668_at'],\n",
       "      dtype='object', length=105)"
      ]
     },
     "execution_count": 28,
     "metadata": {},
     "output_type": "execute_result"
    }
   ],
   "source": [
    "sample"
   ]
  },
  {
   "cell_type": "code",
   "execution_count": 29,
   "metadata": {},
   "outputs": [],
   "source": [
    "sample_df = full_data[sample]"
   ]
  },
  {
   "cell_type": "code",
   "execution_count": 30,
   "metadata": {},
   "outputs": [],
   "source": [
    "sample_df.to_csv(\"../../data/genbank/01-small-subset/normalized_subset.csv\")"
   ]
  },
  {
   "cell_type": "code",
   "execution_count": 31,
   "metadata": {},
   "outputs": [
    {
     "data": {
      "text/plain": [
       "(148, 54679)"
      ]
     },
     "execution_count": 31,
     "metadata": {},
     "output_type": "execute_result"
    }
   ],
   "source": [
    "full_data.shape"
   ]
  },
  {
   "cell_type": "code",
   "execution_count": null,
   "metadata": {},
   "outputs": [],
   "source": []
  }
 ],
 "metadata": {
  "kernelspec": {
   "display_name": "Python 2",
   "language": "python",
   "name": "python2"
  },
  "language_info": {
   "codemirror_mode": {
    "name": "ipython",
    "version": 2
   },
   "file_extension": ".py",
   "mimetype": "text/x-python",
   "name": "python",
   "nbconvert_exporter": "python",
   "pygments_lexer": "ipython2",
   "version": "2.7.15"
  }
 },
 "nbformat": 4,
 "nbformat_minor": 2
}
