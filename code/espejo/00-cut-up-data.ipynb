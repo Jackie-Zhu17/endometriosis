{
 "cells": [
  {
   "cell_type": "markdown",
   "metadata": {},
   "source": [
    "# Going to go a bit crazyyyy"
   ]
  },
  {
   "cell_type": "code",
   "execution_count": 1,
   "metadata": {},
   "outputs": [],
   "source": [
    "import pandas as pd\n",
    "import numpy as np\n",
    "import re"
   ]
  },
  {
   "cell_type": "code",
   "execution_count": 2,
   "metadata": {},
   "outputs": [],
   "source": [
    "endo = pd.read_csv(\"../../../../Dropbox/cal_berkeley/classes/phc240c/normalized_t.csv\")"
   ]
  },
  {
   "cell_type": "code",
   "execution_count": 3,
   "metadata": {
    "scrolled": true
   },
   "outputs": [
    {
     "data": {
      "text/html": [
       "<div>\n",
       "<style scoped>\n",
       "    .dataframe tbody tr th:only-of-type {\n",
       "        vertical-align: middle;\n",
       "    }\n",
       "\n",
       "    .dataframe tbody tr th {\n",
       "        vertical-align: top;\n",
       "    }\n",
       "\n",
       "    .dataframe thead th {\n",
       "        text-align: right;\n",
       "    }\n",
       "</style>\n",
       "<table border=\"1\" class=\"dataframe\">\n",
       "  <thead>\n",
       "    <tr style=\"text-align: right;\">\n",
       "      <th></th>\n",
       "      <th>Unnamed: 0</th>\n",
       "      <th>1007_s_at</th>\n",
       "      <th>1053_at</th>\n",
       "      <th>117_at</th>\n",
       "      <th>121_at</th>\n",
       "      <th>1255_g_at</th>\n",
       "      <th>1294_at</th>\n",
       "      <th>1316_at</th>\n",
       "      <th>1320_at</th>\n",
       "      <th>1405_i_at</th>\n",
       "      <th>...</th>\n",
       "      <th>AFFX-r2-Ec-bioD-3_at</th>\n",
       "      <th>AFFX-r2-Ec-bioD-5_at</th>\n",
       "      <th>AFFX-r2-P1-cre-3_at</th>\n",
       "      <th>AFFX-r2-P1-cre-5_at</th>\n",
       "      <th>AFFX-ThrX-3_at</th>\n",
       "      <th>AFFX-ThrX-5_at</th>\n",
       "      <th>AFFX-ThrX-M_at</th>\n",
       "      <th>AFFX-TrpnX-3_at</th>\n",
       "      <th>AFFX-TrpnX-5_at</th>\n",
       "      <th>AFFX-TrpnX-M_at</th>\n",
       "    </tr>\n",
       "  </thead>\n",
       "  <tbody>\n",
       "    <tr>\n",
       "      <th>0</th>\n",
       "      <td>GSM1256653_123.CEL.gz</td>\n",
       "      <td>9.144360</td>\n",
       "      <td>6.822537</td>\n",
       "      <td>2.416620</td>\n",
       "      <td>9.009204</td>\n",
       "      <td>2.236028</td>\n",
       "      <td>4.520386</td>\n",
       "      <td>4.526698</td>\n",
       "      <td>2.236028</td>\n",
       "      <td>7.767562</td>\n",
       "      <td>...</td>\n",
       "      <td>14.154105</td>\n",
       "      <td>13.799957</td>\n",
       "      <td>15.704194</td>\n",
       "      <td>14.928269</td>\n",
       "      <td>2.236028</td>\n",
       "      <td>2.236028</td>\n",
       "      <td>2.236028</td>\n",
       "      <td>2.236028</td>\n",
       "      <td>2.236028</td>\n",
       "      <td>2.236028</td>\n",
       "    </tr>\n",
       "    <tr>\n",
       "      <th>1</th>\n",
       "      <td>GSM1256654_118.CEL.gz</td>\n",
       "      <td>9.071027</td>\n",
       "      <td>7.239534</td>\n",
       "      <td>2.482114</td>\n",
       "      <td>9.121438</td>\n",
       "      <td>2.236028</td>\n",
       "      <td>4.367321</td>\n",
       "      <td>5.062675</td>\n",
       "      <td>2.236028</td>\n",
       "      <td>5.342020</td>\n",
       "      <td>...</td>\n",
       "      <td>14.976518</td>\n",
       "      <td>14.589105</td>\n",
       "      <td>16.271436</td>\n",
       "      <td>15.556831</td>\n",
       "      <td>2.236028</td>\n",
       "      <td>2.236028</td>\n",
       "      <td>2.236028</td>\n",
       "      <td>2.236028</td>\n",
       "      <td>2.236028</td>\n",
       "      <td>2.236028</td>\n",
       "    </tr>\n",
       "    <tr>\n",
       "      <th>2</th>\n",
       "      <td>GSM1256655_103.CEL.gz</td>\n",
       "      <td>8.376408</td>\n",
       "      <td>6.211566</td>\n",
       "      <td>3.000532</td>\n",
       "      <td>8.171364</td>\n",
       "      <td>2.236028</td>\n",
       "      <td>4.232511</td>\n",
       "      <td>5.081152</td>\n",
       "      <td>2.236028</td>\n",
       "      <td>6.775237</td>\n",
       "      <td>...</td>\n",
       "      <td>15.125143</td>\n",
       "      <td>14.529937</td>\n",
       "      <td>16.569502</td>\n",
       "      <td>16.294425</td>\n",
       "      <td>2.236028</td>\n",
       "      <td>2.236028</td>\n",
       "      <td>2.236028</td>\n",
       "      <td>2.236028</td>\n",
       "      <td>2.236028</td>\n",
       "      <td>2.236028</td>\n",
       "    </tr>\n",
       "    <tr>\n",
       "      <th>3</th>\n",
       "      <td>GSM1256656_132.CEL.gz</td>\n",
       "      <td>10.326269</td>\n",
       "      <td>5.947279</td>\n",
       "      <td>2.482114</td>\n",
       "      <td>11.231319</td>\n",
       "      <td>2.236028</td>\n",
       "      <td>5.366003</td>\n",
       "      <td>4.475372</td>\n",
       "      <td>2.236028</td>\n",
       "      <td>6.191358</td>\n",
       "      <td>...</td>\n",
       "      <td>14.630020</td>\n",
       "      <td>14.396243</td>\n",
       "      <td>16.021648</td>\n",
       "      <td>15.198964</td>\n",
       "      <td>2.236028</td>\n",
       "      <td>2.236028</td>\n",
       "      <td>2.236028</td>\n",
       "      <td>2.236028</td>\n",
       "      <td>2.236028</td>\n",
       "      <td>2.236028</td>\n",
       "    </tr>\n",
       "    <tr>\n",
       "      <th>4</th>\n",
       "      <td>GSM1256657_119.CEL.gz</td>\n",
       "      <td>9.062173</td>\n",
       "      <td>7.319749</td>\n",
       "      <td>2.564821</td>\n",
       "      <td>7.979589</td>\n",
       "      <td>2.236028</td>\n",
       "      <td>5.308206</td>\n",
       "      <td>4.416175</td>\n",
       "      <td>2.236028</td>\n",
       "      <td>8.618690</td>\n",
       "      <td>...</td>\n",
       "      <td>13.873481</td>\n",
       "      <td>13.584635</td>\n",
       "      <td>15.624633</td>\n",
       "      <td>15.143731</td>\n",
       "      <td>2.236028</td>\n",
       "      <td>2.236028</td>\n",
       "      <td>2.236028</td>\n",
       "      <td>2.236028</td>\n",
       "      <td>2.236028</td>\n",
       "      <td>2.236028</td>\n",
       "    </tr>\n",
       "  </tbody>\n",
       "</table>\n",
       "<p>5 rows × 54676 columns</p>\n",
       "</div>"
      ],
      "text/plain": [
       "              Unnamed: 0  1007_s_at   1053_at    117_at     121_at  1255_g_at  \\\n",
       "0  GSM1256653_123.CEL.gz   9.144360  6.822537  2.416620   9.009204   2.236028   \n",
       "1  GSM1256654_118.CEL.gz   9.071027  7.239534  2.482114   9.121438   2.236028   \n",
       "2  GSM1256655_103.CEL.gz   8.376408  6.211566  3.000532   8.171364   2.236028   \n",
       "3  GSM1256656_132.CEL.gz  10.326269  5.947279  2.482114  11.231319   2.236028   \n",
       "4  GSM1256657_119.CEL.gz   9.062173  7.319749  2.564821   7.979589   2.236028   \n",
       "\n",
       "    1294_at   1316_at   1320_at  1405_i_at       ...         \\\n",
       "0  4.520386  4.526698  2.236028   7.767562       ...          \n",
       "1  4.367321  5.062675  2.236028   5.342020       ...          \n",
       "2  4.232511  5.081152  2.236028   6.775237       ...          \n",
       "3  5.366003  4.475372  2.236028   6.191358       ...          \n",
       "4  5.308206  4.416175  2.236028   8.618690       ...          \n",
       "\n",
       "   AFFX-r2-Ec-bioD-3_at  AFFX-r2-Ec-bioD-5_at  AFFX-r2-P1-cre-3_at  \\\n",
       "0             14.154105             13.799957            15.704194   \n",
       "1             14.976518             14.589105            16.271436   \n",
       "2             15.125143             14.529937            16.569502   \n",
       "3             14.630020             14.396243            16.021648   \n",
       "4             13.873481             13.584635            15.624633   \n",
       "\n",
       "   AFFX-r2-P1-cre-5_at  AFFX-ThrX-3_at  AFFX-ThrX-5_at  AFFX-ThrX-M_at  \\\n",
       "0            14.928269        2.236028        2.236028        2.236028   \n",
       "1            15.556831        2.236028        2.236028        2.236028   \n",
       "2            16.294425        2.236028        2.236028        2.236028   \n",
       "3            15.198964        2.236028        2.236028        2.236028   \n",
       "4            15.143731        2.236028        2.236028        2.236028   \n",
       "\n",
       "   AFFX-TrpnX-3_at  AFFX-TrpnX-5_at  AFFX-TrpnX-M_at  \n",
       "0         2.236028         2.236028         2.236028  \n",
       "1         2.236028         2.236028         2.236028  \n",
       "2         2.236028         2.236028         2.236028  \n",
       "3         2.236028         2.236028         2.236028  \n",
       "4         2.236028         2.236028         2.236028  \n",
       "\n",
       "[5 rows x 54676 columns]"
      ]
     },
     "execution_count": 3,
     "metadata": {},
     "output_type": "execute_result"
    }
   ],
   "source": [
    "endo.head()"
   ]
  },
  {
   "cell_type": "code",
   "execution_count": 4,
   "metadata": {},
   "outputs": [
    {
     "data": {
      "text/plain": [
       "(148, 54676)"
      ]
     },
     "execution_count": 4,
     "metadata": {},
     "output_type": "execute_result"
    }
   ],
   "source": [
    "endo.shape"
   ]
  },
  {
   "cell_type": "code",
   "execution_count": null,
   "metadata": {},
   "outputs": [],
   "source": [
    "endo[endo.columns[0]] = [re.sub(\".CEL.gz\", \"\", x) for x in  endo[endo.columns[0]]]"
   ]
  },
  {
   "cell_type": "code",
   "execution_count": null,
   "metadata": {},
   "outputs": [],
   "source": [
    "endo[endo.columns[0]] = [re.sub(\"_[0-9]{1,3}\", \"\", x) for x in endo[endo.columns[0]]]"
   ]
  },
  {
   "cell_type": "code",
   "execution_count": null,
   "metadata": {},
   "outputs": [],
   "source": [
    "endo.head()"
   ]
  },
  {
   "cell_type": "code",
   "execution_count": null,
   "metadata": {},
   "outputs": [],
   "source": [
    "meta = pd.read_csv(\"../../data/genbank/clean-csv/metadata.csv\")"
   ]
  },
  {
   "cell_type": "code",
   "execution_count": null,
   "metadata": {},
   "outputs": [],
   "source": [
    "meta.head()"
   ]
  },
  {
   "cell_type": "code",
   "execution_count": null,
   "metadata": {},
   "outputs": [],
   "source": [
    "full_data = meta.merge(endo, on=meta.columns[0])"
   ]
  },
  {
   "cell_type": "code",
   "execution_count": null,
   "metadata": {
    "scrolled": true
   },
   "outputs": [],
   "source": [
    "full_data.head()"
   ]
  },
  {
   "cell_type": "code",
   "execution_count": null,
   "metadata": {},
   "outputs": [],
   "source": [
    "full_data.shape"
   ]
  },
  {
   "cell_type": "code",
   "execution_count": null,
   "metadata": {},
   "outputs": [],
   "source": [
    "np.intersect1d(meta[meta.columns[0]], endo[endo.columns[0]])"
   ]
  },
  {
   "cell_type": "code",
   "execution_count": null,
   "metadata": {
    "scrolled": true
   },
   "outputs": [],
   "source": [
    "np.setdiff1d(meta[meta.columns[0]], endo[endo.columns[0]])"
   ]
  },
  {
   "cell_type": "code",
   "execution_count": null,
   "metadata": {},
   "outputs": [],
   "source": [
    "np.setdiff1d(endo[endo.columns[0]], meta[meta.columns[0]])"
   ]
  },
  {
   "cell_type": "markdown",
   "metadata": {},
   "source": [
    "# Cut out here"
   ]
  },
  {
   "cell_type": "code",
   "execution_count": null,
   "metadata": {},
   "outputs": [],
   "source": [
    "endo.shape[1]-4"
   ]
  },
  {
   "cell_type": "code",
   "execution_count": null,
   "metadata": {},
   "outputs": [],
   "source": [
    "ranges = [[np.min(x), np.max(x)] for x in [range(y*(endo.shape[1]-4)/10,(y+1)*(endo.shape[1]-4)/10) for y in range(0,10)]]\n",
    "ranges"
   ]
  },
  {
   "cell_type": "code",
   "execution_count": null,
   "metadata": {},
   "outputs": [],
   "source": [
    "ranges = pd.DataFrame(ranges, columns=[\"start\", \"end\"])\n",
    "ranges"
   ]
  },
  {
   "cell_type": "code",
   "execution_count": null,
   "metadata": {},
   "outputs": [],
   "source": [
    "def cut_csv(ranges, out_name):\n",
    "    this_range = range(ranges[0], ranges[1])\n",
    "    this_cut   = endo[endo.columns[[x+4 for x in this_range]]]\n",
    "    this_subset = meta.join(this_cut, how=\"outer\")\n",
    "    this_file = \"../../data/genbank/01-normalized/\" + out_name + \".csv\"\n",
    "    this_subset.to_csv(this_file, encoding=\"utf-8\")  "
   ]
  },
  {
   "cell_type": "code",
   "execution_count": null,
   "metadata": {},
   "outputs": [],
   "source": [
    "out_names = [\"cut_\"+str(x) for x in range(1,11)]\n",
    "out_names"
   ]
  },
  {
   "cell_type": "code",
   "execution_count": null,
   "metadata": {},
   "outputs": [],
   "source": [
    "for index, row in ranges.iterrows():\n",
    "    print(index)\n",
    "    cut_csv(list(row), out_names[index])"
   ]
  },
  {
   "cell_type": "markdown",
   "metadata": {},
   "source": [
    "# Make A Random Sample"
   ]
  },
  {
   "cell_type": "code",
   "execution_count": null,
   "metadata": {},
   "outputs": [],
   "source": [
    "# random_integers(low[, high, size])\tRandom integers of type np.int between low and high, inclusive."
   ]
  },
  {
   "cell_type": "code",
   "execution_count": null,
   "metadata": {},
   "outputs": [],
   "source": [
    "ix = np.random.randint(full_data.shape[1], size=100)"
   ]
  },
  {
   "cell_type": "code",
   "execution_count": null,
   "metadata": {},
   "outputs": [],
   "source": [
    "ix = ix.tolist()"
   ]
  },
  {
   "cell_type": "code",
   "execution_count": null,
   "metadata": {},
   "outputs": [],
   "source": [
    "start = [0,1,2,3,4]"
   ]
  },
  {
   "cell_type": "code",
   "execution_count": null,
   "metadata": {},
   "outputs": [],
   "source": [
    "ix = [start, ix]"
   ]
  },
  {
   "cell_type": "code",
   "execution_count": null,
   "metadata": {},
   "outputs": [],
   "source": [
    "ix = [y for x in ix for y in x]"
   ]
  },
  {
   "cell_type": "code",
   "execution_count": null,
   "metadata": {},
   "outputs": [],
   "source": [
    "sample = full_data.columns[ix]"
   ]
  },
  {
   "cell_type": "code",
   "execution_count": null,
   "metadata": {},
   "outputs": [],
   "source": [
    "sample"
   ]
  },
  {
   "cell_type": "code",
   "execution_count": null,
   "metadata": {},
   "outputs": [],
   "source": [
    "sample_df = full_data[sample]"
   ]
  },
  {
   "cell_type": "code",
   "execution_count": null,
   "metadata": {},
   "outputs": [],
   "source": [
    "sample_df.to_csv(\"../../data/genbank/01-small-subset/normalized_subset.csv\")"
   ]
  },
  {
   "cell_type": "code",
   "execution_count": null,
   "metadata": {},
   "outputs": [],
   "source": [
    "full_data.shape"
   ]
  },
  {
   "cell_type": "code",
   "execution_count": null,
   "metadata": {},
   "outputs": [],
   "source": []
  }
 ],
 "metadata": {
  "kernelspec": {
   "display_name": "Python 2",
   "language": "python",
   "name": "python2"
  },
  "language_info": {
   "codemirror_mode": {
    "name": "ipython",
    "version": 2
   },
   "file_extension": ".py",
   "mimetype": "text/x-python",
   "name": "python",
   "nbconvert_exporter": "python",
   "pygments_lexer": "ipython2",
   "version": "2.7.15"
  }
 },
 "nbformat": 4,
 "nbformat_minor": 2
}
