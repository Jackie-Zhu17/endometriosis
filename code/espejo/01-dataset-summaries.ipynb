{
 "cells": [
  {
   "cell_type": "markdown",
   "metadata": {},
   "source": [
    "# Genbank Dataset"
   ]
  },
  {
   "cell_type": "code",
   "execution_count": 2,
   "metadata": {},
   "outputs": [],
   "source": [
    "import pandas as pd\n",
    "import numpy as np\n",
    "import os"
   ]
  },
  {
   "cell_type": "code",
   "execution_count": 4,
   "metadata": {},
   "outputs": [],
   "source": [
    "series = pd.read_csv(\"../../data/genbank/clean-csv/series_clean.csv\")"
   ]
  },
  {
   "cell_type": "code",
   "execution_count": 5,
   "metadata": {},
   "outputs": [
    {
     "data": {
      "text/plain": [
       "(148, 54676)"
      ]
     },
     "execution_count": 5,
     "metadata": {},
     "output_type": "execute_result"
    }
   ],
   "source": [
    "series.shape"
   ]
  },
  {
   "cell_type": "markdown",
   "metadata": {},
   "source": [
    "# Figshare Dataset"
   ]
  },
  {
   "cell_type": "code",
   "execution_count": 7,
   "metadata": {},
   "outputs": [],
   "source": [
    "series_2a = pd.read_csv(\"../../data/figshare/clean-csv/minimal-mild.csv\")"
   ]
  },
  {
   "cell_type": "code",
   "execution_count": 8,
   "metadata": {},
   "outputs": [],
   "source": [
    "series_2b = pd.read_csv(\"../../data/figshare/clean-csv/moderate-severe.csv\")"
   ]
  },
  {
   "cell_type": "code",
   "execution_count": 9,
   "metadata": {},
   "outputs": [],
   "source": [
    "series_2c = pd.read_csv(\"../../data/figshare/clean-csv/normal.csv\")"
   ]
  },
  {
   "cell_type": "code",
   "execution_count": 14,
   "metadata": {},
   "outputs": [],
   "source": [
    "series_2 = series_2a.append([series_2b, series_2c])"
   ]
  },
  {
   "cell_type": "code",
   "execution_count": 16,
   "metadata": {},
   "outputs": [
    {
     "data": {
      "text/plain": [
       "(105, 10129)"
      ]
     },
     "execution_count": 16,
     "metadata": {},
     "output_type": "execute_result"
    }
   ],
   "source": [
    "series_2.shape"
   ]
  },
  {
   "cell_type": "markdown",
   "metadata": {},
   "source": [
    "# Subject Names"
   ]
  },
  {
   "cell_type": "code",
   "execution_count": 30,
   "metadata": {},
   "outputs": [],
   "source": [
    "same_subjects = np.intersect1d(series[series.columns[0]], series_2[series_2.columns[0]])"
   ]
  },
  {
   "cell_type": "code",
   "execution_count": 31,
   "metadata": {},
   "outputs": [
    {
     "data": {
      "text/plain": [
       "105"
      ]
     },
     "execution_count": 31,
     "metadata": {},
     "output_type": "execute_result"
    }
   ],
   "source": [
    "len(same_subjects)"
   ]
  },
  {
   "cell_type": "markdown",
   "metadata": {},
   "source": [
    "All of the subjects within the Figshare dataset are within the Genbank dataset."
   ]
  },
  {
   "cell_type": "markdown",
   "metadata": {},
   "source": [
    "# Compare Information for One Subject"
   ]
  },
  {
   "cell_type": "code",
   "execution_count": 38,
   "metadata": {},
   "outputs": [
    {
     "data": {
      "text/plain": [
       "'GSM1256653'"
      ]
     },
     "execution_count": 38,
     "metadata": {},
     "output_type": "execute_result"
    }
   ],
   "source": [
    "series[series.columns[0]][0]"
   ]
  },
  {
   "cell_type": "markdown",
   "metadata": {},
   "source": [
    "I am just choosing the first subject. I want to see if the Figshare data is entirely included in the genbank data."
   ]
  },
  {
   "cell_type": "code",
   "execution_count": 40,
   "metadata": {},
   "outputs": [
    {
     "data": {
      "text/html": [
       "<div>\n",
       "<style scoped>\n",
       "    .dataframe tbody tr th:only-of-type {\n",
       "        vertical-align: middle;\n",
       "    }\n",
       "\n",
       "    .dataframe tbody tr th {\n",
       "        vertical-align: top;\n",
       "    }\n",
       "\n",
       "    .dataframe thead th {\n",
       "        text-align: right;\n",
       "    }\n",
       "</style>\n",
       "<table border=\"1\" class=\"dataframe\">\n",
       "  <thead>\n",
       "    <tr style=\"text-align: right;\">\n",
       "      <th></th>\n",
       "      <th>Samples</th>\n",
       "      <th>A1BG</th>\n",
       "      <th>A1BG-AS1</th>\n",
       "      <th>A4GALT</th>\n",
       "      <th>AA06</th>\n",
       "      <th>AAAS</th>\n",
       "      <th>AADAT</th>\n",
       "      <th>AAED1</th>\n",
       "      <th>AAGAB</th>\n",
       "      <th>AAK1</th>\n",
       "      <th>...</th>\n",
       "      <th>ZUFSP</th>\n",
       "      <th>ZW10</th>\n",
       "      <th>ZWILCH</th>\n",
       "      <th>ZWINT</th>\n",
       "      <th>ZXDA</th>\n",
       "      <th>ZXDB</th>\n",
       "      <th>ZXDC</th>\n",
       "      <th>ZYG11B</th>\n",
       "      <th>ZYX</th>\n",
       "      <th>ZZZ3</th>\n",
       "    </tr>\n",
       "  </thead>\n",
       "  <tbody>\n",
       "    <tr>\n",
       "      <th>45</th>\n",
       "      <td>GSM1256653</td>\n",
       "      <td>3.51288</td>\n",
       "      <td>4.44349</td>\n",
       "      <td>5.631155</td>\n",
       "      <td>2.517551</td>\n",
       "      <td>7.085175</td>\n",
       "      <td>9.153869</td>\n",
       "      <td>7.204691</td>\n",
       "      <td>7.284539</td>\n",
       "      <td>8.579684</td>\n",
       "      <td>...</td>\n",
       "      <td>6.675945</td>\n",
       "      <td>5.848274</td>\n",
       "      <td>8.059279</td>\n",
       "      <td>9.455542</td>\n",
       "      <td>4.666837</td>\n",
       "      <td>6.281151</td>\n",
       "      <td>7.348984</td>\n",
       "      <td>8.795913</td>\n",
       "      <td>10.805371</td>\n",
       "      <td>8.067536</td>\n",
       "    </tr>\n",
       "  </tbody>\n",
       "</table>\n",
       "<p>1 rows × 10129 columns</p>\n",
       "</div>"
      ],
      "text/plain": [
       "       Samples     A1BG  A1BG-AS1    A4GALT      AA06      AAAS     AADAT  \\\n",
       "45  GSM1256653  3.51288   4.44349  5.631155  2.517551  7.085175  9.153869   \n",
       "\n",
       "       AAED1     AAGAB      AAK1    ...        ZUFSP      ZW10    ZWILCH  \\\n",
       "45  7.204691  7.284539  8.579684    ...     6.675945  5.848274  8.059279   \n",
       "\n",
       "       ZWINT      ZXDA      ZXDB      ZXDC    ZYG11B        ZYX      ZZZ3  \n",
       "45  9.455542  4.666837  6.281151  7.348984  8.795913  10.805371  8.067536  \n",
       "\n",
       "[1 rows x 10129 columns]"
      ]
     },
     "execution_count": 40,
     "metadata": {},
     "output_type": "execute_result"
    }
   ],
   "source": [
    "series_2.loc[series_2[series_2.columns[0]] == \"GSM1256653\"]"
   ]
  },
  {
   "cell_type": "code",
   "execution_count": 45,
   "metadata": {},
   "outputs": [
    {
     "data": {
      "text/html": [
       "<div>\n",
       "<style scoped>\n",
       "    .dataframe tbody tr th:only-of-type {\n",
       "        vertical-align: middle;\n",
       "    }\n",
       "\n",
       "    .dataframe tbody tr th {\n",
       "        vertical-align: top;\n",
       "    }\n",
       "\n",
       "    .dataframe thead th {\n",
       "        text-align: right;\n",
       "    }\n",
       "</style>\n",
       "<table border=\"1\" class=\"dataframe\">\n",
       "  <thead>\n",
       "    <tr style=\"text-align: right;\">\n",
       "      <th></th>\n",
       "      <th>Unnamed: 0</th>\n",
       "      <th>1007_s_at</th>\n",
       "      <th>1053_at</th>\n",
       "      <th>117_at</th>\n",
       "      <th>121_at</th>\n",
       "      <th>1255_g_at</th>\n",
       "      <th>1294_at</th>\n",
       "      <th>1316_at</th>\n",
       "      <th>1320_at</th>\n",
       "      <th>1405_i_at</th>\n",
       "      <th>...</th>\n",
       "      <th>AFFX-r2-Ec-bioD-3_at</th>\n",
       "      <th>AFFX-r2-Ec-bioD-5_at</th>\n",
       "      <th>AFFX-r2-P1-cre-3_at</th>\n",
       "      <th>AFFX-r2-P1-cre-5_at</th>\n",
       "      <th>AFFX-ThrX-3_at</th>\n",
       "      <th>AFFX-ThrX-5_at</th>\n",
       "      <th>AFFX-ThrX-M_at</th>\n",
       "      <th>AFFX-TrpnX-3_at</th>\n",
       "      <th>AFFX-TrpnX-5_at</th>\n",
       "      <th>AFFX-TrpnX-M_at</th>\n",
       "    </tr>\n",
       "  </thead>\n",
       "  <tbody>\n",
       "    <tr>\n",
       "      <th>0</th>\n",
       "      <td>GSM1256653</td>\n",
       "      <td>9.14257</td>\n",
       "      <td>6.82935</td>\n",
       "      <td>2.41587</td>\n",
       "      <td>9.03404</td>\n",
       "      <td>2.23607</td>\n",
       "      <td>4.55585</td>\n",
       "      <td>4.51324</td>\n",
       "      <td>2.23607</td>\n",
       "      <td>7.78078</td>\n",
       "      <td>...</td>\n",
       "      <td>14.133</td>\n",
       "      <td>13.782</td>\n",
       "      <td>15.6913</td>\n",
       "      <td>14.9328</td>\n",
       "      <td>2.23607</td>\n",
       "      <td>2.23607</td>\n",
       "      <td>2.23607</td>\n",
       "      <td>2.23607</td>\n",
       "      <td>2.23607</td>\n",
       "      <td>2.23607</td>\n",
       "    </tr>\n",
       "  </tbody>\n",
       "</table>\n",
       "<p>1 rows × 54676 columns</p>\n",
       "</div>"
      ],
      "text/plain": [
       "   Unnamed: 0 1007_s_at  1053_at   117_at   121_at 1255_g_at  1294_at  \\\n",
       "0  GSM1256653   9.14257  6.82935  2.41587  9.03404   2.23607  4.55585   \n",
       "\n",
       "   1316_at  1320_at 1405_i_at       ...       AFFX-r2-Ec-bioD-3_at  \\\n",
       "0  4.51324  2.23607   7.78078       ...                     14.133   \n",
       "\n",
       "  AFFX-r2-Ec-bioD-5_at AFFX-r2-P1-cre-3_at AFFX-r2-P1-cre-5_at AFFX-ThrX-3_at  \\\n",
       "0               13.782             15.6913             14.9328        2.23607   \n",
       "\n",
       "  AFFX-ThrX-5_at AFFX-ThrX-M_at AFFX-TrpnX-3_at AFFX-TrpnX-5_at  \\\n",
       "0        2.23607        2.23607         2.23607         2.23607   \n",
       "\n",
       "  AFFX-TrpnX-M_at  \n",
       "0         2.23607  \n",
       "\n",
       "[1 rows x 54676 columns]"
      ]
     },
     "execution_count": 45,
     "metadata": {},
     "output_type": "execute_result"
    }
   ],
   "source": [
    "pd.DataFrame(series.iloc[0]).T"
   ]
  },
  {
   "cell_type": "code",
   "execution_count": 49,
   "metadata": {},
   "outputs": [
    {
     "data": {
      "text/html": [
       "<div>\n",
       "<style scoped>\n",
       "    .dataframe tbody tr th:only-of-type {\n",
       "        vertical-align: middle;\n",
       "    }\n",
       "\n",
       "    .dataframe tbody tr th {\n",
       "        vertical-align: top;\n",
       "    }\n",
       "\n",
       "    .dataframe thead th {\n",
       "        text-align: right;\n",
       "    }\n",
       "</style>\n",
       "<table border=\"1\" class=\"dataframe\">\n",
       "  <thead>\n",
       "    <tr style=\"text-align: right;\">\n",
       "      <th></th>\n",
       "      <th>0</th>\n",
       "    </tr>\n",
       "  </thead>\n",
       "  <tbody>\n",
       "    <tr>\n",
       "      <th>Unnamed: 0</th>\n",
       "      <td>GSM1256653</td>\n",
       "    </tr>\n",
       "    <tr>\n",
       "      <th>1007_s_at</th>\n",
       "      <td>9.14257</td>\n",
       "    </tr>\n",
       "    <tr>\n",
       "      <th>1053_at</th>\n",
       "      <td>6.82935</td>\n",
       "    </tr>\n",
       "    <tr>\n",
       "      <th>117_at</th>\n",
       "      <td>2.41587</td>\n",
       "    </tr>\n",
       "    <tr>\n",
       "      <th>121_at</th>\n",
       "      <td>9.03404</td>\n",
       "    </tr>\n",
       "    <tr>\n",
       "      <th>1255_g_at</th>\n",
       "      <td>2.23607</td>\n",
       "    </tr>\n",
       "    <tr>\n",
       "      <th>1294_at</th>\n",
       "      <td>4.55585</td>\n",
       "    </tr>\n",
       "    <tr>\n",
       "      <th>1316_at</th>\n",
       "      <td>4.51324</td>\n",
       "    </tr>\n",
       "    <tr>\n",
       "      <th>1320_at</th>\n",
       "      <td>2.23607</td>\n",
       "    </tr>\n",
       "    <tr>\n",
       "      <th>1405_i_at</th>\n",
       "      <td>7.78078</td>\n",
       "    </tr>\n",
       "    <tr>\n",
       "      <th>1431_at</th>\n",
       "      <td>2.25388</td>\n",
       "    </tr>\n",
       "    <tr>\n",
       "      <th>1438_at</th>\n",
       "      <td>5.82313</td>\n",
       "    </tr>\n",
       "    <tr>\n",
       "      <th>1487_at</th>\n",
       "      <td>6.50743</td>\n",
       "    </tr>\n",
       "    <tr>\n",
       "      <th>1494_f_at</th>\n",
       "      <td>2.23607</td>\n",
       "    </tr>\n",
       "    <tr>\n",
       "      <th>1552256_a_at</th>\n",
       "      <td>6.22082</td>\n",
       "    </tr>\n",
       "    <tr>\n",
       "      <th>1552257_a_at</th>\n",
       "      <td>7.51147</td>\n",
       "    </tr>\n",
       "    <tr>\n",
       "      <th>1552258_at</th>\n",
       "      <td>2.23607</td>\n",
       "    </tr>\n",
       "    <tr>\n",
       "      <th>1552261_at</th>\n",
       "      <td>5.66273</td>\n",
       "    </tr>\n",
       "    <tr>\n",
       "      <th>1552263_at</th>\n",
       "      <td>4.46698</td>\n",
       "    </tr>\n",
       "    <tr>\n",
       "      <th>1552264_a_at</th>\n",
       "      <td>5.43233</td>\n",
       "    </tr>\n",
       "    <tr>\n",
       "      <th>1552266_at</th>\n",
       "      <td>2.43465</td>\n",
       "    </tr>\n",
       "    <tr>\n",
       "      <th>1552269_at</th>\n",
       "      <td>2.23765</td>\n",
       "    </tr>\n",
       "    <tr>\n",
       "      <th>1552271_at</th>\n",
       "      <td>2.23607</td>\n",
       "    </tr>\n",
       "    <tr>\n",
       "      <th>1552272_a_at</th>\n",
       "      <td>2.47297</td>\n",
       "    </tr>\n",
       "    <tr>\n",
       "      <th>1552274_at</th>\n",
       "      <td>5.84659</td>\n",
       "    </tr>\n",
       "    <tr>\n",
       "      <th>1552275_s_at</th>\n",
       "      <td>4.9513</td>\n",
       "    </tr>\n",
       "    <tr>\n",
       "      <th>1552276_a_at</th>\n",
       "      <td>2.23607</td>\n",
       "    </tr>\n",
       "    <tr>\n",
       "      <th>1552277_a_at</th>\n",
       "      <td>6.90821</td>\n",
       "    </tr>\n",
       "    <tr>\n",
       "      <th>1552278_a_at</th>\n",
       "      <td>2.2384</td>\n",
       "    </tr>\n",
       "    <tr>\n",
       "      <th>1552279_a_at</th>\n",
       "      <td>2.92473</td>\n",
       "    </tr>\n",
       "    <tr>\n",
       "      <th>...</th>\n",
       "      <td>...</td>\n",
       "    </tr>\n",
       "    <tr>\n",
       "      <th>AFFX-PheX-3_at</th>\n",
       "      <td>2.33197</td>\n",
       "    </tr>\n",
       "    <tr>\n",
       "      <th>AFFX-PheX-5_at</th>\n",
       "      <td>2.23607</td>\n",
       "    </tr>\n",
       "    <tr>\n",
       "      <th>AFFX-PheX-M_at</th>\n",
       "      <td>2.23607</td>\n",
       "    </tr>\n",
       "    <tr>\n",
       "      <th>AFFX-r2-Bs-dap-3_at</th>\n",
       "      <td>2.23607</td>\n",
       "    </tr>\n",
       "    <tr>\n",
       "      <th>AFFX-r2-Bs-dap-5_at</th>\n",
       "      <td>2.23607</td>\n",
       "    </tr>\n",
       "    <tr>\n",
       "      <th>AFFX-r2-Bs-dap-M_at</th>\n",
       "      <td>2.23607</td>\n",
       "    </tr>\n",
       "    <tr>\n",
       "      <th>AFFX-r2-Bs-lys-3_at</th>\n",
       "      <td>2.23607</td>\n",
       "    </tr>\n",
       "    <tr>\n",
       "      <th>AFFX-r2-Bs-lys-5_at</th>\n",
       "      <td>2.23607</td>\n",
       "    </tr>\n",
       "    <tr>\n",
       "      <th>AFFX-r2-Bs-lys-M_at</th>\n",
       "      <td>2.23607</td>\n",
       "    </tr>\n",
       "    <tr>\n",
       "      <th>AFFX-r2-Bs-phe-3_at</th>\n",
       "      <td>2.23607</td>\n",
       "    </tr>\n",
       "    <tr>\n",
       "      <th>AFFX-r2-Bs-phe-5_at</th>\n",
       "      <td>2.23607</td>\n",
       "    </tr>\n",
       "    <tr>\n",
       "      <th>AFFX-r2-Bs-phe-M_at</th>\n",
       "      <td>2.23607</td>\n",
       "    </tr>\n",
       "    <tr>\n",
       "      <th>AFFX-r2-Bs-thr-3_s_at</th>\n",
       "      <td>2.23607</td>\n",
       "    </tr>\n",
       "    <tr>\n",
       "      <th>AFFX-r2-Bs-thr-5_s_at</th>\n",
       "      <td>2.23607</td>\n",
       "    </tr>\n",
       "    <tr>\n",
       "      <th>AFFX-r2-Bs-thr-M_s_at</th>\n",
       "      <td>2.23607</td>\n",
       "    </tr>\n",
       "    <tr>\n",
       "      <th>AFFX-r2-Ec-bioB-3_at</th>\n",
       "      <td>8.10902</td>\n",
       "    </tr>\n",
       "    <tr>\n",
       "      <th>AFFX-r2-Ec-bioB-5_at</th>\n",
       "      <td>7.9949</td>\n",
       "    </tr>\n",
       "    <tr>\n",
       "      <th>AFFX-r2-Ec-bioB-M_at</th>\n",
       "      <td>8.76121</td>\n",
       "    </tr>\n",
       "    <tr>\n",
       "      <th>AFFX-r2-Ec-bioC-3_at</th>\n",
       "      <td>8.91214</td>\n",
       "    </tr>\n",
       "    <tr>\n",
       "      <th>AFFX-r2-Ec-bioC-5_at</th>\n",
       "      <td>9.11165</td>\n",
       "    </tr>\n",
       "    <tr>\n",
       "      <th>AFFX-r2-Ec-bioD-3_at</th>\n",
       "      <td>14.133</td>\n",
       "    </tr>\n",
       "    <tr>\n",
       "      <th>AFFX-r2-Ec-bioD-5_at</th>\n",
       "      <td>13.782</td>\n",
       "    </tr>\n",
       "    <tr>\n",
       "      <th>AFFX-r2-P1-cre-3_at</th>\n",
       "      <td>15.6913</td>\n",
       "    </tr>\n",
       "    <tr>\n",
       "      <th>AFFX-r2-P1-cre-5_at</th>\n",
       "      <td>14.9328</td>\n",
       "    </tr>\n",
       "    <tr>\n",
       "      <th>AFFX-ThrX-3_at</th>\n",
       "      <td>2.23607</td>\n",
       "    </tr>\n",
       "    <tr>\n",
       "      <th>AFFX-ThrX-5_at</th>\n",
       "      <td>2.23607</td>\n",
       "    </tr>\n",
       "    <tr>\n",
       "      <th>AFFX-ThrX-M_at</th>\n",
       "      <td>2.23607</td>\n",
       "    </tr>\n",
       "    <tr>\n",
       "      <th>AFFX-TrpnX-3_at</th>\n",
       "      <td>2.23607</td>\n",
       "    </tr>\n",
       "    <tr>\n",
       "      <th>AFFX-TrpnX-5_at</th>\n",
       "      <td>2.23607</td>\n",
       "    </tr>\n",
       "    <tr>\n",
       "      <th>AFFX-TrpnX-M_at</th>\n",
       "      <td>2.23607</td>\n",
       "    </tr>\n",
       "  </tbody>\n",
       "</table>\n",
       "<p>54676 rows × 1 columns</p>\n",
       "</div>"
      ],
      "text/plain": [
       "                                0\n",
       "Unnamed: 0             GSM1256653\n",
       "1007_s_at                 9.14257\n",
       "1053_at                   6.82935\n",
       "117_at                    2.41587\n",
       "121_at                    9.03404\n",
       "1255_g_at                 2.23607\n",
       "1294_at                   4.55585\n",
       "1316_at                   4.51324\n",
       "1320_at                   2.23607\n",
       "1405_i_at                 7.78078\n",
       "1431_at                   2.25388\n",
       "1438_at                   5.82313\n",
       "1487_at                   6.50743\n",
       "1494_f_at                 2.23607\n",
       "1552256_a_at              6.22082\n",
       "1552257_a_at              7.51147\n",
       "1552258_at                2.23607\n",
       "1552261_at                5.66273\n",
       "1552263_at                4.46698\n",
       "1552264_a_at              5.43233\n",
       "1552266_at                2.43465\n",
       "1552269_at                2.23765\n",
       "1552271_at                2.23607\n",
       "1552272_a_at              2.47297\n",
       "1552274_at                5.84659\n",
       "1552275_s_at               4.9513\n",
       "1552276_a_at              2.23607\n",
       "1552277_a_at              6.90821\n",
       "1552278_a_at               2.2384\n",
       "1552279_a_at              2.92473\n",
       "...                           ...\n",
       "AFFX-PheX-3_at            2.33197\n",
       "AFFX-PheX-5_at            2.23607\n",
       "AFFX-PheX-M_at            2.23607\n",
       "AFFX-r2-Bs-dap-3_at       2.23607\n",
       "AFFX-r2-Bs-dap-5_at       2.23607\n",
       "AFFX-r2-Bs-dap-M_at       2.23607\n",
       "AFFX-r2-Bs-lys-3_at       2.23607\n",
       "AFFX-r2-Bs-lys-5_at       2.23607\n",
       "AFFX-r2-Bs-lys-M_at       2.23607\n",
       "AFFX-r2-Bs-phe-3_at       2.23607\n",
       "AFFX-r2-Bs-phe-5_at       2.23607\n",
       "AFFX-r2-Bs-phe-M_at       2.23607\n",
       "AFFX-r2-Bs-thr-3_s_at     2.23607\n",
       "AFFX-r2-Bs-thr-5_s_at     2.23607\n",
       "AFFX-r2-Bs-thr-M_s_at     2.23607\n",
       "AFFX-r2-Ec-bioB-3_at      8.10902\n",
       "AFFX-r2-Ec-bioB-5_at       7.9949\n",
       "AFFX-r2-Ec-bioB-M_at      8.76121\n",
       "AFFX-r2-Ec-bioC-3_at      8.91214\n",
       "AFFX-r2-Ec-bioC-5_at      9.11165\n",
       "AFFX-r2-Ec-bioD-3_at       14.133\n",
       "AFFX-r2-Ec-bioD-5_at       13.782\n",
       "AFFX-r2-P1-cre-3_at       15.6913\n",
       "AFFX-r2-P1-cre-5_at       14.9328\n",
       "AFFX-ThrX-3_at            2.23607\n",
       "AFFX-ThrX-5_at            2.23607\n",
       "AFFX-ThrX-M_at            2.23607\n",
       "AFFX-TrpnX-3_at           2.23607\n",
       "AFFX-TrpnX-5_at           2.23607\n",
       "AFFX-TrpnX-M_at           2.23607\n",
       "\n",
       "[54676 rows x 1 columns]"
      ]
     },
     "execution_count": 49,
     "metadata": {},
     "output_type": "execute_result"
    }
   ],
   "source": [
    "pd.DataFrame(series.iloc[0])"
   ]
  },
  {
   "cell_type": "markdown",
   "metadata": {},
   "source": [
    "# Check Sample"
   ]
  },
  {
   "cell_type": "code",
   "execution_count": 72,
   "metadata": {},
   "outputs": [
    {
     "data": {
      "text/plain": [
       "0    9.03404\n",
       "Name: 121_at, dtype: object"
      ]
     },
     "execution_count": 72,
     "metadata": {},
     "output_type": "execute_result"
    }
   ],
   "source": [
    "pd.DataFrame(series.iloc[0]).T[\"121_at\"]"
   ]
  },
  {
   "cell_type": "code",
   "execution_count": 67,
   "metadata": {
    "scrolled": true
   },
   "outputs": [
    {
     "data": {
      "text/plain": [
       "45    9.034042\n",
       "Name: PAX8, dtype: float64"
      ]
     },
     "execution_count": 67,
     "metadata": {},
     "output_type": "execute_result"
    }
   ],
   "source": [
    "series_2.loc[series_2[series_2.columns[0]] == \"GSM1256653\"][\"PAX8\"]"
   ]
  },
  {
   "cell_type": "code",
   "execution_count": null,
   "metadata": {},
   "outputs": [],
   "source": []
  }
 ],
 "metadata": {
  "kernelspec": {
   "display_name": "Python 2",
   "language": "python",
   "name": "python2"
  },
  "language_info": {
   "codemirror_mode": {
    "name": "ipython",
    "version": 2
   },
   "file_extension": ".py",
   "mimetype": "text/x-python",
   "name": "python",
   "nbconvert_exporter": "python",
   "pygments_lexer": "ipython2",
   "version": "2.7.15"
  }
 },
 "nbformat": 4,
 "nbformat_minor": 2
}
