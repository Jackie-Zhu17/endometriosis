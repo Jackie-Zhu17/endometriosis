{
 "cells": [
  {
   "cell_type": "markdown",
   "metadata": {},
   "source": [
    "# Control Removal"
   ]
  },
  {
   "cell_type": "code",
   "execution_count": 5,
   "metadata": {},
   "outputs": [
    {
     "data": {
      "text/html": [
       "<ol class=list-inline>\n",
       "\t<li>'../../data/genbank/subsets-for-control-removal//cut_1.csv'</li>\n",
       "\t<li>'../../data/genbank/subsets-for-control-removal//cut_10.csv'</li>\n",
       "\t<li>'../../data/genbank/subsets-for-control-removal//cut_2.csv'</li>\n",
       "\t<li>'../../data/genbank/subsets-for-control-removal//cut_3.csv'</li>\n",
       "\t<li>'../../data/genbank/subsets-for-control-removal//cut_4.csv'</li>\n",
       "\t<li>'../../data/genbank/subsets-for-control-removal//cut_5.csv'</li>\n",
       "\t<li>'../../data/genbank/subsets-for-control-removal//cut_6.csv'</li>\n",
       "\t<li>'../../data/genbank/subsets-for-control-removal//cut_7.csv'</li>\n",
       "\t<li>'../../data/genbank/subsets-for-control-removal//cut_8.csv'</li>\n",
       "\t<li>'../../data/genbank/subsets-for-control-removal//cut_9.csv'</li>\n",
       "</ol>\n"
      ],
      "text/latex": [
       "\\begin{enumerate*}\n",
       "\\item '../../data/genbank/subsets-for-control-removal//cut\\_1.csv'\n",
       "\\item '../../data/genbank/subsets-for-control-removal//cut\\_10.csv'\n",
       "\\item '../../data/genbank/subsets-for-control-removal//cut\\_2.csv'\n",
       "\\item '../../data/genbank/subsets-for-control-removal//cut\\_3.csv'\n",
       "\\item '../../data/genbank/subsets-for-control-removal//cut\\_4.csv'\n",
       "\\item '../../data/genbank/subsets-for-control-removal//cut\\_5.csv'\n",
       "\\item '../../data/genbank/subsets-for-control-removal//cut\\_6.csv'\n",
       "\\item '../../data/genbank/subsets-for-control-removal//cut\\_7.csv'\n",
       "\\item '../../data/genbank/subsets-for-control-removal//cut\\_8.csv'\n",
       "\\item '../../data/genbank/subsets-for-control-removal//cut\\_9.csv'\n",
       "\\end{enumerate*}\n"
      ],
      "text/markdown": [
       "1. '../../data/genbank/subsets-for-control-removal//cut_1.csv'\n",
       "2. '../../data/genbank/subsets-for-control-removal//cut_10.csv'\n",
       "3. '../../data/genbank/subsets-for-control-removal//cut_2.csv'\n",
       "4. '../../data/genbank/subsets-for-control-removal//cut_3.csv'\n",
       "5. '../../data/genbank/subsets-for-control-removal//cut_4.csv'\n",
       "6. '../../data/genbank/subsets-for-control-removal//cut_5.csv'\n",
       "7. '../../data/genbank/subsets-for-control-removal//cut_6.csv'\n",
       "8. '../../data/genbank/subsets-for-control-removal//cut_7.csv'\n",
       "9. '../../data/genbank/subsets-for-control-removal//cut_8.csv'\n",
       "10. '../../data/genbank/subsets-for-control-removal//cut_9.csv'\n",
       "\n",
       "\n"
      ],
      "text/plain": [
       " [1] \"../../data/genbank/subsets-for-control-removal//cut_1.csv\" \n",
       " [2] \"../../data/genbank/subsets-for-control-removal//cut_10.csv\"\n",
       " [3] \"../../data/genbank/subsets-for-control-removal//cut_2.csv\" \n",
       " [4] \"../../data/genbank/subsets-for-control-removal//cut_3.csv\" \n",
       " [5] \"../../data/genbank/subsets-for-control-removal//cut_4.csv\" \n",
       " [6] \"../../data/genbank/subsets-for-control-removal//cut_5.csv\" \n",
       " [7] \"../../data/genbank/subsets-for-control-removal//cut_6.csv\" \n",
       " [8] \"../../data/genbank/subsets-for-control-removal//cut_7.csv\" \n",
       " [9] \"../../data/genbank/subsets-for-control-removal//cut_8.csv\" \n",
       "[10] \"../../data/genbank/subsets-for-control-removal//cut_9.csv\" "
      ]
     },
     "metadata": {},
     "output_type": "display_data"
    }
   ],
   "source": [
    "subset_paths <- list.files(\"../../data/genbank/subsets-for-control-removal/\", full.names=TRUE)\n",
    "subset_paths"
   ]
  },
  {
   "cell_type": "code",
   "execution_count": null,
   "metadata": {},
   "outputs": [],
   "source": [
    "remove_controls <- function(this_subset) {\n",
    "    this_subset \n",
    "}\n",
    "\n",
    "controls <- apply(subset, 2, function(x) {\n",
    "    range <- range(x)\n",
    "    lb_ub <- c(mean(unlist(x)) - 3*sd(unlist(x)), mean(unlist(x)) + 3*sd(unlist(x)))\n",
    "    all(sapply(range, function(x) inrange(x, lb_ub[1], lb_ub[2]))==TRUE)\n",
    "})"
   ]
  }
 ],
 "metadata": {
  "kernelspec": {
   "display_name": "R",
   "language": "R",
   "name": "ir"
  },
  "language_info": {
   "codemirror_mode": "r",
   "file_extension": ".r",
   "mimetype": "text/x-r-source",
   "name": "R",
   "pygments_lexer": "r",
   "version": "3.5.1"
  }
 },
 "nbformat": 4,
 "nbformat_minor": 2
}
