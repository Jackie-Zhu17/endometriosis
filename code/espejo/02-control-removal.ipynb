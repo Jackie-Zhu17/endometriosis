{
 "cells": [
  {
   "cell_type": "markdown",
   "metadata": {},
   "source": [
    "# Control Removal\n",
    "I am using the 3 standard deviation rule for cutting out controls."
   ]
  },
  {
   "cell_type": "code",
   "execution_count": 1,
   "metadata": {},
   "outputs": [
    {
     "data": {
      "text/html": [
       "<ol class=list-inline>\n",
       "\t<li>'../../data/genbank/subsets-for-control-removal/cut_1.csv'</li>\n",
       "\t<li>'../../data/genbank/subsets-for-control-removal/cut_10.csv'</li>\n",
       "\t<li>'../../data/genbank/subsets-for-control-removal/cut_2.csv'</li>\n",
       "\t<li>'../../data/genbank/subsets-for-control-removal/cut_3.csv'</li>\n",
       "\t<li>'../../data/genbank/subsets-for-control-removal/cut_4.csv'</li>\n",
       "\t<li>'../../data/genbank/subsets-for-control-removal/cut_5.csv'</li>\n",
       "\t<li>'../../data/genbank/subsets-for-control-removal/cut_6.csv'</li>\n",
       "\t<li>'../../data/genbank/subsets-for-control-removal/cut_7.csv'</li>\n",
       "\t<li>'../../data/genbank/subsets-for-control-removal/cut_8.csv'</li>\n",
       "\t<li>'../../data/genbank/subsets-for-control-removal/cut_9.csv'</li>\n",
       "</ol>\n"
      ],
      "text/latex": [
       "\\begin{enumerate*}\n",
       "\\item '../../data/genbank/subsets-for-control-removal/cut\\_1.csv'\n",
       "\\item '../../data/genbank/subsets-for-control-removal/cut\\_10.csv'\n",
       "\\item '../../data/genbank/subsets-for-control-removal/cut\\_2.csv'\n",
       "\\item '../../data/genbank/subsets-for-control-removal/cut\\_3.csv'\n",
       "\\item '../../data/genbank/subsets-for-control-removal/cut\\_4.csv'\n",
       "\\item '../../data/genbank/subsets-for-control-removal/cut\\_5.csv'\n",
       "\\item '../../data/genbank/subsets-for-control-removal/cut\\_6.csv'\n",
       "\\item '../../data/genbank/subsets-for-control-removal/cut\\_7.csv'\n",
       "\\item '../../data/genbank/subsets-for-control-removal/cut\\_8.csv'\n",
       "\\item '../../data/genbank/subsets-for-control-removal/cut\\_9.csv'\n",
       "\\end{enumerate*}\n"
      ],
      "text/markdown": [
       "1. '../../data/genbank/subsets-for-control-removal/cut_1.csv'\n",
       "2. '../../data/genbank/subsets-for-control-removal/cut_10.csv'\n",
       "3. '../../data/genbank/subsets-for-control-removal/cut_2.csv'\n",
       "4. '../../data/genbank/subsets-for-control-removal/cut_3.csv'\n",
       "5. '../../data/genbank/subsets-for-control-removal/cut_4.csv'\n",
       "6. '../../data/genbank/subsets-for-control-removal/cut_5.csv'\n",
       "7. '../../data/genbank/subsets-for-control-removal/cut_6.csv'\n",
       "8. '../../data/genbank/subsets-for-control-removal/cut_7.csv'\n",
       "9. '../../data/genbank/subsets-for-control-removal/cut_8.csv'\n",
       "10. '../../data/genbank/subsets-for-control-removal/cut_9.csv'\n",
       "\n",
       "\n"
      ],
      "text/plain": [
       " [1] \"../../data/genbank/subsets-for-control-removal/cut_1.csv\" \n",
       " [2] \"../../data/genbank/subsets-for-control-removal/cut_10.csv\"\n",
       " [3] \"../../data/genbank/subsets-for-control-removal/cut_2.csv\" \n",
       " [4] \"../../data/genbank/subsets-for-control-removal/cut_3.csv\" \n",
       " [5] \"../../data/genbank/subsets-for-control-removal/cut_4.csv\" \n",
       " [6] \"../../data/genbank/subsets-for-control-removal/cut_5.csv\" \n",
       " [7] \"../../data/genbank/subsets-for-control-removal/cut_6.csv\" \n",
       " [8] \"../../data/genbank/subsets-for-control-removal/cut_7.csv\" \n",
       " [9] \"../../data/genbank/subsets-for-control-removal/cut_8.csv\" \n",
       "[10] \"../../data/genbank/subsets-for-control-removal/cut_9.csv\" "
      ]
     },
     "metadata": {},
     "output_type": "display_data"
    }
   ],
   "source": [
    "subset_paths <- list.files(\"../../data/genbank/subsets-for-control-removal\", full.names=TRUE)\n",
    "subset_paths"
   ]
  },
  {
   "cell_type": "code",
   "execution_count": 2,
   "metadata": {},
   "outputs": [],
   "source": [
    "remove_controls <- function(subset_path, return.df=FALSE, write=TRUE) {\n",
    "    require(data.table)\n",
    "    full_subset <- read.csv(subset_path)\n",
    "    subset      <- full_subset[,-c(1:5)]\n",
    "    controls    <- apply(subset, 2, function(x) {\n",
    "                        range <- range(x)\n",
    "                        lb_ub <- c(mean(unlist(x)) - 3*sd(unlist(x)), mean(unlist(x)) + 3*sd(unlist(x)))\n",
    "                        all(sapply(range, function(x) inrange(x, lb_ub[1], lb_ub[2]))==TRUE)\n",
    "                        })\n",
    "                            \n",
    "    if (return.df) {\n",
    "        cbind(full_subset[,c(2:5)], subset[,controls])\n",
    "    } else {\n",
    "        controls\n",
    "    }\n",
    "}"
   ]
  },
  {
   "cell_type": "code",
   "execution_count": 3,
   "metadata": {},
   "outputs": [],
   "source": [
    "# remove_controls(subset_paths[1])"
   ]
  },
  {
   "cell_type": "code",
   "execution_count": 8,
   "metadata": {},
   "outputs": [],
   "source": [
    "test_removal <- remove_controls(subset_paths[1], return.df=TRUE)"
   ]
  },
  {
   "cell_type": "code",
   "execution_count": 9,
   "metadata": {},
   "outputs": [],
   "source": [
    "out_paths <- gsub(\"subsets-for-control-removal\", \"removed-controls\", subset_paths)"
   ]
  },
  {
   "cell_type": "code",
   "execution_count": 10,
   "metadata": {},
   "outputs": [
    {
     "data": {
      "text/html": [
       "<ol class=list-inline>\n",
       "\t<li>'../../data/genbank/removed-controls/cut_1.csv'</li>\n",
       "\t<li>'../../data/genbank/removed-controls/cut_10.csv'</li>\n",
       "\t<li>'../../data/genbank/removed-controls/cut_2.csv'</li>\n",
       "\t<li>'../../data/genbank/removed-controls/cut_3.csv'</li>\n",
       "\t<li>'../../data/genbank/removed-controls/cut_4.csv'</li>\n",
       "\t<li>'../../data/genbank/removed-controls/cut_5.csv'</li>\n",
       "\t<li>'../../data/genbank/removed-controls/cut_6.csv'</li>\n",
       "\t<li>'../../data/genbank/removed-controls/cut_7.csv'</li>\n",
       "\t<li>'../../data/genbank/removed-controls/cut_8.csv'</li>\n",
       "\t<li>'../../data/genbank/removed-controls/cut_9.csv'</li>\n",
       "</ol>\n"
      ],
      "text/latex": [
       "\\begin{enumerate*}\n",
       "\\item '../../data/genbank/removed-controls/cut\\_1.csv'\n",
       "\\item '../../data/genbank/removed-controls/cut\\_10.csv'\n",
       "\\item '../../data/genbank/removed-controls/cut\\_2.csv'\n",
       "\\item '../../data/genbank/removed-controls/cut\\_3.csv'\n",
       "\\item '../../data/genbank/removed-controls/cut\\_4.csv'\n",
       "\\item '../../data/genbank/removed-controls/cut\\_5.csv'\n",
       "\\item '../../data/genbank/removed-controls/cut\\_6.csv'\n",
       "\\item '../../data/genbank/removed-controls/cut\\_7.csv'\n",
       "\\item '../../data/genbank/removed-controls/cut\\_8.csv'\n",
       "\\item '../../data/genbank/removed-controls/cut\\_9.csv'\n",
       "\\end{enumerate*}\n"
      ],
      "text/markdown": [
       "1. '../../data/genbank/removed-controls/cut_1.csv'\n",
       "2. '../../data/genbank/removed-controls/cut_10.csv'\n",
       "3. '../../data/genbank/removed-controls/cut_2.csv'\n",
       "4. '../../data/genbank/removed-controls/cut_3.csv'\n",
       "5. '../../data/genbank/removed-controls/cut_4.csv'\n",
       "6. '../../data/genbank/removed-controls/cut_5.csv'\n",
       "7. '../../data/genbank/removed-controls/cut_6.csv'\n",
       "8. '../../data/genbank/removed-controls/cut_7.csv'\n",
       "9. '../../data/genbank/removed-controls/cut_8.csv'\n",
       "10. '../../data/genbank/removed-controls/cut_9.csv'\n",
       "\n",
       "\n"
      ],
      "text/plain": [
       " [1] \"../../data/genbank/removed-controls/cut_1.csv\" \n",
       " [2] \"../../data/genbank/removed-controls/cut_10.csv\"\n",
       " [3] \"../../data/genbank/removed-controls/cut_2.csv\" \n",
       " [4] \"../../data/genbank/removed-controls/cut_3.csv\" \n",
       " [5] \"../../data/genbank/removed-controls/cut_4.csv\" \n",
       " [6] \"../../data/genbank/removed-controls/cut_5.csv\" \n",
       " [7] \"../../data/genbank/removed-controls/cut_6.csv\" \n",
       " [8] \"../../data/genbank/removed-controls/cut_7.csv\" \n",
       " [9] \"../../data/genbank/removed-controls/cut_8.csv\" \n",
       "[10] \"../../data/genbank/removed-controls/cut_9.csv\" "
      ]
     },
     "metadata": {},
     "output_type": "display_data"
    }
   ],
   "source": [
    "out_paths"
   ]
  },
  {
   "cell_type": "code",
   "execution_count": 11,
   "metadata": {},
   "outputs": [],
   "source": [
    "for (ix in 1:length(subset_paths)) {\n",
    "    removal <- remove_controls(subset_paths[ix], return.df=TRUE)\n",
    "    write.csv(removal, out_paths[ix])\n",
    "}"
   ]
  },
  {
   "cell_type": "markdown",
   "metadata": {},
   "source": [
    "# Size of Our Data\n",
    "## Full Data"
   ]
  },
  {
   "cell_type": "code",
   "execution_count": 12,
   "metadata": {},
   "outputs": [],
   "source": [
    "dimensions <- lapply(subset_paths, function(x) {\n",
    "    this_data <- read.csv(x)\n",
    "    dim(this_data)\n",
    "})"
   ]
  },
  {
   "cell_type": "code",
   "execution_count": 13,
   "metadata": {},
   "outputs": [],
   "source": [
    "dimensions <- do.call(rbind, dimensions)\n",
    "dimensions[,2] <- dimensions[,2]-5"
   ]
  },
  {
   "cell_type": "code",
   "execution_count": 14,
   "metadata": {},
   "outputs": [
    {
     "data": {
      "text/html": [
       "<table>\n",
       "<tbody>\n",
       "\t<tr><td>148 </td><td>5466</td></tr>\n",
       "\t<tr><td>148 </td><td>5467</td></tr>\n",
       "\t<tr><td>148 </td><td>5467</td></tr>\n",
       "\t<tr><td>148 </td><td>5466</td></tr>\n",
       "\t<tr><td>148 </td><td>5467</td></tr>\n",
       "\t<tr><td>148 </td><td>5466</td></tr>\n",
       "\t<tr><td>148 </td><td>5467</td></tr>\n",
       "\t<tr><td>148 </td><td>5466</td></tr>\n",
       "\t<tr><td>148 </td><td>5467</td></tr>\n",
       "\t<tr><td>148 </td><td>5466</td></tr>\n",
       "</tbody>\n",
       "</table>\n"
      ],
      "text/latex": [
       "\\begin{tabular}{ll}\n",
       "\t 148  & 5466\\\\\n",
       "\t 148  & 5467\\\\\n",
       "\t 148  & 5467\\\\\n",
       "\t 148  & 5466\\\\\n",
       "\t 148  & 5467\\\\\n",
       "\t 148  & 5466\\\\\n",
       "\t 148  & 5467\\\\\n",
       "\t 148  & 5466\\\\\n",
       "\t 148  & 5467\\\\\n",
       "\t 148  & 5466\\\\\n",
       "\\end{tabular}\n"
      ],
      "text/markdown": [
       "\n",
       "| 148  | 5466 | \n",
       "| 148  | 5467 | \n",
       "| 148  | 5467 | \n",
       "| 148  | 5466 | \n",
       "| 148  | 5467 | \n",
       "| 148  | 5466 | \n",
       "| 148  | 5467 | \n",
       "| 148  | 5466 | \n",
       "| 148  | 5467 | \n",
       "| 148  | 5466 | \n",
       "\n",
       "\n"
      ],
      "text/plain": [
       "      [,1] [,2]\n",
       " [1,] 148  5466\n",
       " [2,] 148  5467\n",
       " [3,] 148  5467\n",
       " [4,] 148  5466\n",
       " [5,] 148  5467\n",
       " [6,] 148  5466\n",
       " [7,] 148  5467\n",
       " [8,] 148  5466\n",
       " [9,] 148  5467\n",
       "[10,] 148  5466"
      ]
     },
     "metadata": {},
     "output_type": "display_data"
    }
   ],
   "source": [
    "dimensions"
   ]
  },
  {
   "cell_type": "code",
   "execution_count": 15,
   "metadata": {},
   "outputs": [
    {
     "data": {
      "text/html": [
       "54665"
      ],
      "text/latex": [
       "54665"
      ],
      "text/markdown": [
       "54665"
      ],
      "text/plain": [
       "[1] 54665"
      ]
     },
     "metadata": {},
     "output_type": "display_data"
    }
   ],
   "source": [
    "sum(dimensions[,2])"
   ]
  },
  {
   "cell_type": "markdown",
   "metadata": {},
   "source": [
    "## Cut Data"
   ]
  },
  {
   "cell_type": "code",
   "execution_count": 16,
   "metadata": {},
   "outputs": [],
   "source": [
    "dimensions <- lapply(out_paths, function(x) {\n",
    "    this_data <- read.csv(x)\n",
    "    dim(this_data)\n",
    "})"
   ]
  },
  {
   "cell_type": "code",
   "execution_count": 17,
   "metadata": {},
   "outputs": [],
   "source": [
    "dimensions <- do.call(rbind, dimensions)\n",
    "dimensions[,2] <- dimensions[,2]-5"
   ]
  },
  {
   "cell_type": "code",
   "execution_count": 18,
   "metadata": {},
   "outputs": [
    {
     "data": {
      "text/html": [
       "<table>\n",
       "<tbody>\n",
       "\t<tr><td>148 </td><td> 864</td></tr>\n",
       "\t<tr><td>148 </td><td>1034</td></tr>\n",
       "\t<tr><td>148 </td><td> 993</td></tr>\n",
       "\t<tr><td>148 </td><td>2546</td></tr>\n",
       "\t<tr><td>148 </td><td>1899</td></tr>\n",
       "\t<tr><td>148 </td><td>1746</td></tr>\n",
       "\t<tr><td>148 </td><td>2356</td></tr>\n",
       "\t<tr><td>148 </td><td>2664</td></tr>\n",
       "\t<tr><td>148 </td><td>1282</td></tr>\n",
       "\t<tr><td>148 </td><td>1096</td></tr>\n",
       "</tbody>\n",
       "</table>\n"
      ],
      "text/latex": [
       "\\begin{tabular}{ll}\n",
       "\t 148  &  864\\\\\n",
       "\t 148  & 1034\\\\\n",
       "\t 148  &  993\\\\\n",
       "\t 148  & 2546\\\\\n",
       "\t 148  & 1899\\\\\n",
       "\t 148  & 1746\\\\\n",
       "\t 148  & 2356\\\\\n",
       "\t 148  & 2664\\\\\n",
       "\t 148  & 1282\\\\\n",
       "\t 148  & 1096\\\\\n",
       "\\end{tabular}\n"
      ],
      "text/markdown": [
       "\n",
       "| 148  |  864 | \n",
       "| 148  | 1034 | \n",
       "| 148  |  993 | \n",
       "| 148  | 2546 | \n",
       "| 148  | 1899 | \n",
       "| 148  | 1746 | \n",
       "| 148  | 2356 | \n",
       "| 148  | 2664 | \n",
       "| 148  | 1282 | \n",
       "| 148  | 1096 | \n",
       "\n",
       "\n"
      ],
      "text/plain": [
       "      [,1] [,2]\n",
       " [1,] 148   864\n",
       " [2,] 148  1034\n",
       " [3,] 148   993\n",
       " [4,] 148  2546\n",
       " [5,] 148  1899\n",
       " [6,] 148  1746\n",
       " [7,] 148  2356\n",
       " [8,] 148  2664\n",
       " [9,] 148  1282\n",
       "[10,] 148  1096"
      ]
     },
     "metadata": {},
     "output_type": "display_data"
    }
   ],
   "source": [
    "dimensions"
   ]
  },
  {
   "cell_type": "code",
   "execution_count": 19,
   "metadata": {},
   "outputs": [
    {
     "data": {
      "text/html": [
       "16480"
      ],
      "text/latex": [
       "16480"
      ],
      "text/markdown": [
       "16480"
      ],
      "text/plain": [
       "[1] 16480"
      ]
     },
     "metadata": {},
     "output_type": "display_data"
    }
   ],
   "source": [
    "sum(dimensions[,2])"
   ]
  }
 ],
 "metadata": {
  "kernelspec": {
   "display_name": "R",
   "language": "R",
   "name": "ir"
  },
  "language_info": {
   "codemirror_mode": "r",
   "file_extension": ".r",
   "mimetype": "text/x-r-source",
   "name": "R",
   "pygments_lexer": "r",
   "version": "3.5.1"
  }
 },
 "nbformat": 4,
 "nbformat_minor": 2
}
