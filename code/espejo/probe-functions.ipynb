{
 "cells": [
  {
   "cell_type": "markdown",
   "metadata": {},
   "source": [
    "http://xavierlab2.mgh.harvard.edu/EnrichmentProfiler/cancer/Expression/AFFX-r2-Ec-bioB-3_at.html\n",
    "\n",
    "https://blog.rstudio.com/2015/04/21/xml2/\n",
    "\n",
    "https://rdrr.io/cran/xml2/man/xml_name.html"
   ]
  },
  {
   "cell_type": "code",
   "execution_count": 4,
   "metadata": {},
   "outputs": [],
   "source": [
    "library(xml2)"
   ]
  },
  {
   "cell_type": "code",
   "execution_count": 2,
   "metadata": {},
   "outputs": [],
   "source": [
    "# web_text <- scan(\"http://xavierlab2.mgh.harvard.edu/EnrichmentProfiler/cancer/Expression/AFFX-r2-Ec-bioB-3_at.html\", what=\"character\")"
   ]
  },
  {
   "cell_type": "code",
   "execution_count": 7,
   "metadata": {},
   "outputs": [
    {
     "data": {
      "text/plain": [
       "{xml_document}\n",
       "<html lang=\"en\">\n",
       "[1] <head>\\n<style type=\"text/css\">\\n  @import url(\"../../style3.css\");\\n.sty ...\n",
       "[2] <body>\\n<div id=\"title\">\\n\\tGene Enrichment Profiler\\n</div>\\n\\n<div id=\" ..."
      ]
     },
     "metadata": {},
     "output_type": "display_data"
    }
   ],
   "source": [
    "site <- \"http://xavierlab2.mgh.harvard.edu/EnrichmentProfiler/cancer/Expression/AFFX-r2-Ec-bioB-3_at.html\"\n",
    "site_read <- read_html(site)\n",
    "site_read"
   ]
  },
  {
   "cell_type": "code",
   "execution_count": 13,
   "metadata": {},
   "outputs": [
    {
     "data": {
      "text/plain": [
       "{xml_nodeset (1)}\n",
       "[1] <body>\\n<div id=\"title\">\\n\\tGene Enrichment Profiler\\n</div>\\n\\n<div id=\" ..."
      ]
     },
     "metadata": {},
     "output_type": "display_data"
    }
   ],
   "source": [
    "xml_children(site_read)[2]"
   ]
  },
  {
   "cell_type": "code",
   "execution_count": 19,
   "metadata": {},
   "outputs": [
    {
     "data": {
      "text/html": [
       "'&lt;li&gt;This is a control probe.&lt;/li&gt;\\n&lt;li&gt;\\n&lt;a href=\"../../ProbeMapping/U133A/HTML/AFFX-r2-Ec-bioB-3_at.html\"&gt;Review genomic mapping for this probe&lt;/a&gt;.&lt;/li&gt;\\n\\t\\t\\t\\n\\t\\t\\t&lt;!-- end enter notes --&gt;\\n\\t\\t&lt;/ul&gt;\\n&lt;/div&gt;\\n&lt;/div&gt;\\n\\n&lt;div id=\"genes\"&gt;\\n\\t&lt;!-- enter gene image here --&gt;\\n\\t&lt;img src=\"../GenePlots/Expression/AFFX-r2-Ec-bioB-3_at.png\" width=\"100%\"&gt;&lt;!-- end enter gene image --&gt;\\n&lt;/div&gt;\\n\\n&lt;!-- enter buttons here --&gt;\\n\\t&lt;div id=\"EnrExpBTN\"&gt;&lt;a class=\"button\" href=\"../Enrichment/AFFX-r2-Ec-bioB-3_at.html\" onclick=\"this.blur()\"&gt;&lt;span&gt;Enrichment&lt;/span&gt;&lt;/a&gt;&lt;/div&gt;\\n\\n&lt;!-- end enter buttons --&gt;\\n\\n\\n\\n &lt;/body&gt;'"
      ],
      "text/latex": [
       "'<li>This is a control probe.</li>\\textbackslash{}n<li>\\textbackslash{}n<a href=\"../../ProbeMapping/U133A/HTML/AFFX-r2-Ec-bioB-3\\_at.html\">Review genomic mapping for this probe</a>.</li>\\textbackslash{}n\\textbackslash{}t\\textbackslash{}t\\textbackslash{}t\\textbackslash{}n\\textbackslash{}t\\textbackslash{}t\\textbackslash{}t<!-- end enter notes -->\\textbackslash{}n\\textbackslash{}t\\textbackslash{}t</ul>\\textbackslash{}n</div>\\textbackslash{}n</div>\\textbackslash{}n\\textbackslash{}n<div id=\"genes\">\\textbackslash{}n\\textbackslash{}t<!-- enter gene image here -->\\textbackslash{}n\\textbackslash{}t<img src=\"../GenePlots/Expression/AFFX-r2-Ec-bioB-3\\_at.png\" width=\"100\\%\"><!-- end enter gene image -->\\textbackslash{}n</div>\\textbackslash{}n\\textbackslash{}n<!-- enter buttons here -->\\textbackslash{}n\\textbackslash{}t<div id=\"EnrExpBTN\"><a class=\"button\" href=\"../Enrichment/AFFX-r2-Ec-bioB-3\\_at.html\" onclick=\"this.blur()\"><span>Enrichment</span></a></div>\\textbackslash{}n\\textbackslash{}n<!-- end enter buttons -->\\textbackslash{}n\\textbackslash{}n\\textbackslash{}n\\textbackslash{}n </body>'"
      ],
      "text/markdown": [
       "'&lt;li&gt;This is a control probe.&lt;/li&gt;\\n&lt;li&gt;\\n&lt;a href=\"../../ProbeMapping/U133A/HTML/AFFX-r2-Ec-bioB-3_at.html\"&gt;Review genomic mapping for this probe&lt;/a&gt;.&lt;/li&gt;\\n\\t\\t\\t\\n\\t\\t\\t&lt;!-- end enter notes --&gt;\\n\\t\\t&lt;/ul&gt;\\n&lt;/div&gt;\\n&lt;/div&gt;\\n\\n&lt;div id=\"genes\"&gt;\\n\\t&lt;!-- enter gene image here --&gt;\\n\\t&lt;img src=\"../GenePlots/Expression/AFFX-r2-Ec-bioB-3_at.png\" width=\"100%\"&gt;&lt;!-- end enter gene image --&gt;\\n&lt;/div&gt;\\n\\n&lt;!-- enter buttons here --&gt;\\n\\t&lt;div id=\"EnrExpBTN\"&gt;&lt;a class=\"button\" href=\"../Enrichment/AFFX-r2-Ec-bioB-3_at.html\" onclick=\"this.blur()\"&gt;&lt;span&gt;Enrichment&lt;/span&gt;&lt;/a&gt;&lt;/div&gt;\\n\\n&lt;!-- end enter buttons --&gt;\\n\\n\\n\\n &lt;/body&gt;'"
      ],
      "text/plain": [
       "[1] \"<li>This is a control probe.</li>\\n<li>\\n<a href=\\\"../../ProbeMapping/U133A/HTML/AFFX-r2-Ec-bioB-3_at.html\\\">Review genomic mapping for this probe</a>.</li>\\n\\t\\t\\t\\n\\t\\t\\t<!-- end enter notes -->\\n\\t\\t</ul>\\n</div>\\n</div>\\n\\n<div id=\\\"genes\\\">\\n\\t<!-- enter gene image here -->\\n\\t<img src=\\\"../GenePlots/Expression/AFFX-r2-Ec-bioB-3_at.png\\\" width=\\\"100%\\\"><!-- end enter gene image -->\\n</div>\\n\\n<!-- enter buttons here -->\\n\\t<div id=\\\"EnrExpBTN\\\"><a class=\\\"button\\\" href=\\\"../Enrichment/AFFX-r2-Ec-bioB-3_at.html\\\" onclick=\\\"this.blur()\\\"><span>Enrichment</span></a></div>\\n\\n<!-- end enter buttons -->\\n\\n\\n\\n </body>\""
      ]
     },
     "metadata": {},
     "output_type": "display_data"
    }
   ],
   "source": [
    "strsplit(as.character(xml_children(site_read)[2]), \"<!-- enter notes -->\")[[1]][2]"
   ]
  },
  {
   "cell_type": "code",
   "execution_count": 34,
   "metadata": {},
   "outputs": [
    {
     "data": {
      "text/plain": [
       "{xml_nodeset (1)}\n",
       "[1] <div id=\"geneform\">\\n\\t<form name=\"findGene\" method=\"post\" action=\"http:/ ..."
      ]
     },
     "metadata": {},
     "output_type": "display_data"
    }
   ],
   "source": [
    "xml_children(xml_children(site_read)[2])[7]"
   ]
  },
  {
   "cell_type": "code",
   "execution_count": 33,
   "metadata": {},
   "outputs": [
    {
     "data": {
      "text/html": [
       "<span style=white-space:pre-wrap>'&lt;div id=\"geneform\"&gt;\\n\\t&lt;form name=\"findGene\" method=\"post\" action=\"http://xavierlab2.mgh.harvard.edu/cgi-bin/DiscoveryDB.py\" enctype=\"multipart/form-data\"&gt;\\n\\t\\t&lt;input type=\"hidden\" name=\"platform\" value=\"U133A\"&gt;&lt;table border=\"0\"&gt;\\n&lt;tr&gt;\\n&lt;td colspan=\"2\"&gt;&lt;div align=\"left\" class=\"style1\"&gt;Go to gene:&lt;/div&gt;&lt;/td&gt;\\n\\t\\t\\t&lt;/tr&gt;\\n&lt;tr&gt;\\n&lt;td&gt;&lt;div align=\"right\"&gt;ID type:&lt;/div&gt;&lt;/td&gt;\\n\\t\\t\\t\\t&lt;td&gt;\\n\\t\\t\\t\\t   &lt;select name=\"genetype\"&gt;&lt;option value=\"locuslink\"&gt;Entrez Gene ID&lt;/option&gt;\\n&lt;option value=\"symbol\" selected&gt;Symbol&lt;/option&gt;\\n&lt;option value=\"ensembl\"&gt;Ensembl&lt;/option&gt;\\n&lt;option value=\"UniProt\"&gt;UniProt&lt;/option&gt;\\n&lt;option value=\"probe\"&gt;Affy probe&lt;/option&gt;&lt;/select&gt;\\n&lt;/td&gt;\\n\\t\\t\\t&lt;/tr&gt;\\n&lt;tr&gt;\\n&lt;td&gt;&lt;div align=\"right\"&gt;Data set:&lt;/div&gt;&lt;/td&gt;\\n\\t\\t\\t\\t&lt;td&gt;\\n\\t\\t\\t\\t   &lt;select name=\"dataset\"&gt;&lt;option value=\"primary\"&gt;Primary&lt;/option&gt;\\n&lt;option value=\"cancer\" selected&gt;Cancer&lt;/option&gt;&lt;/select&gt;\\n&lt;/td&gt;\\n\\t\\t\\t&lt;/tr&gt;\\n&lt;tr&gt;\\n&lt;td&gt;&lt;div align=\"right\"&gt;Gene:&lt;/div&gt;&lt;/td&gt;\\n\\t\\t\\t\\t&lt;td&gt;&lt;input type=\"text\" name=\"geneinput\" value=\"\"&gt;&lt;/td&gt;\\n\\t\\t\\t&lt;/tr&gt;\\n&lt;tr&gt;\\n&lt;td colspan=\"2\"&gt;\\n\\t\\t\\t\\t\\t&lt;div align=\"center\"&gt;\\n\\t\\t\\t\\t\\t  &lt;input type=\"submit\" name=\"submit\" id=\"submit\" value=\"Search\"&gt;\\n&lt;/div&gt;\\n&lt;/td&gt;\\n\\t\\t\\t&lt;/tr&gt;\\n&lt;/table&gt;\\n&lt;/form&gt;\\n\\n\\t&lt;table border=\"0\"&gt;\\n&lt;tr&gt;&lt;td&gt; &lt;/td&gt;&lt;/tr&gt;\\n&lt;tr&gt;\\n&lt;td&gt;\\n\\t\\t\\t&lt;form name=\"redirectTissue\"&gt;\\n\\t\\t\\t&lt;select name=\"GoToTissue\" onchange=\"location=document.redirectTissue.GoToTissue.options[document.redirectTissue.GoToTissue.selectedIndex].value;\" value=\"GO\"&gt;&lt;option value=\"#\" selected&gt;Go to tissue&lt;/option&gt;\\n&lt;!-- enter tissue menu here --&gt;&lt;option value=\"../Tissues/All/B cell leukemia.html\"&gt;B cell leukemia&lt;/option&gt;\\n&lt;option value=\"../Tissues/All/B cell lymphoma.html\"&gt;B cell lymphoma&lt;/option&gt;\\n&lt;option value=\"../Tissues/All/T cell leukemia.html\"&gt;T cell leukemia&lt;/option&gt;\\n&lt;option value=\"../Tissues/All/Salivary gland cancer.html\"&gt;Salivary gland cancer&lt;/option&gt;\\n&lt;option value=\"../Tissues/All/Glioblastoma.html\"&gt;Glioblastoma&lt;/option&gt;\\n&lt;option value=\"../Tissues/All/Neuroblastoma.html\"&gt;Neuroblastoma&lt;/option&gt;\\n&lt;option value=\"../Tissues/All/Colon cancer.html\"&gt;Colon cancer&lt;/option&gt;\\n&lt;option value=\"../Tissues/All/kidney cancer.html\"&gt;kidney cancer&lt;/option&gt;\\n&lt;option value=\"../Tissues/All/Liver cancer.html\"&gt;Liver cancer&lt;/option&gt;\\n&lt;option value=\"../Tissues/All/Lung cancer.html\"&gt;Lung cancer&lt;/option&gt;\\n&lt;option value=\"../Tissues/All/Melanoma.html\"&gt;Melanoma&lt;/option&gt;\\n&lt;option value=\"../Tissues/All/Ovary cancer.html\"&gt;Ovary cancer&lt;/option&gt;\\n&lt;option value=\"../Tissues/All/Breast cancer ER-.html\"&gt;Breast cancer ER-&lt;/option&gt;\\n&lt;option value=\"../Tissues/All/Breast cancer ER+.html\"&gt;Breast cancer ER+&lt;/option&gt;\\n&lt;option value=\"../Tissues/All/Prostate cancer.html\"&gt;Prostate cancer&lt;/option&gt;\\n&lt;option value=\"../Tissues/All/Osteosarcoma.html\"&gt;Osteosarcoma&lt;/option&gt;\\n&lt;option value=\"../Tissues/All/ES cells.html\"&gt;ES cells&lt;/option&gt;\\n&lt;option value=\"../Tissues/All/HSC fetal blood CD34+ CD38-.html\"&gt;HSC fetal blood CD34+ CD38-&lt;/option&gt;\\n&lt;option value=\"../Tissues/All/HSC cord blood CD34+ CD38-.html\"&gt;HSC cord blood CD34+ CD38-&lt;/option&gt;\\n&lt;option value=\"../Tissues/All/HSC cord blood CD34+ CD38- CD33-.html\"&gt;HSC cord blood CD34+ CD38- CD33-&lt;/option&gt;\\n&lt;option value=\"../Tissues/All/HSC bone marrow CD34+ CD38- CD33-.html\"&gt;HSC bone marrow CD34+ CD38- CD33-&lt;/option&gt;\\n&lt;option value=\"../Tissues/All/HSC fetal blood CD34+ CD38+.html\"&gt;HSC fetal blood CD34+ CD38+&lt;/option&gt;\\n&lt;option value=\"../Tissues/All/HSC cord blood CD34+ CD38+.html\"&gt;HSC cord blood CD34+ CD38+&lt;/option&gt;\\n&lt;option value=\"../Tissues/All/HSC cord blood CD34+ CD38+ CD33-.html\"&gt;HSC cord blood CD34+ CD38+ CD33-&lt;/option&gt;\\n&lt;option value=\"../Tissues/All/HSC periph blood CD34+ CD38+.html\"&gt;HSC periph blood CD34+ CD38+&lt;/option&gt;\\n&lt;option value=\"../Tissues/All/HSC bone marrow CD34+ CD38+.html\"&gt;HSC bone marrow CD34+ CD38+&lt;/option&gt;\\n&lt;option value=\"../Tissues/All/HSC bone marrow CD34+ CD38+ CD33-.html\"&gt;HSC bone marrow CD34+ CD38+ CD33-&lt;/option&gt;\\n&lt;option value=\"../Tissues/All/Bone marrow CD34+.html\"&gt;Bone marrow CD34+&lt;/option&gt;\\n&lt;option value=\"../Tissues/All/B cells cord blood CD34+.html\"&gt;B cells cord blood CD34+&lt;/option&gt;\\n&lt;option value=\"../Tissues/All/B cells Pro.html\"&gt;B cells Pro&lt;/option&gt;\\n&lt;option value=\"../Tissues/All/B cells PreI.html\"&gt;B cells PreI&lt;/option&gt;\\n&lt;option value=\"../Tissues/All/B cells PreII.html\"&gt;B cells PreII&lt;/option&gt;\\n&lt;option value=\"../Tissues/All/B cells immature.html\"&gt;B cells immature&lt;/option&gt;\\n&lt;option value=\"../Tissues/All/B cells CD19+.html\"&gt;B cells CD19+&lt;/option&gt;\\n&lt;option value=\"../Tissues/All/Tonsils.html\"&gt;Tonsils&lt;/option&gt;\\n&lt;option value=\"../Tissues/All/Lymph node.html\"&gt;Lymph node&lt;/option&gt;\\n&lt;option value=\"../Tissues/All/Thymus.html\"&gt;Thymus&lt;/option&gt;\\n&lt;option value=\"../Tissues/All/T cells cord blood CD34+.html\"&gt;T cells cord blood CD34+&lt;/option&gt;\\n&lt;option value=\"../Tissues/All/Thymic CD34+.html\"&gt;Thymic CD34+&lt;/option&gt;\\n&lt;option value=\"../Tissues/All/Thymic CD34+CD38+ CD1A-.html\"&gt;Thymic CD34+CD38+ CD1A-&lt;/option&gt;\\n&lt;option value=\"../Tissues/All/Thymic CD34+CD38+ CD1A+.html\"&gt;Thymic CD34+CD38+ CD1A+&lt;/option&gt;\\n&lt;option value=\"../Tissues/All/Thymic CD4+CD8-CD3-.html\"&gt;Thymic CD4+CD8-CD3-&lt;/option&gt;\\n&lt;option value=\"../Tissues/All/Thymic CD4+CD8+CD3-.html\"&gt;Thymic CD4+CD8+CD3-&lt;/option&gt;\\n&lt;option value=\"../Tissues/All/Thymic CD4+CD8+CD3.html\"&gt;Thymic CD4+CD8+CD3&lt;/option&gt;\\n&lt;option value=\"../Tissues/All/Thymic SP CD4+ T cells.html\"&gt;Thymic SP CD4+ T cells&lt;/option&gt;\\n&lt;option value=\"../Tissues/All/Peripheral naive CD4+ T cells.html\"&gt;Peripheral naive CD4+ T cells&lt;/option&gt;\\n&lt;option value=\"../Tissues/All/Th1.html\"&gt;Th1&lt;/option&gt;\\n&lt;option value=\"../Tissues/All/Th2.html\"&gt;Th2&lt;/option&gt;\\n&lt;option value=\"../Tissues/All/Thymic SP CD8+ T cells.html\"&gt;Thymic SP CD8+ T cells&lt;/option&gt;\\n&lt;option value=\"../Tissues/All/Peripheral CD8+ T cells.html\"&gt;Peripheral CD8+ T cells&lt;/option&gt;\\n&lt;option value=\"../Tissues/All/Tonsils CD4+ T cells.html\"&gt;Tonsils CD4+ T cells&lt;/option&gt;\\n&lt;option value=\"../Tissues/All/T cells BAFF+.html\"&gt;T cells BAFF+&lt;/option&gt;\\n&lt;option value=\"../Tissues/All/T cells CD57+.html\"&gt;T cells CD57+&lt;/option&gt;\\n&lt;option value=\"../Tissues/All/T cells central memory.html\"&gt;T cells central memory&lt;/option&gt;\\n&lt;option value=\"../Tissues/All/T cells effector memory.html\"&gt;T cells effector memory&lt;/option&gt;\\n&lt;option value=\"../Tissues/All/T cells gammadelta.html\"&gt;T cells gammadelta&lt;/option&gt;\\n&lt;option value=\"../Tissues/All/Treg.html\"&gt;Treg&lt;/option&gt;\\n&lt;option value=\"../Tissues/All/NK CD56+.html\"&gt;NK CD56+&lt;/option&gt;\\n&lt;option value=\"../Tissues/All/DC Immature.html\"&gt;DC Immature&lt;/option&gt;\\n&lt;option value=\"../Tissues/All/DC LPS 6h.html\"&gt;DC LPS 6h&lt;/option&gt;\\n&lt;option value=\"../Tissues/All/DC LPS 48h.html\"&gt;DC LPS 48h&lt;/option&gt;\\n&lt;option value=\"../Tissues/All/DC.html\"&gt;DC&lt;/option&gt;\\n&lt;option value=\"../Tissues/All/DC BAFF+.html\"&gt;DC BAFF+&lt;/option&gt;\\n&lt;option value=\"../Tissues/All/Myeloid CD33+.html\"&gt;Myeloid CD33+&lt;/option&gt;\\n&lt;option value=\"../Tissues/All/Monocyte CD14+.html\"&gt;Monocyte CD14+&lt;/option&gt;\\n&lt;option value=\"../Tissues/All/Derived Macrophage 16h.html\"&gt;Derived Macrophage 16h&lt;/option&gt;\\n&lt;option value=\"../Tissues/All/Macrophage.html\"&gt;Macrophage&lt;/option&gt;\\n&lt;option value=\"../Tissues/All/Macrophage LPS 4h.html\"&gt;Macrophage LPS 4h&lt;/option&gt;\\n&lt;option value=\"../Tissues/All/Mast cell.html\"&gt;Mast cell&lt;/option&gt;\\n&lt;option value=\"../Tissues/All/Mast cell IgE.html\"&gt;Mast cell IgE&lt;/option&gt;\\n&lt;option value=\"../Tissues/All/Spleen.html\"&gt;Spleen&lt;/option&gt;\\n&lt;option value=\"../Tissues/All/Blood.html\"&gt;Blood&lt;/option&gt;\\n&lt;option value=\"../Tissues/All/Neutrophils.html\"&gt;Neutrophils&lt;/option&gt;\\n&lt;option value=\"../Tissues/All/RBC.html\"&gt;RBC&lt;/option&gt;\\n&lt;option value=\"../Tissues/All/Whole brain.html\"&gt;Whole brain&lt;/option&gt;\\n&lt;option value=\"../Tissues/All/Fetal brain.html\"&gt;Fetal brain&lt;/option&gt;\\n&lt;option value=\"../Tissues/All/Frontal cortex.html\"&gt;Frontal cortex&lt;/option&gt;\\n&lt;option value=\"../Tissues/All/Prefrontal cortex.html\"&gt;Prefrontal cortex&lt;/option&gt;\\n&lt;option value=\"../Tissues/All/Parietal Lobe.html\"&gt;Parietal Lobe&lt;/option&gt;\\n&lt;option value=\"../Tissues/All/Occipital lobe.html\"&gt;Occipital lobe&lt;/option&gt;\\n&lt;option value=\"../Tissues/All/Temporal lobe.html\"&gt;Temporal lobe&lt;/option&gt;\\n&lt;option value=\"../Tissues/All/Cingulate cortex.html\"&gt;Cingulate cortex&lt;/option&gt;\\n&lt;option value=\"../Tissues/All/Caudate nucleus.html\"&gt;Caudate nucleus&lt;/option&gt;\\n&lt;option value=\"../Tissues/All/Globus pallidus.html\"&gt;Globus pallidus&lt;/option&gt;\\n&lt;option value=\"../Tissues/All/Thalamus.html\"&gt;Thalamus&lt;/option&gt;\\n&lt;option value=\"../Tissues/All/Subthalamic nucleus.html\"&gt;Subthalamic nucleus&lt;/option&gt;\\n&lt;option value=\"../Tissues/All/Hypothalamus.html\"&gt;Hypothalamus&lt;/option&gt;\\n&lt;option value=\"../Tissues/All/Hippocampus.html\"&gt;Hippocampus&lt;/option&gt;\\n&lt;option value=\"../Tissues/All/Amygdala.html\"&gt;Amygdala&lt;/option&gt;\\n&lt;option value=\"../Tissues/All/Cerebellum.html\"&gt;Cerebellum&lt;/option&gt;\\n&lt;option value=\"../Tissues/All/Cerebellum peduncles.html\"&gt;Cerebellum peduncles&lt;/option&gt;\\n&lt;option value=\"../Tissues/All/Pons.html\"&gt;Pons&lt;/option&gt;\\n&lt;option value=\"../Tissues/All/Medulla oblongata.html\"&gt;Medulla oblongata&lt;/option&gt;\\n&lt;option value=\"../Tissues/All/Spinal cord.html\"&gt;Spinal cord&lt;/option&gt;\\n&lt;option value=\"../Tissues/All/Olfactory bulb.html\"&gt;Olfactory bulb&lt;/option&gt;\\n&lt;option value=\"../Tissues/All/Trigeminal ganglion.html\"&gt;Trigeminal ganglion&lt;/option&gt;\\n&lt;option value=\"../Tissues/All/Ciliary ganglion.html\"&gt;Ciliary ganglion&lt;/option&gt;\\n&lt;option value=\"../Tissues/All/Dorsal root ganglion.html\"&gt;Dorsal root ganglion&lt;/option&gt;\\n&lt;option value=\"../Tissues/All/Superior cervical ganglion.html\"&gt;Superior cervical ganglion&lt;/option&gt;\\n&lt;option value=\"../Tissues/All/Adrenal gland.html\"&gt;Adrenal gland&lt;/option&gt;\\n&lt;option value=\"../Tissues/All/Pituitary.html\"&gt;Pituitary&lt;/option&gt;\\n&lt;option value=\"../Tissues/All/Thyroid.html\"&gt;Thyroid&lt;/option&gt;\\n&lt;option value=\"../Tissues/All/Fetal thyroid.html\"&gt;Fetal thyroid&lt;/option&gt;\\n&lt;option value=\"../Tissues/All/Pancreas.html\"&gt;Pancreas&lt;/option&gt;\\n&lt;option value=\"../Tissues/All/Skeletal muscle.html\"&gt;Skeletal muscle&lt;/option&gt;\\n&lt;option value=\"../Tissues/All/Tongue.html\"&gt;Tongue&lt;/option&gt;\\n&lt;option value=\"../Tissues/All/Smooth muscle.html\"&gt;Smooth muscle&lt;/option&gt;\\n&lt;option value=\"../Tissues/All/Cardiac myocytes.html\"&gt;Cardiac myocytes&lt;/option&gt;\\n&lt;option value=\"../Tissues/All/Cardiac muscle left ventricle.html\"&gt;Cardiac muscle left ventricle&lt;/option&gt;\\n&lt;option value=\"../Tissues/All/Heart.html\"&gt;Heart&lt;/option&gt;\\n&lt;option value=\"../Tissues/All/Atrioventricular node.html\"&gt;Atrioventricular node&lt;/option&gt;\\n&lt;option value=\"../Tissues/All/Islet cells.html\"&gt;Islet cells&lt;/option&gt;\\n&lt;option value=\"../Tissues/All/Kidney.html\"&gt;Kidney&lt;/option&gt;\\n&lt;option value=\"../Tissues/All/Bladder.html\"&gt;Bladder&lt;/option&gt;\\n&lt;option value=\"../Tissues/All/Liver.html\"&gt;Liver&lt;/option&gt;\\n&lt;option value=\"../Tissues/All/Fetal liver.html\"&gt;Fetal liver&lt;/option&gt;\\n&lt;option value=\"../Tissues/All/Preadipocyte subcutanous.html\"&gt;Preadipocyte subcutanous&lt;/option&gt;\\n&lt;option value=\"../Tissues/All/Adipocyte.html\"&gt;Adipocyte&lt;/option&gt;\\n&lt;option value=\"../Tissues/All/Lung.html\"&gt;Lung&lt;/option&gt;\\n&lt;option value=\"../Tissues/All/Fetal Lung.html\"&gt;Fetal Lung&lt;/option&gt;\\n&lt;option value=\"../Tissues/All/Broncho epithelial.html\"&gt;Broncho epithelial&lt;/option&gt;\\n&lt;option value=\"../Tissues/All/Trachea.html\"&gt;Trachea&lt;/option&gt;\\n&lt;option value=\"../Tissues/All/Placenta.html\"&gt;Placenta&lt;/option&gt;\\n&lt;option value=\"../Tissues/All/Skin.html\"&gt;Skin&lt;/option&gt;\\n&lt;option value=\"../Tissues/All/Endothelial CD105+.html\"&gt;Endothelial CD105+&lt;/option&gt;\\n&lt;option value=\"../Tissues/All/Salivary gland.html\"&gt;Salivary gland&lt;/option&gt;\\n&lt;option value=\"../Tissues/All/Esophagus.html\"&gt;Esophagus&lt;/option&gt;\\n&lt;option value=\"../Tissues/All/Stomach.html\"&gt;Stomach&lt;/option&gt;\\n&lt;option value=\"../Tissues/All/Small intestine.html\"&gt;Small intestine&lt;/option&gt;\\n&lt;option value=\"../Tissues/All/Appendix.html\"&gt;Appendix&lt;/option&gt;\\n&lt;option value=\"../Tissues/All/Colon.html\"&gt;Colon&lt;/option&gt;\\n&lt;option value=\"../Tissues/All/Ovary.html\"&gt;Ovary&lt;/option&gt;\\n&lt;option value=\"../Tissues/All/Uterus.html\"&gt;Uterus&lt;/option&gt;\\n&lt;option value=\"../Tissues/All/Uterus corpus.html\"&gt;Uterus corpus&lt;/option&gt;\\n&lt;option value=\"../Tissues/All/Breast.html\"&gt;Breast&lt;/option&gt;\\n&lt;option value=\"../Tissues/All/Testis.html\"&gt;Testis&lt;/option&gt;\\n&lt;option value=\"../Tissues/All/Testis Leydig cell.html\"&gt;Testis Leydig cell&lt;/option&gt;\\n&lt;option value=\"../Tissues/All/Testis germ cell.html\"&gt;Testis germ cell&lt;/option&gt;\\n&lt;option value=\"../Tissues/All/Testis intersitial.html\"&gt;Testis intersitial&lt;/option&gt;\\n&lt;option value=\"../Tissues/All/Testis seminiferous tubule.html\"&gt;Testis seminiferous tubule&lt;/option&gt;\\n&lt;option value=\"../Tissues/All/Prostate.html\"&gt;Prostate&lt;/option&gt;\\n&lt;option value=\"../Tissues/All/Conjunctiva.html\"&gt;Conjunctiva&lt;/option&gt;\\n&lt;!-- end enter tissue menu --&gt;&lt;/select&gt;\\n&lt;/form&gt;\\n\\t\\t\\t&lt;/td&gt;\\n\\t\\t&lt;/tr&gt;\\n&lt;tr&gt;\\n&lt;td&gt;\\n\\t\\t\\t\\t&lt;form name=\"redirectCoreg\"&gt;\\n\\t\\t\\t\\t\\t&lt;select name=\"GoToProbe\" onchange=\"location=document.redirectCoreg.GoToProbe.options[document.redirectCoreg.GoToProbe.selectedIndex].value;\" value=\"GO\"&gt;&lt;!-- enter coreg menu here --&gt;&lt;option value=\"#\" selected&gt;View Coregulated Genes&lt;/option&gt;\\n&lt;option value=\"AFFX-BioB-5_at.html\"&gt;AFFX-BioB-5_at (0.99)&lt;/option&gt;\\n&lt;option value=\"AFFX-BioB-3_at.html\"&gt;AFFX-BioB-3_at (0.99)&lt;/option&gt;\\n&lt;option value=\"AFFX-r2-Ec-bioB-5_at.html\"&gt;AFFX-r2-Ec-bioB-5_at (0.99)&lt;/option&gt;\\n&lt;option value=\"AFFX-r2-Ec-bioB-M_at.html\"&gt;AFFX-r2-Ec-bioB-M_at (0.98)&lt;/option&gt;\\n&lt;option value=\"AFFX-BioB-M_at.html\"&gt;AFFX-BioB-M_at (0.98)&lt;/option&gt;\\n&lt;option value=\"AFFX-BioC-3_at.html\"&gt;AFFX-BioC-3_at (0.8)&lt;/option&gt;\\n&lt;option value=\"AFFX-BioC-5_at.html\"&gt;AFFX-BioC-5_at (0.79)&lt;/option&gt;\\n&lt;option value=\"AFFX-r2-Ec-bioC-3_at.html\"&gt;AFFX-r2-Ec-bioC-3_at (0.78)&lt;/option&gt;\\n&lt;option value=\"AFFX-r2-Ec-bioC-5_at.html\"&gt;AFFX-r2-Ec-bioC-5_at (0.77)&lt;/option&gt;\\n&lt;option value=\"215587_x_at.html\"&gt;215587_x_at (0.77)&lt;/option&gt;\\n&lt;option value=\"AFFX-BioDn-5_at.html\"&gt;AFFX-BioDn-5_at (0.77)&lt;/option&gt;\\n&lt;option value=\"216229_x_at.html\"&gt;RICTOR (0.77)&lt;/option&gt;\\n&lt;option value=\"AFFX-BioDn-3_at.html\"&gt;AFFX-BioDn-3_at (0.76)&lt;/option&gt;\\n&lt;option value=\"214989_x_at.html\"&gt;SFRS11 (0.75)&lt;/option&gt;\\n&lt;option value=\"217700_at.html\"&gt;217700_at (0.75)&lt;/option&gt;\\n&lt;option value=\"219893_at.html\"&gt;219893_at (0.74)&lt;/option&gt;\\n&lt;option value=\"215467_x_at.html\"&gt;215467_x_at (0.74)&lt;/option&gt;\\n&lt;option value=\"211374_x_at.html\"&gt;211374_x_at (0.73)&lt;/option&gt;\\n&lt;option value=\"215560_x_at.html\"&gt;215560_x_at (0.73)&lt;/option&gt;\\n&lt;option value=\"221155_x_at.html\"&gt;221155_x_at (0.73)&lt;/option&gt;\\n&lt;!-- end enter coreg menu --&gt;&lt;/select&gt;\\n&lt;/form&gt;\\n\\t\\t\\t&lt;/td&gt;\\n\\t\\t&lt;/tr&gt;\\n&lt;/table&gt;\\n&lt;img id=\"colorbar\" src=\"../../img/GrayColorBar.png\" border=\"0\"&gt;&lt;div id=\"notes\"&gt;\\n\\t\\t&lt;ul&gt;\\n&lt;!-- enter notes --&gt;&lt;li&gt;This is a control probe.&lt;/li&gt;\\n&lt;li&gt;\\n&lt;a href=\"../../ProbeMapping/U133A/HTML/AFFX-r2-Ec-bioB-3_at.html\"&gt;Review genomic mapping for this probe&lt;/a&gt;.&lt;/li&gt;\\n\\t\\t\\t\\n\\t\\t\\t&lt;!-- end enter notes --&gt;\\n\\t\\t&lt;/ul&gt;\\n&lt;/div&gt;\\n&lt;/div&gt;'</span>"
      ],
      "text/latex": [
       "'<div id=\"geneform\">\\textbackslash{}n\\textbackslash{}t<form name=\"findGene\" method=\"post\" action=\"http://xavierlab2.mgh.harvard.edu/cgi-bin/DiscoveryDB.py\" enctype=\"multipart/form-data\">\\textbackslash{}n\\textbackslash{}t\\textbackslash{}t<input type=\"hidden\" name=\"platform\" value=\"U133A\"><table border=\"0\">\\textbackslash{}n<tr>\\textbackslash{}n<td colspan=\"2\"><div align=\"left\" class=\"style1\">Go to gene:</div></td>\\textbackslash{}n\\textbackslash{}t\\textbackslash{}t\\textbackslash{}t</tr>\\textbackslash{}n<tr>\\textbackslash{}n<td><div align=\"right\">ID type:</div></td>\\textbackslash{}n\\textbackslash{}t\\textbackslash{}t\\textbackslash{}t\\textbackslash{}t<td>\\textbackslash{}n\\textbackslash{}t\\textbackslash{}t\\textbackslash{}t\\textbackslash{}t   <select name=\"genetype\"><option value=\"locuslink\">Entrez Gene ID</option>\\textbackslash{}n<option value=\"symbol\" selected>Symbol</option>\\textbackslash{}n<option value=\"ensembl\">Ensembl</option>\\textbackslash{}n<option value=\"UniProt\">UniProt</option>\\textbackslash{}n<option value=\"probe\">Affy probe</option></select>\\textbackslash{}n</td>\\textbackslash{}n\\textbackslash{}t\\textbackslash{}t\\textbackslash{}t</tr>\\textbackslash{}n<tr>\\textbackslash{}n<td><div align=\"right\">Data set:</div></td>\\textbackslash{}n\\textbackslash{}t\\textbackslash{}t\\textbackslash{}t\\textbackslash{}t<td>\\textbackslash{}n\\textbackslash{}t\\textbackslash{}t\\textbackslash{}t\\textbackslash{}t   <select name=\"dataset\"><option value=\"primary\">Primary</option>\\textbackslash{}n<option value=\"cancer\" selected>Cancer</option></select>\\textbackslash{}n</td>\\textbackslash{}n\\textbackslash{}t\\textbackslash{}t\\textbackslash{}t</tr>\\textbackslash{}n<tr>\\textbackslash{}n<td><div align=\"right\">Gene:</div></td>\\textbackslash{}n\\textbackslash{}t\\textbackslash{}t\\textbackslash{}t\\textbackslash{}t<td><input type=\"text\" name=\"geneinput\" value=\"\"></td>\\textbackslash{}n\\textbackslash{}t\\textbackslash{}t\\textbackslash{}t</tr>\\textbackslash{}n<tr>\\textbackslash{}n<td colspan=\"2\">\\textbackslash{}n\\textbackslash{}t\\textbackslash{}t\\textbackslash{}t\\textbackslash{}t\\textbackslash{}t<div align=\"center\">\\textbackslash{}n\\textbackslash{}t\\textbackslash{}t\\textbackslash{}t\\textbackslash{}t\\textbackslash{}t  <input type=\"submit\" name=\"submit\" id=\"submit\" value=\"Search\">\\textbackslash{}n</div>\\textbackslash{}n</td>\\textbackslash{}n\\textbackslash{}t\\textbackslash{}t\\textbackslash{}t</tr>\\textbackslash{}n</table>\\textbackslash{}n</form>\\textbackslash{}n\\textbackslash{}n\\textbackslash{}t<table border=\"0\">\\textbackslash{}n<tr><td> </td></tr>\\textbackslash{}n<tr>\\textbackslash{}n<td>\\textbackslash{}n\\textbackslash{}t\\textbackslash{}t\\textbackslash{}t<form name=\"redirectTissue\">\\textbackslash{}n\\textbackslash{}t\\textbackslash{}t\\textbackslash{}t<select name=\"GoToTissue\" onchange=\"location=document.redirectTissue.GoToTissue.options{[}document.redirectTissue.GoToTissue.selectedIndex{]}.value;\" value=\"GO\"><option value=\"\\#\" selected>Go to tissue</option>\\textbackslash{}n<!-- enter tissue menu here --><option value=\"../Tissues/All/B cell leukemia.html\">B cell leukemia</option>\\textbackslash{}n<option value=\"../Tissues/All/B cell lymphoma.html\">B cell lymphoma</option>\\textbackslash{}n<option value=\"../Tissues/All/T cell leukemia.html\">T cell leukemia</option>\\textbackslash{}n<option value=\"../Tissues/All/Salivary gland cancer.html\">Salivary gland cancer</option>\\textbackslash{}n<option value=\"../Tissues/All/Glioblastoma.html\">Glioblastoma</option>\\textbackslash{}n<option value=\"../Tissues/All/Neuroblastoma.html\">Neuroblastoma</option>\\textbackslash{}n<option value=\"../Tissues/All/Colon cancer.html\">Colon cancer</option>\\textbackslash{}n<option value=\"../Tissues/All/kidney cancer.html\">kidney cancer</option>\\textbackslash{}n<option value=\"../Tissues/All/Liver cancer.html\">Liver cancer</option>\\textbackslash{}n<option value=\"../Tissues/All/Lung cancer.html\">Lung cancer</option>\\textbackslash{}n<option value=\"../Tissues/All/Melanoma.html\">Melanoma</option>\\textbackslash{}n<option value=\"../Tissues/All/Ovary cancer.html\">Ovary cancer</option>\\textbackslash{}n<option value=\"../Tissues/All/Breast cancer ER-.html\">Breast cancer ER-</option>\\textbackslash{}n<option value=\"../Tissues/All/Breast cancer ER+.html\">Breast cancer ER+</option>\\textbackslash{}n<option value=\"../Tissues/All/Prostate cancer.html\">Prostate cancer</option>\\textbackslash{}n<option value=\"../Tissues/All/Osteosarcoma.html\">Osteosarcoma</option>\\textbackslash{}n<option value=\"../Tissues/All/ES cells.html\">ES cells</option>\\textbackslash{}n<option value=\"../Tissues/All/HSC fetal blood CD34+ CD38-.html\">HSC fetal blood CD34+ CD38-</option>\\textbackslash{}n<option value=\"../Tissues/All/HSC cord blood CD34+ CD38-.html\">HSC cord blood CD34+ CD38-</option>\\textbackslash{}n<option value=\"../Tissues/All/HSC cord blood CD34+ CD38- CD33-.html\">HSC cord blood CD34+ CD38- CD33-</option>\\textbackslash{}n<option value=\"../Tissues/All/HSC bone marrow CD34+ CD38- CD33-.html\">HSC bone marrow CD34+ CD38- CD33-</option>\\textbackslash{}n<option value=\"../Tissues/All/HSC fetal blood CD34+ CD38+.html\">HSC fetal blood CD34+ CD38+</option>\\textbackslash{}n<option value=\"../Tissues/All/HSC cord blood CD34+ CD38+.html\">HSC cord blood CD34+ CD38+</option>\\textbackslash{}n<option value=\"../Tissues/All/HSC cord blood CD34+ CD38+ CD33-.html\">HSC cord blood CD34+ CD38+ CD33-</option>\\textbackslash{}n<option value=\"../Tissues/All/HSC periph blood CD34+ CD38+.html\">HSC periph blood CD34+ CD38+</option>\\textbackslash{}n<option value=\"../Tissues/All/HSC bone marrow CD34+ CD38+.html\">HSC bone marrow CD34+ CD38+</option>\\textbackslash{}n<option value=\"../Tissues/All/HSC bone marrow CD34+ CD38+ CD33-.html\">HSC bone marrow CD34+ CD38+ CD33-</option>\\textbackslash{}n<option value=\"../Tissues/All/Bone marrow CD34+.html\">Bone marrow CD34+</option>\\textbackslash{}n<option value=\"../Tissues/All/B cells cord blood CD34+.html\">B cells cord blood CD34+</option>\\textbackslash{}n<option value=\"../Tissues/All/B cells Pro.html\">B cells Pro</option>\\textbackslash{}n<option value=\"../Tissues/All/B cells PreI.html\">B cells PreI</option>\\textbackslash{}n<option value=\"../Tissues/All/B cells PreII.html\">B cells PreII</option>\\textbackslash{}n<option value=\"../Tissues/All/B cells immature.html\">B cells immature</option>\\textbackslash{}n<option value=\"../Tissues/All/B cells CD19+.html\">B cells CD19+</option>\\textbackslash{}n<option value=\"../Tissues/All/Tonsils.html\">Tonsils</option>\\textbackslash{}n<option value=\"../Tissues/All/Lymph node.html\">Lymph node</option>\\textbackslash{}n<option value=\"../Tissues/All/Thymus.html\">Thymus</option>\\textbackslash{}n<option value=\"../Tissues/All/T cells cord blood CD34+.html\">T cells cord blood CD34+</option>\\textbackslash{}n<option value=\"../Tissues/All/Thymic CD34+.html\">Thymic CD34+</option>\\textbackslash{}n<option value=\"../Tissues/All/Thymic CD34+CD38+ CD1A-.html\">Thymic CD34+CD38+ CD1A-</option>\\textbackslash{}n<option value=\"../Tissues/All/Thymic CD34+CD38+ CD1A+.html\">Thymic CD34+CD38+ CD1A+</option>\\textbackslash{}n<option value=\"../Tissues/All/Thymic CD4+CD8-CD3-.html\">Thymic CD4+CD8-CD3-</option>\\textbackslash{}n<option value=\"../Tissues/All/Thymic CD4+CD8+CD3-.html\">Thymic CD4+CD8+CD3-</option>\\textbackslash{}n<option value=\"../Tissues/All/Thymic CD4+CD8+CD3.html\">Thymic CD4+CD8+CD3</option>\\textbackslash{}n<option value=\"../Tissues/All/Thymic SP CD4+ T cells.html\">Thymic SP CD4+ T cells</option>\\textbackslash{}n<option value=\"../Tissues/All/Peripheral naive CD4+ T cells.html\">Peripheral naive CD4+ T cells</option>\\textbackslash{}n<option value=\"../Tissues/All/Th1.html\">Th1</option>\\textbackslash{}n<option value=\"../Tissues/All/Th2.html\">Th2</option>\\textbackslash{}n<option value=\"../Tissues/All/Thymic SP CD8+ T cells.html\">Thymic SP CD8+ T cells</option>\\textbackslash{}n<option value=\"../Tissues/All/Peripheral CD8+ T cells.html\">Peripheral CD8+ T cells</option>\\textbackslash{}n<option value=\"../Tissues/All/Tonsils CD4+ T cells.html\">Tonsils CD4+ T cells</option>\\textbackslash{}n<option value=\"../Tissues/All/T cells BAFF+.html\">T cells BAFF+</option>\\textbackslash{}n<option value=\"../Tissues/All/T cells CD57+.html\">T cells CD57+</option>\\textbackslash{}n<option value=\"../Tissues/All/T cells central memory.html\">T cells central memory</option>\\textbackslash{}n<option value=\"../Tissues/All/T cells effector memory.html\">T cells effector memory</option>\\textbackslash{}n<option value=\"../Tissues/All/T cells gammadelta.html\">T cells gammadelta</option>\\textbackslash{}n<option value=\"../Tissues/All/Treg.html\">Treg</option>\\textbackslash{}n<option value=\"../Tissues/All/NK CD56+.html\">NK CD56+</option>\\textbackslash{}n<option value=\"../Tissues/All/DC Immature.html\">DC Immature</option>\\textbackslash{}n<option value=\"../Tissues/All/DC LPS 6h.html\">DC LPS 6h</option>\\textbackslash{}n<option value=\"../Tissues/All/DC LPS 48h.html\">DC LPS 48h</option>\\textbackslash{}n<option value=\"../Tissues/All/DC.html\">DC</option>\\textbackslash{}n<option value=\"../Tissues/All/DC BAFF+.html\">DC BAFF+</option>\\textbackslash{}n<option value=\"../Tissues/All/Myeloid CD33+.html\">Myeloid CD33+</option>\\textbackslash{}n<option value=\"../Tissues/All/Monocyte CD14+.html\">Monocyte CD14+</option>\\textbackslash{}n<option value=\"../Tissues/All/Derived Macrophage 16h.html\">Derived Macrophage 16h</option>\\textbackslash{}n<option value=\"../Tissues/All/Macrophage.html\">Macrophage</option>\\textbackslash{}n<option value=\"../Tissues/All/Macrophage LPS 4h.html\">Macrophage LPS 4h</option>\\textbackslash{}n<option value=\"../Tissues/All/Mast cell.html\">Mast cell</option>\\textbackslash{}n<option value=\"../Tissues/All/Mast cell IgE.html\">Mast cell IgE</option>\\textbackslash{}n<option value=\"../Tissues/All/Spleen.html\">Spleen</option>\\textbackslash{}n<option value=\"../Tissues/All/Blood.html\">Blood</option>\\textbackslash{}n<option value=\"../Tissues/All/Neutrophils.html\">Neutrophils</option>\\textbackslash{}n<option value=\"../Tissues/All/RBC.html\">RBC</option>\\textbackslash{}n<option value=\"../Tissues/All/Whole brain.html\">Whole brain</option>\\textbackslash{}n<option value=\"../Tissues/All/Fetal brain.html\">Fetal brain</option>\\textbackslash{}n<option value=\"../Tissues/All/Frontal cortex.html\">Frontal cortex</option>\\textbackslash{}n<option value=\"../Tissues/All/Prefrontal cortex.html\">Prefrontal cortex</option>\\textbackslash{}n<option value=\"../Tissues/All/Parietal Lobe.html\">Parietal Lobe</option>\\textbackslash{}n<option value=\"../Tissues/All/Occipital lobe.html\">Occipital lobe</option>\\textbackslash{}n<option value=\"../Tissues/All/Temporal lobe.html\">Temporal lobe</option>\\textbackslash{}n<option value=\"../Tissues/All/Cingulate cortex.html\">Cingulate cortex</option>\\textbackslash{}n<option value=\"../Tissues/All/Caudate nucleus.html\">Caudate nucleus</option>\\textbackslash{}n<option value=\"../Tissues/All/Globus pallidus.html\">Globus pallidus</option>\\textbackslash{}n<option value=\"../Tissues/All/Thalamus.html\">Thalamus</option>\\textbackslash{}n<option value=\"../Tissues/All/Subthalamic nucleus.html\">Subthalamic nucleus</option>\\textbackslash{}n<option value=\"../Tissues/All/Hypothalamus.html\">Hypothalamus</option>\\textbackslash{}n<option value=\"../Tissues/All/Hippocampus.html\">Hippocampus</option>\\textbackslash{}n<option value=\"../Tissues/All/Amygdala.html\">Amygdala</option>\\textbackslash{}n<option value=\"../Tissues/All/Cerebellum.html\">Cerebellum</option>\\textbackslash{}n<option value=\"../Tissues/All/Cerebellum peduncles.html\">Cerebellum peduncles</option>\\textbackslash{}n<option value=\"../Tissues/All/Pons.html\">Pons</option>\\textbackslash{}n<option value=\"../Tissues/All/Medulla oblongata.html\">Medulla oblongata</option>\\textbackslash{}n<option value=\"../Tissues/All/Spinal cord.html\">Spinal cord</option>\\textbackslash{}n<option value=\"../Tissues/All/Olfactory bulb.html\">Olfactory bulb</option>\\textbackslash{}n<option value=\"../Tissues/All/Trigeminal ganglion.html\">Trigeminal ganglion</option>\\textbackslash{}n<option value=\"../Tissues/All/Ciliary ganglion.html\">Ciliary ganglion</option>\\textbackslash{}n<option value=\"../Tissues/All/Dorsal root ganglion.html\">Dorsal root ganglion</option>\\textbackslash{}n<option value=\"../Tissues/All/Superior cervical ganglion.html\">Superior cervical ganglion</option>\\textbackslash{}n<option value=\"../Tissues/All/Adrenal gland.html\">Adrenal gland</option>\\textbackslash{}n<option value=\"../Tissues/All/Pituitary.html\">Pituitary</option>\\textbackslash{}n<option value=\"../Tissues/All/Thyroid.html\">Thyroid</option>\\textbackslash{}n<option value=\"../Tissues/All/Fetal thyroid.html\">Fetal thyroid</option>\\textbackslash{}n<option value=\"../Tissues/All/Pancreas.html\">Pancreas</option>\\textbackslash{}n<option value=\"../Tissues/All/Skeletal muscle.html\">Skeletal muscle</option>\\textbackslash{}n<option value=\"../Tissues/All/Tongue.html\">Tongue</option>\\textbackslash{}n<option value=\"../Tissues/All/Smooth muscle.html\">Smooth muscle</option>\\textbackslash{}n<option value=\"../Tissues/All/Cardiac myocytes.html\">Cardiac myocytes</option>\\textbackslash{}n<option value=\"../Tissues/All/Cardiac muscle left ventricle.html\">Cardiac muscle left ventricle</option>\\textbackslash{}n<option value=\"../Tissues/All/Heart.html\">Heart</option>\\textbackslash{}n<option value=\"../Tissues/All/Atrioventricular node.html\">Atrioventricular node</option>\\textbackslash{}n<option value=\"../Tissues/All/Islet cells.html\">Islet cells</option>\\textbackslash{}n<option value=\"../Tissues/All/Kidney.html\">Kidney</option>\\textbackslash{}n<option value=\"../Tissues/All/Bladder.html\">Bladder</option>\\textbackslash{}n<option value=\"../Tissues/All/Liver.html\">Liver</option>\\textbackslash{}n<option value=\"../Tissues/All/Fetal liver.html\">Fetal liver</option>\\textbackslash{}n<option value=\"../Tissues/All/Preadipocyte subcutanous.html\">Preadipocyte subcutanous</option>\\textbackslash{}n<option value=\"../Tissues/All/Adipocyte.html\">Adipocyte</option>\\textbackslash{}n<option value=\"../Tissues/All/Lung.html\">Lung</option>\\textbackslash{}n<option value=\"../Tissues/All/Fetal Lung.html\">Fetal Lung</option>\\textbackslash{}n<option value=\"../Tissues/All/Broncho epithelial.html\">Broncho epithelial</option>\\textbackslash{}n<option value=\"../Tissues/All/Trachea.html\">Trachea</option>\\textbackslash{}n<option value=\"../Tissues/All/Placenta.html\">Placenta</option>\\textbackslash{}n<option value=\"../Tissues/All/Skin.html\">Skin</option>\\textbackslash{}n<option value=\"../Tissues/All/Endothelial CD105+.html\">Endothelial CD105+</option>\\textbackslash{}n<option value=\"../Tissues/All/Salivary gland.html\">Salivary gland</option>\\textbackslash{}n<option value=\"../Tissues/All/Esophagus.html\">Esophagus</option>\\textbackslash{}n<option value=\"../Tissues/All/Stomach.html\">Stomach</option>\\textbackslash{}n<option value=\"../Tissues/All/Small intestine.html\">Small intestine</option>\\textbackslash{}n<option value=\"../Tissues/All/Appendix.html\">Appendix</option>\\textbackslash{}n<option value=\"../Tissues/All/Colon.html\">Colon</option>\\textbackslash{}n<option value=\"../Tissues/All/Ovary.html\">Ovary</option>\\textbackslash{}n<option value=\"../Tissues/All/Uterus.html\">Uterus</option>\\textbackslash{}n<option value=\"../Tissues/All/Uterus corpus.html\">Uterus corpus</option>\\textbackslash{}n<option value=\"../Tissues/All/Breast.html\">Breast</option>\\textbackslash{}n<option value=\"../Tissues/All/Testis.html\">Testis</option>\\textbackslash{}n<option value=\"../Tissues/All/Testis Leydig cell.html\">Testis Leydig cell</option>\\textbackslash{}n<option value=\"../Tissues/All/Testis germ cell.html\">Testis germ cell</option>\\textbackslash{}n<option value=\"../Tissues/All/Testis intersitial.html\">Testis intersitial</option>\\textbackslash{}n<option value=\"../Tissues/All/Testis seminiferous tubule.html\">Testis seminiferous tubule</option>\\textbackslash{}n<option value=\"../Tissues/All/Prostate.html\">Prostate</option>\\textbackslash{}n<option value=\"../Tissues/All/Conjunctiva.html\">Conjunctiva</option>\\textbackslash{}n<!-- end enter tissue menu --></select>\\textbackslash{}n</form>\\textbackslash{}n\\textbackslash{}t\\textbackslash{}t\\textbackslash{}t</td>\\textbackslash{}n\\textbackslash{}t\\textbackslash{}t</tr>\\textbackslash{}n<tr>\\textbackslash{}n<td>\\textbackslash{}n\\textbackslash{}t\\textbackslash{}t\\textbackslash{}t\\textbackslash{}t<form name=\"redirectCoreg\">\\textbackslash{}n\\textbackslash{}t\\textbackslash{}t\\textbackslash{}t\\textbackslash{}t\\textbackslash{}t<select name=\"GoToProbe\" onchange=\"location=document.redirectCoreg.GoToProbe.options{[}document.redirectCoreg.GoToProbe.selectedIndex{]}.value;\" value=\"GO\"><!-- enter coreg menu here --><option value=\"\\#\" selected>View Coregulated Genes</option>\\textbackslash{}n<option value=\"AFFX-BioB-5\\_at.html\">AFFX-BioB-5\\_at (0.99)</option>\\textbackslash{}n<option value=\"AFFX-BioB-3\\_at.html\">AFFX-BioB-3\\_at (0.99)</option>\\textbackslash{}n<option value=\"AFFX-r2-Ec-bioB-5\\_at.html\">AFFX-r2-Ec-bioB-5\\_at (0.99)</option>\\textbackslash{}n<option value=\"AFFX-r2-Ec-bioB-M\\_at.html\">AFFX-r2-Ec-bioB-M\\_at (0.98)</option>\\textbackslash{}n<option value=\"AFFX-BioB-M\\_at.html\">AFFX-BioB-M\\_at (0.98)</option>\\textbackslash{}n<option value=\"AFFX-BioC-3\\_at.html\">AFFX-BioC-3\\_at (0.8)</option>\\textbackslash{}n<option value=\"AFFX-BioC-5\\_at.html\">AFFX-BioC-5\\_at (0.79)</option>\\textbackslash{}n<option value=\"AFFX-r2-Ec-bioC-3\\_at.html\">AFFX-r2-Ec-bioC-3\\_at (0.78)</option>\\textbackslash{}n<option value=\"AFFX-r2-Ec-bioC-5\\_at.html\">AFFX-r2-Ec-bioC-5\\_at (0.77)</option>\\textbackslash{}n<option value=\"215587\\_x\\_at.html\">215587\\_x\\_at (0.77)</option>\\textbackslash{}n<option value=\"AFFX-BioDn-5\\_at.html\">AFFX-BioDn-5\\_at (0.77)</option>\\textbackslash{}n<option value=\"216229\\_x\\_at.html\">RICTOR (0.77)</option>\\textbackslash{}n<option value=\"AFFX-BioDn-3\\_at.html\">AFFX-BioDn-3\\_at (0.76)</option>\\textbackslash{}n<option value=\"214989\\_x\\_at.html\">SFRS11 (0.75)</option>\\textbackslash{}n<option value=\"217700\\_at.html\">217700\\_at (0.75)</option>\\textbackslash{}n<option value=\"219893\\_at.html\">219893\\_at (0.74)</option>\\textbackslash{}n<option value=\"215467\\_x\\_at.html\">215467\\_x\\_at (0.74)</option>\\textbackslash{}n<option value=\"211374\\_x\\_at.html\">211374\\_x\\_at (0.73)</option>\\textbackslash{}n<option value=\"215560\\_x\\_at.html\">215560\\_x\\_at (0.73)</option>\\textbackslash{}n<option value=\"221155\\_x\\_at.html\">221155\\_x\\_at (0.73)</option>\\textbackslash{}n<!-- end enter coreg menu --></select>\\textbackslash{}n</form>\\textbackslash{}n\\textbackslash{}t\\textbackslash{}t\\textbackslash{}t</td>\\textbackslash{}n\\textbackslash{}t\\textbackslash{}t</tr>\\textbackslash{}n</table>\\textbackslash{}n<img id=\"colorbar\" src=\"../../img/GrayColorBar.png\" border=\"0\"><div id=\"notes\">\\textbackslash{}n\\textbackslash{}t\\textbackslash{}t<ul>\\textbackslash{}n<!-- enter notes --><li>This is a control probe.</li>\\textbackslash{}n<li>\\textbackslash{}n<a href=\"../../ProbeMapping/U133A/HTML/AFFX-r2-Ec-bioB-3\\_at.html\">Review genomic mapping for this probe</a>.</li>\\textbackslash{}n\\textbackslash{}t\\textbackslash{}t\\textbackslash{}t\\textbackslash{}n\\textbackslash{}t\\textbackslash{}t\\textbackslash{}t<!-- end enter notes -->\\textbackslash{}n\\textbackslash{}t\\textbackslash{}t</ul>\\textbackslash{}n</div>\\textbackslash{}n</div>'"
      ],
      "text/markdown": [
       "<span style=white-space:pre-wrap>'&lt;div id=\"geneform\"&gt;\\n\\t&lt;form name=\"findGene\" method=\"post\" action=\"http://xavierlab2.mgh.harvard.edu/cgi-bin/DiscoveryDB.py\" enctype=\"multipart/form-data\"&gt;\\n\\t\\t&lt;input type=\"hidden\" name=\"platform\" value=\"U133A\"&gt;&lt;table border=\"0\"&gt;\\n&lt;tr&gt;\\n&lt;td colspan=\"2\"&gt;&lt;div align=\"left\" class=\"style1\"&gt;Go to gene:&lt;/div&gt;&lt;/td&gt;\\n\\t\\t\\t&lt;/tr&gt;\\n&lt;tr&gt;\\n&lt;td&gt;&lt;div align=\"right\"&gt;ID type:&lt;/div&gt;&lt;/td&gt;\\n\\t\\t\\t\\t&lt;td&gt;\\n\\t\\t\\t\\t   &lt;select name=\"genetype\"&gt;&lt;option value=\"locuslink\"&gt;Entrez Gene ID&lt;/option&gt;\\n&lt;option value=\"symbol\" selected&gt;Symbol&lt;/option&gt;\\n&lt;option value=\"ensembl\"&gt;Ensembl&lt;/option&gt;\\n&lt;option value=\"UniProt\"&gt;UniProt&lt;/option&gt;\\n&lt;option value=\"probe\"&gt;Affy probe&lt;/option&gt;&lt;/select&gt;\\n&lt;/td&gt;\\n\\t\\t\\t&lt;/tr&gt;\\n&lt;tr&gt;\\n&lt;td&gt;&lt;div align=\"right\"&gt;Data set:&lt;/div&gt;&lt;/td&gt;\\n\\t\\t\\t\\t&lt;td&gt;\\n\\t\\t\\t\\t   &lt;select name=\"dataset\"&gt;&lt;option value=\"primary\"&gt;Primary&lt;/option&gt;\\n&lt;option value=\"cancer\" selected&gt;Cancer&lt;/option&gt;&lt;/select&gt;\\n&lt;/td&gt;\\n\\t\\t\\t&lt;/tr&gt;\\n&lt;tr&gt;\\n&lt;td&gt;&lt;div align=\"right\"&gt;Gene:&lt;/div&gt;&lt;/td&gt;\\n\\t\\t\\t\\t&lt;td&gt;&lt;input type=\"text\" name=\"geneinput\" value=\"\"&gt;&lt;/td&gt;\\n\\t\\t\\t&lt;/tr&gt;\\n&lt;tr&gt;\\n&lt;td colspan=\"2\"&gt;\\n\\t\\t\\t\\t\\t&lt;div align=\"center\"&gt;\\n\\t\\t\\t\\t\\t  &lt;input type=\"submit\" name=\"submit\" id=\"submit\" value=\"Search\"&gt;\\n&lt;/div&gt;\\n&lt;/td&gt;\\n\\t\\t\\t&lt;/tr&gt;\\n&lt;/table&gt;\\n&lt;/form&gt;\\n\\n\\t&lt;table border=\"0\"&gt;\\n&lt;tr&gt;&lt;td&gt; &lt;/td&gt;&lt;/tr&gt;\\n&lt;tr&gt;\\n&lt;td&gt;\\n\\t\\t\\t&lt;form name=\"redirectTissue\"&gt;\\n\\t\\t\\t&lt;select name=\"GoToTissue\" onchange=\"location=document.redirectTissue.GoToTissue.options[document.redirectTissue.GoToTissue.selectedIndex].value;\" value=\"GO\"&gt;&lt;option value=\"#\" selected&gt;Go to tissue&lt;/option&gt;\\n&lt;!-- enter tissue menu here --&gt;&lt;option value=\"../Tissues/All/B cell leukemia.html\"&gt;B cell leukemia&lt;/option&gt;\\n&lt;option value=\"../Tissues/All/B cell lymphoma.html\"&gt;B cell lymphoma&lt;/option&gt;\\n&lt;option value=\"../Tissues/All/T cell leukemia.html\"&gt;T cell leukemia&lt;/option&gt;\\n&lt;option value=\"../Tissues/All/Salivary gland cancer.html\"&gt;Salivary gland cancer&lt;/option&gt;\\n&lt;option value=\"../Tissues/All/Glioblastoma.html\"&gt;Glioblastoma&lt;/option&gt;\\n&lt;option value=\"../Tissues/All/Neuroblastoma.html\"&gt;Neuroblastoma&lt;/option&gt;\\n&lt;option value=\"../Tissues/All/Colon cancer.html\"&gt;Colon cancer&lt;/option&gt;\\n&lt;option value=\"../Tissues/All/kidney cancer.html\"&gt;kidney cancer&lt;/option&gt;\\n&lt;option value=\"../Tissues/All/Liver cancer.html\"&gt;Liver cancer&lt;/option&gt;\\n&lt;option value=\"../Tissues/All/Lung cancer.html\"&gt;Lung cancer&lt;/option&gt;\\n&lt;option value=\"../Tissues/All/Melanoma.html\"&gt;Melanoma&lt;/option&gt;\\n&lt;option value=\"../Tissues/All/Ovary cancer.html\"&gt;Ovary cancer&lt;/option&gt;\\n&lt;option value=\"../Tissues/All/Breast cancer ER-.html\"&gt;Breast cancer ER-&lt;/option&gt;\\n&lt;option value=\"../Tissues/All/Breast cancer ER+.html\"&gt;Breast cancer ER+&lt;/option&gt;\\n&lt;option value=\"../Tissues/All/Prostate cancer.html\"&gt;Prostate cancer&lt;/option&gt;\\n&lt;option value=\"../Tissues/All/Osteosarcoma.html\"&gt;Osteosarcoma&lt;/option&gt;\\n&lt;option value=\"../Tissues/All/ES cells.html\"&gt;ES cells&lt;/option&gt;\\n&lt;option value=\"../Tissues/All/HSC fetal blood CD34+ CD38-.html\"&gt;HSC fetal blood CD34+ CD38-&lt;/option&gt;\\n&lt;option value=\"../Tissues/All/HSC cord blood CD34+ CD38-.html\"&gt;HSC cord blood CD34+ CD38-&lt;/option&gt;\\n&lt;option value=\"../Tissues/All/HSC cord blood CD34+ CD38- CD33-.html\"&gt;HSC cord blood CD34+ CD38- CD33-&lt;/option&gt;\\n&lt;option value=\"../Tissues/All/HSC bone marrow CD34+ CD38- CD33-.html\"&gt;HSC bone marrow CD34+ CD38- CD33-&lt;/option&gt;\\n&lt;option value=\"../Tissues/All/HSC fetal blood CD34+ CD38+.html\"&gt;HSC fetal blood CD34+ CD38+&lt;/option&gt;\\n&lt;option value=\"../Tissues/All/HSC cord blood CD34+ CD38+.html\"&gt;HSC cord blood CD34+ CD38+&lt;/option&gt;\\n&lt;option value=\"../Tissues/All/HSC cord blood CD34+ CD38+ CD33-.html\"&gt;HSC cord blood CD34+ CD38+ CD33-&lt;/option&gt;\\n&lt;option value=\"../Tissues/All/HSC periph blood CD34+ CD38+.html\"&gt;HSC periph blood CD34+ CD38+&lt;/option&gt;\\n&lt;option value=\"../Tissues/All/HSC bone marrow CD34+ CD38+.html\"&gt;HSC bone marrow CD34+ CD38+&lt;/option&gt;\\n&lt;option value=\"../Tissues/All/HSC bone marrow CD34+ CD38+ CD33-.html\"&gt;HSC bone marrow CD34+ CD38+ CD33-&lt;/option&gt;\\n&lt;option value=\"../Tissues/All/Bone marrow CD34+.html\"&gt;Bone marrow CD34+&lt;/option&gt;\\n&lt;option value=\"../Tissues/All/B cells cord blood CD34+.html\"&gt;B cells cord blood CD34+&lt;/option&gt;\\n&lt;option value=\"../Tissues/All/B cells Pro.html\"&gt;B cells Pro&lt;/option&gt;\\n&lt;option value=\"../Tissues/All/B cells PreI.html\"&gt;B cells PreI&lt;/option&gt;\\n&lt;option value=\"../Tissues/All/B cells PreII.html\"&gt;B cells PreII&lt;/option&gt;\\n&lt;option value=\"../Tissues/All/B cells immature.html\"&gt;B cells immature&lt;/option&gt;\\n&lt;option value=\"../Tissues/All/B cells CD19+.html\"&gt;B cells CD19+&lt;/option&gt;\\n&lt;option value=\"../Tissues/All/Tonsils.html\"&gt;Tonsils&lt;/option&gt;\\n&lt;option value=\"../Tissues/All/Lymph node.html\"&gt;Lymph node&lt;/option&gt;\\n&lt;option value=\"../Tissues/All/Thymus.html\"&gt;Thymus&lt;/option&gt;\\n&lt;option value=\"../Tissues/All/T cells cord blood CD34+.html\"&gt;T cells cord blood CD34+&lt;/option&gt;\\n&lt;option value=\"../Tissues/All/Thymic CD34+.html\"&gt;Thymic CD34+&lt;/option&gt;\\n&lt;option value=\"../Tissues/All/Thymic CD34+CD38+ CD1A-.html\"&gt;Thymic CD34+CD38+ CD1A-&lt;/option&gt;\\n&lt;option value=\"../Tissues/All/Thymic CD34+CD38+ CD1A+.html\"&gt;Thymic CD34+CD38+ CD1A+&lt;/option&gt;\\n&lt;option value=\"../Tissues/All/Thymic CD4+CD8-CD3-.html\"&gt;Thymic CD4+CD8-CD3-&lt;/option&gt;\\n&lt;option value=\"../Tissues/All/Thymic CD4+CD8+CD3-.html\"&gt;Thymic CD4+CD8+CD3-&lt;/option&gt;\\n&lt;option value=\"../Tissues/All/Thymic CD4+CD8+CD3.html\"&gt;Thymic CD4+CD8+CD3&lt;/option&gt;\\n&lt;option value=\"../Tissues/All/Thymic SP CD4+ T cells.html\"&gt;Thymic SP CD4+ T cells&lt;/option&gt;\\n&lt;option value=\"../Tissues/All/Peripheral naive CD4+ T cells.html\"&gt;Peripheral naive CD4+ T cells&lt;/option&gt;\\n&lt;option value=\"../Tissues/All/Th1.html\"&gt;Th1&lt;/option&gt;\\n&lt;option value=\"../Tissues/All/Th2.html\"&gt;Th2&lt;/option&gt;\\n&lt;option value=\"../Tissues/All/Thymic SP CD8+ T cells.html\"&gt;Thymic SP CD8+ T cells&lt;/option&gt;\\n&lt;option value=\"../Tissues/All/Peripheral CD8+ T cells.html\"&gt;Peripheral CD8+ T cells&lt;/option&gt;\\n&lt;option value=\"../Tissues/All/Tonsils CD4+ T cells.html\"&gt;Tonsils CD4+ T cells&lt;/option&gt;\\n&lt;option value=\"../Tissues/All/T cells BAFF+.html\"&gt;T cells BAFF+&lt;/option&gt;\\n&lt;option value=\"../Tissues/All/T cells CD57+.html\"&gt;T cells CD57+&lt;/option&gt;\\n&lt;option value=\"../Tissues/All/T cells central memory.html\"&gt;T cells central memory&lt;/option&gt;\\n&lt;option value=\"../Tissues/All/T cells effector memory.html\"&gt;T cells effector memory&lt;/option&gt;\\n&lt;option value=\"../Tissues/All/T cells gammadelta.html\"&gt;T cells gammadelta&lt;/option&gt;\\n&lt;option value=\"../Tissues/All/Treg.html\"&gt;Treg&lt;/option&gt;\\n&lt;option value=\"../Tissues/All/NK CD56+.html\"&gt;NK CD56+&lt;/option&gt;\\n&lt;option value=\"../Tissues/All/DC Immature.html\"&gt;DC Immature&lt;/option&gt;\\n&lt;option value=\"../Tissues/All/DC LPS 6h.html\"&gt;DC LPS 6h&lt;/option&gt;\\n&lt;option value=\"../Tissues/All/DC LPS 48h.html\"&gt;DC LPS 48h&lt;/option&gt;\\n&lt;option value=\"../Tissues/All/DC.html\"&gt;DC&lt;/option&gt;\\n&lt;option value=\"../Tissues/All/DC BAFF+.html\"&gt;DC BAFF+&lt;/option&gt;\\n&lt;option value=\"../Tissues/All/Myeloid CD33+.html\"&gt;Myeloid CD33+&lt;/option&gt;\\n&lt;option value=\"../Tissues/All/Monocyte CD14+.html\"&gt;Monocyte CD14+&lt;/option&gt;\\n&lt;option value=\"../Tissues/All/Derived Macrophage 16h.html\"&gt;Derived Macrophage 16h&lt;/option&gt;\\n&lt;option value=\"../Tissues/All/Macrophage.html\"&gt;Macrophage&lt;/option&gt;\\n&lt;option value=\"../Tissues/All/Macrophage LPS 4h.html\"&gt;Macrophage LPS 4h&lt;/option&gt;\\n&lt;option value=\"../Tissues/All/Mast cell.html\"&gt;Mast cell&lt;/option&gt;\\n&lt;option value=\"../Tissues/All/Mast cell IgE.html\"&gt;Mast cell IgE&lt;/option&gt;\\n&lt;option value=\"../Tissues/All/Spleen.html\"&gt;Spleen&lt;/option&gt;\\n&lt;option value=\"../Tissues/All/Blood.html\"&gt;Blood&lt;/option&gt;\\n&lt;option value=\"../Tissues/All/Neutrophils.html\"&gt;Neutrophils&lt;/option&gt;\\n&lt;option value=\"../Tissues/All/RBC.html\"&gt;RBC&lt;/option&gt;\\n&lt;option value=\"../Tissues/All/Whole brain.html\"&gt;Whole brain&lt;/option&gt;\\n&lt;option value=\"../Tissues/All/Fetal brain.html\"&gt;Fetal brain&lt;/option&gt;\\n&lt;option value=\"../Tissues/All/Frontal cortex.html\"&gt;Frontal cortex&lt;/option&gt;\\n&lt;option value=\"../Tissues/All/Prefrontal cortex.html\"&gt;Prefrontal cortex&lt;/option&gt;\\n&lt;option value=\"../Tissues/All/Parietal Lobe.html\"&gt;Parietal Lobe&lt;/option&gt;\\n&lt;option value=\"../Tissues/All/Occipital lobe.html\"&gt;Occipital lobe&lt;/option&gt;\\n&lt;option value=\"../Tissues/All/Temporal lobe.html\"&gt;Temporal lobe&lt;/option&gt;\\n&lt;option value=\"../Tissues/All/Cingulate cortex.html\"&gt;Cingulate cortex&lt;/option&gt;\\n&lt;option value=\"../Tissues/All/Caudate nucleus.html\"&gt;Caudate nucleus&lt;/option&gt;\\n&lt;option value=\"../Tissues/All/Globus pallidus.html\"&gt;Globus pallidus&lt;/option&gt;\\n&lt;option value=\"../Tissues/All/Thalamus.html\"&gt;Thalamus&lt;/option&gt;\\n&lt;option value=\"../Tissues/All/Subthalamic nucleus.html\"&gt;Subthalamic nucleus&lt;/option&gt;\\n&lt;option value=\"../Tissues/All/Hypothalamus.html\"&gt;Hypothalamus&lt;/option&gt;\\n&lt;option value=\"../Tissues/All/Hippocampus.html\"&gt;Hippocampus&lt;/option&gt;\\n&lt;option value=\"../Tissues/All/Amygdala.html\"&gt;Amygdala&lt;/option&gt;\\n&lt;option value=\"../Tissues/All/Cerebellum.html\"&gt;Cerebellum&lt;/option&gt;\\n&lt;option value=\"../Tissues/All/Cerebellum peduncles.html\"&gt;Cerebellum peduncles&lt;/option&gt;\\n&lt;option value=\"../Tissues/All/Pons.html\"&gt;Pons&lt;/option&gt;\\n&lt;option value=\"../Tissues/All/Medulla oblongata.html\"&gt;Medulla oblongata&lt;/option&gt;\\n&lt;option value=\"../Tissues/All/Spinal cord.html\"&gt;Spinal cord&lt;/option&gt;\\n&lt;option value=\"../Tissues/All/Olfactory bulb.html\"&gt;Olfactory bulb&lt;/option&gt;\\n&lt;option value=\"../Tissues/All/Trigeminal ganglion.html\"&gt;Trigeminal ganglion&lt;/option&gt;\\n&lt;option value=\"../Tissues/All/Ciliary ganglion.html\"&gt;Ciliary ganglion&lt;/option&gt;\\n&lt;option value=\"../Tissues/All/Dorsal root ganglion.html\"&gt;Dorsal root ganglion&lt;/option&gt;\\n&lt;option value=\"../Tissues/All/Superior cervical ganglion.html\"&gt;Superior cervical ganglion&lt;/option&gt;\\n&lt;option value=\"../Tissues/All/Adrenal gland.html\"&gt;Adrenal gland&lt;/option&gt;\\n&lt;option value=\"../Tissues/All/Pituitary.html\"&gt;Pituitary&lt;/option&gt;\\n&lt;option value=\"../Tissues/All/Thyroid.html\"&gt;Thyroid&lt;/option&gt;\\n&lt;option value=\"../Tissues/All/Fetal thyroid.html\"&gt;Fetal thyroid&lt;/option&gt;\\n&lt;option value=\"../Tissues/All/Pancreas.html\"&gt;Pancreas&lt;/option&gt;\\n&lt;option value=\"../Tissues/All/Skeletal muscle.html\"&gt;Skeletal muscle&lt;/option&gt;\\n&lt;option value=\"../Tissues/All/Tongue.html\"&gt;Tongue&lt;/option&gt;\\n&lt;option value=\"../Tissues/All/Smooth muscle.html\"&gt;Smooth muscle&lt;/option&gt;\\n&lt;option value=\"../Tissues/All/Cardiac myocytes.html\"&gt;Cardiac myocytes&lt;/option&gt;\\n&lt;option value=\"../Tissues/All/Cardiac muscle left ventricle.html\"&gt;Cardiac muscle left ventricle&lt;/option&gt;\\n&lt;option value=\"../Tissues/All/Heart.html\"&gt;Heart&lt;/option&gt;\\n&lt;option value=\"../Tissues/All/Atrioventricular node.html\"&gt;Atrioventricular node&lt;/option&gt;\\n&lt;option value=\"../Tissues/All/Islet cells.html\"&gt;Islet cells&lt;/option&gt;\\n&lt;option value=\"../Tissues/All/Kidney.html\"&gt;Kidney&lt;/option&gt;\\n&lt;option value=\"../Tissues/All/Bladder.html\"&gt;Bladder&lt;/option&gt;\\n&lt;option value=\"../Tissues/All/Liver.html\"&gt;Liver&lt;/option&gt;\\n&lt;option value=\"../Tissues/All/Fetal liver.html\"&gt;Fetal liver&lt;/option&gt;\\n&lt;option value=\"../Tissues/All/Preadipocyte subcutanous.html\"&gt;Preadipocyte subcutanous&lt;/option&gt;\\n&lt;option value=\"../Tissues/All/Adipocyte.html\"&gt;Adipocyte&lt;/option&gt;\\n&lt;option value=\"../Tissues/All/Lung.html\"&gt;Lung&lt;/option&gt;\\n&lt;option value=\"../Tissues/All/Fetal Lung.html\"&gt;Fetal Lung&lt;/option&gt;\\n&lt;option value=\"../Tissues/All/Broncho epithelial.html\"&gt;Broncho epithelial&lt;/option&gt;\\n&lt;option value=\"../Tissues/All/Trachea.html\"&gt;Trachea&lt;/option&gt;\\n&lt;option value=\"../Tissues/All/Placenta.html\"&gt;Placenta&lt;/option&gt;\\n&lt;option value=\"../Tissues/All/Skin.html\"&gt;Skin&lt;/option&gt;\\n&lt;option value=\"../Tissues/All/Endothelial CD105+.html\"&gt;Endothelial CD105+&lt;/option&gt;\\n&lt;option value=\"../Tissues/All/Salivary gland.html\"&gt;Salivary gland&lt;/option&gt;\\n&lt;option value=\"../Tissues/All/Esophagus.html\"&gt;Esophagus&lt;/option&gt;\\n&lt;option value=\"../Tissues/All/Stomach.html\"&gt;Stomach&lt;/option&gt;\\n&lt;option value=\"../Tissues/All/Small intestine.html\"&gt;Small intestine&lt;/option&gt;\\n&lt;option value=\"../Tissues/All/Appendix.html\"&gt;Appendix&lt;/option&gt;\\n&lt;option value=\"../Tissues/All/Colon.html\"&gt;Colon&lt;/option&gt;\\n&lt;option value=\"../Tissues/All/Ovary.html\"&gt;Ovary&lt;/option&gt;\\n&lt;option value=\"../Tissues/All/Uterus.html\"&gt;Uterus&lt;/option&gt;\\n&lt;option value=\"../Tissues/All/Uterus corpus.html\"&gt;Uterus corpus&lt;/option&gt;\\n&lt;option value=\"../Tissues/All/Breast.html\"&gt;Breast&lt;/option&gt;\\n&lt;option value=\"../Tissues/All/Testis.html\"&gt;Testis&lt;/option&gt;\\n&lt;option value=\"../Tissues/All/Testis Leydig cell.html\"&gt;Testis Leydig cell&lt;/option&gt;\\n&lt;option value=\"../Tissues/All/Testis germ cell.html\"&gt;Testis germ cell&lt;/option&gt;\\n&lt;option value=\"../Tissues/All/Testis intersitial.html\"&gt;Testis intersitial&lt;/option&gt;\\n&lt;option value=\"../Tissues/All/Testis seminiferous tubule.html\"&gt;Testis seminiferous tubule&lt;/option&gt;\\n&lt;option value=\"../Tissues/All/Prostate.html\"&gt;Prostate&lt;/option&gt;\\n&lt;option value=\"../Tissues/All/Conjunctiva.html\"&gt;Conjunctiva&lt;/option&gt;\\n&lt;!-- end enter tissue menu --&gt;&lt;/select&gt;\\n&lt;/form&gt;\\n\\t\\t\\t&lt;/td&gt;\\n\\t\\t&lt;/tr&gt;\\n&lt;tr&gt;\\n&lt;td&gt;\\n\\t\\t\\t\\t&lt;form name=\"redirectCoreg\"&gt;\\n\\t\\t\\t\\t\\t&lt;select name=\"GoToProbe\" onchange=\"location=document.redirectCoreg.GoToProbe.options[document.redirectCoreg.GoToProbe.selectedIndex].value;\" value=\"GO\"&gt;&lt;!-- enter coreg menu here --&gt;&lt;option value=\"#\" selected&gt;View Coregulated Genes&lt;/option&gt;\\n&lt;option value=\"AFFX-BioB-5_at.html\"&gt;AFFX-BioB-5_at (0.99)&lt;/option&gt;\\n&lt;option value=\"AFFX-BioB-3_at.html\"&gt;AFFX-BioB-3_at (0.99)&lt;/option&gt;\\n&lt;option value=\"AFFX-r2-Ec-bioB-5_at.html\"&gt;AFFX-r2-Ec-bioB-5_at (0.99)&lt;/option&gt;\\n&lt;option value=\"AFFX-r2-Ec-bioB-M_at.html\"&gt;AFFX-r2-Ec-bioB-M_at (0.98)&lt;/option&gt;\\n&lt;option value=\"AFFX-BioB-M_at.html\"&gt;AFFX-BioB-M_at (0.98)&lt;/option&gt;\\n&lt;option value=\"AFFX-BioC-3_at.html\"&gt;AFFX-BioC-3_at (0.8)&lt;/option&gt;\\n&lt;option value=\"AFFX-BioC-5_at.html\"&gt;AFFX-BioC-5_at (0.79)&lt;/option&gt;\\n&lt;option value=\"AFFX-r2-Ec-bioC-3_at.html\"&gt;AFFX-r2-Ec-bioC-3_at (0.78)&lt;/option&gt;\\n&lt;option value=\"AFFX-r2-Ec-bioC-5_at.html\"&gt;AFFX-r2-Ec-bioC-5_at (0.77)&lt;/option&gt;\\n&lt;option value=\"215587_x_at.html\"&gt;215587_x_at (0.77)&lt;/option&gt;\\n&lt;option value=\"AFFX-BioDn-5_at.html\"&gt;AFFX-BioDn-5_at (0.77)&lt;/option&gt;\\n&lt;option value=\"216229_x_at.html\"&gt;RICTOR (0.77)&lt;/option&gt;\\n&lt;option value=\"AFFX-BioDn-3_at.html\"&gt;AFFX-BioDn-3_at (0.76)&lt;/option&gt;\\n&lt;option value=\"214989_x_at.html\"&gt;SFRS11 (0.75)&lt;/option&gt;\\n&lt;option value=\"217700_at.html\"&gt;217700_at (0.75)&lt;/option&gt;\\n&lt;option value=\"219893_at.html\"&gt;219893_at (0.74)&lt;/option&gt;\\n&lt;option value=\"215467_x_at.html\"&gt;215467_x_at (0.74)&lt;/option&gt;\\n&lt;option value=\"211374_x_at.html\"&gt;211374_x_at (0.73)&lt;/option&gt;\\n&lt;option value=\"215560_x_at.html\"&gt;215560_x_at (0.73)&lt;/option&gt;\\n&lt;option value=\"221155_x_at.html\"&gt;221155_x_at (0.73)&lt;/option&gt;\\n&lt;!-- end enter coreg menu --&gt;&lt;/select&gt;\\n&lt;/form&gt;\\n\\t\\t\\t&lt;/td&gt;\\n\\t\\t&lt;/tr&gt;\\n&lt;/table&gt;\\n&lt;img id=\"colorbar\" src=\"../../img/GrayColorBar.png\" border=\"0\"&gt;&lt;div id=\"notes\"&gt;\\n\\t\\t&lt;ul&gt;\\n&lt;!-- enter notes --&gt;&lt;li&gt;This is a control probe.&lt;/li&gt;\\n&lt;li&gt;\\n&lt;a href=\"../../ProbeMapping/U133A/HTML/AFFX-r2-Ec-bioB-3_at.html\"&gt;Review genomic mapping for this probe&lt;/a&gt;.&lt;/li&gt;\\n\\t\\t\\t\\n\\t\\t\\t&lt;!-- end enter notes --&gt;\\n\\t\\t&lt;/ul&gt;\\n&lt;/div&gt;\\n&lt;/div&gt;'</span>"
      ],
      "text/plain": [
       "[1] \"<div id=\\\"geneform\\\">\\n\\t<form name=\\\"findGene\\\" method=\\\"post\\\" action=\\\"http://xavierlab2.mgh.harvard.edu/cgi-bin/DiscoveryDB.py\\\" enctype=\\\"multipart/form-data\\\">\\n\\t\\t<input type=\\\"hidden\\\" name=\\\"platform\\\" value=\\\"U133A\\\"><table border=\\\"0\\\">\\n<tr>\\n<td colspan=\\\"2\\\"><div align=\\\"left\\\" class=\\\"style1\\\">Go to gene:</div></td>\\n\\t\\t\\t</tr>\\n<tr>\\n<td><div align=\\\"right\\\">ID type:</div></td>\\n\\t\\t\\t\\t<td>\\n\\t\\t\\t\\t   <select name=\\\"genetype\\\"><option value=\\\"locuslink\\\">Entrez Gene ID</option>\\n<option value=\\\"symbol\\\" selected>Symbol</option>\\n<option value=\\\"ensembl\\\">Ensembl</option>\\n<option value=\\\"UniProt\\\">UniProt</option>\\n<option value=\\\"probe\\\">Affy probe</option></select>\\n</td>\\n\\t\\t\\t</tr>\\n<tr>\\n<td><div align=\\\"right\\\">Data set:</div></td>\\n\\t\\t\\t\\t<td>\\n\\t\\t\\t\\t   <select name=\\\"dataset\\\"><option value=\\\"primary\\\">Primary</option>\\n<option value=\\\"cancer\\\" selected>Cancer</option></select>\\n</td>\\n\\t\\t\\t</tr>\\n<tr>\\n<td><div align=\\\"right\\\">Gene:</div></td>\\n\\t\\t\\t\\t<td><input type=\\\"text\\\" name=\\\"geneinput\\\" value=\\\"\\\"></td>\\n\\t\\t\\t</tr>\\n<tr>\\n<td colspan=\\\"2\\\">\\n\\t\\t\\t\\t\\t<div align=\\\"center\\\">\\n\\t\\t\\t\\t\\t  <input type=\\\"submit\\\" name=\\\"submit\\\" id=\\\"submit\\\" value=\\\"Search\\\">\\n</div>\\n</td>\\n\\t\\t\\t</tr>\\n</table>\\n</form>\\n\\n\\t<table border=\\\"0\\\">\\n<tr><td> </td></tr>\\n<tr>\\n<td>\\n\\t\\t\\t<form name=\\\"redirectTissue\\\">\\n\\t\\t\\t<select name=\\\"GoToTissue\\\" onchange=\\\"location=document.redirectTissue.GoToTissue.options[document.redirectTissue.GoToTissue.selectedIndex].value;\\\" value=\\\"GO\\\"><option value=\\\"#\\\" selected>Go to tissue</option>\\n<!-- enter tissue menu here --><option value=\\\"../Tissues/All/B cell leukemia.html\\\">B cell leukemia</option>\\n<option value=\\\"../Tissues/All/B cell lymphoma.html\\\">B cell lymphoma</option>\\n<option value=\\\"../Tissues/All/T cell leukemia.html\\\">T cell leukemia</option>\\n<option value=\\\"../Tissues/All/Salivary gland cancer.html\\\">Salivary gland cancer</option>\\n<option value=\\\"../Tissues/All/Glioblastoma.html\\\">Glioblastoma</option>\\n<option value=\\\"../Tissues/All/Neuroblastoma.html\\\">Neuroblastoma</option>\\n<option value=\\\"../Tissues/All/Colon cancer.html\\\">Colon cancer</option>\\n<option value=\\\"../Tissues/All/kidney cancer.html\\\">kidney cancer</option>\\n<option value=\\\"../Tissues/All/Liver cancer.html\\\">Liver cancer</option>\\n<option value=\\\"../Tissues/All/Lung cancer.html\\\">Lung cancer</option>\\n<option value=\\\"../Tissues/All/Melanoma.html\\\">Melanoma</option>\\n<option value=\\\"../Tissues/All/Ovary cancer.html\\\">Ovary cancer</option>\\n<option value=\\\"../Tissues/All/Breast cancer ER-.html\\\">Breast cancer ER-</option>\\n<option value=\\\"../Tissues/All/Breast cancer ER+.html\\\">Breast cancer ER+</option>\\n<option value=\\\"../Tissues/All/Prostate cancer.html\\\">Prostate cancer</option>\\n<option value=\\\"../Tissues/All/Osteosarcoma.html\\\">Osteosarcoma</option>\\n<option value=\\\"../Tissues/All/ES cells.html\\\">ES cells</option>\\n<option value=\\\"../Tissues/All/HSC fetal blood CD34+ CD38-.html\\\">HSC fetal blood CD34+ CD38-</option>\\n<option value=\\\"../Tissues/All/HSC cord blood CD34+ CD38-.html\\\">HSC cord blood CD34+ CD38-</option>\\n<option value=\\\"../Tissues/All/HSC cord blood CD34+ CD38- CD33-.html\\\">HSC cord blood CD34+ CD38- CD33-</option>\\n<option value=\\\"../Tissues/All/HSC bone marrow CD34+ CD38- CD33-.html\\\">HSC bone marrow CD34+ CD38- CD33-</option>\\n<option value=\\\"../Tissues/All/HSC fetal blood CD34+ CD38+.html\\\">HSC fetal blood CD34+ CD38+</option>\\n<option value=\\\"../Tissues/All/HSC cord blood CD34+ CD38+.html\\\">HSC cord blood CD34+ CD38+</option>\\n<option value=\\\"../Tissues/All/HSC cord blood CD34+ CD38+ CD33-.html\\\">HSC cord blood CD34+ CD38+ CD33-</option>\\n<option value=\\\"../Tissues/All/HSC periph blood CD34+ CD38+.html\\\">HSC periph blood CD34+ CD38+</option>\\n<option value=\\\"../Tissues/All/HSC bone marrow CD34+ CD38+.html\\\">HSC bone marrow CD34+ CD38+</option>\\n<option value=\\\"../Tissues/All/HSC bone marrow CD34+ CD38+ CD33-.html\\\">HSC bone marrow CD34+ CD38+ CD33-</option>\\n<option value=\\\"../Tissues/All/Bone marrow CD34+.html\\\">Bone marrow CD34+</option>\\n<option value=\\\"../Tissues/All/B cells cord blood CD34+.html\\\">B cells cord blood CD34+</option>\\n<option value=\\\"../Tissues/All/B cells Pro.html\\\">B cells Pro</option>\\n<option value=\\\"../Tissues/All/B cells PreI.html\\\">B cells PreI</option>\\n<option value=\\\"../Tissues/All/B cells PreII.html\\\">B cells PreII</option>\\n<option value=\\\"../Tissues/All/B cells immature.html\\\">B cells immature</option>\\n<option value=\\\"../Tissues/All/B cells CD19+.html\\\">B cells CD19+</option>\\n<option value=\\\"../Tissues/All/Tonsils.html\\\">Tonsils</option>\\n<option value=\\\"../Tissues/All/Lymph node.html\\\">Lymph node</option>\\n<option value=\\\"../Tissues/All/Thymus.html\\\">Thymus</option>\\n<option value=\\\"../Tissues/All/T cells cord blood CD34+.html\\\">T cells cord blood CD34+</option>\\n<option value=\\\"../Tissues/All/Thymic CD34+.html\\\">Thymic CD34+</option>\\n<option value=\\\"../Tissues/All/Thymic CD34+CD38+ CD1A-.html\\\">Thymic CD34+CD38+ CD1A-</option>\\n<option value=\\\"../Tissues/All/Thymic CD34+CD38+ CD1A+.html\\\">Thymic CD34+CD38+ CD1A+</option>\\n<option value=\\\"../Tissues/All/Thymic CD4+CD8-CD3-.html\\\">Thymic CD4+CD8-CD3-</option>\\n<option value=\\\"../Tissues/All/Thymic CD4+CD8+CD3-.html\\\">Thymic CD4+CD8+CD3-</option>\\n<option value=\\\"../Tissues/All/Thymic CD4+CD8+CD3.html\\\">Thymic CD4+CD8+CD3</option>\\n<option value=\\\"../Tissues/All/Thymic SP CD4+ T cells.html\\\">Thymic SP CD4+ T cells</option>\\n<option value=\\\"../Tissues/All/Peripheral naive CD4+ T cells.html\\\">Peripheral naive CD4+ T cells</option>\\n<option value=\\\"../Tissues/All/Th1.html\\\">Th1</option>\\n<option value=\\\"../Tissues/All/Th2.html\\\">Th2</option>\\n<option value=\\\"../Tissues/All/Thymic SP CD8+ T cells.html\\\">Thymic SP CD8+ T cells</option>\\n<option value=\\\"../Tissues/All/Peripheral CD8+ T cells.html\\\">Peripheral CD8+ T cells</option>\\n<option value=\\\"../Tissues/All/Tonsils CD4+ T cells.html\\\">Tonsils CD4+ T cells</option>\\n<option value=\\\"../Tissues/All/T cells BAFF+.html\\\">T cells BAFF+</option>\\n<option value=\\\"../Tissues/All/T cells CD57+.html\\\">T cells CD57+</option>\\n<option value=\\\"../Tissues/All/T cells central memory.html\\\">T cells central memory</option>\\n<option value=\\\"../Tissues/All/T cells effector memory.html\\\">T cells effector memory</option>\\n<option value=\\\"../Tissues/All/T cells gammadelta.html\\\">T cells gammadelta</option>\\n<option value=\\\"../Tissues/All/Treg.html\\\">Treg</option>\\n<option value=\\\"../Tissues/All/NK CD56+.html\\\">NK CD56+</option>\\n<option value=\\\"../Tissues/All/DC Immature.html\\\">DC Immature</option>\\n<option value=\\\"../Tissues/All/DC LPS 6h.html\\\">DC LPS 6h</option>\\n<option value=\\\"../Tissues/All/DC LPS 48h.html\\\">DC LPS 48h</option>\\n<option value=\\\"../Tissues/All/DC.html\\\">DC</option>\\n<option value=\\\"../Tissues/All/DC BAFF+.html\\\">DC BAFF+</option>\\n<option value=\\\"../Tissues/All/Myeloid CD33+.html\\\">Myeloid CD33+</option>\\n<option value=\\\"../Tissues/All/Monocyte CD14+.html\\\">Monocyte CD14+</option>\\n<option value=\\\"../Tissues/All/Derived Macrophage 16h.html\\\">Derived Macrophage 16h</option>\\n<option value=\\\"../Tissues/All/Macrophage.html\\\">Macrophage</option>\\n<option value=\\\"../Tissues/All/Macrophage LPS 4h.html\\\">Macrophage LPS 4h</option>\\n<option value=\\\"../Tissues/All/Mast cell.html\\\">Mast cell</option>\\n<option value=\\\"../Tissues/All/Mast cell IgE.html\\\">Mast cell IgE</option>\\n<option value=\\\"../Tissues/All/Spleen.html\\\">Spleen</option>\\n<option value=\\\"../Tissues/All/Blood.html\\\">Blood</option>\\n<option value=\\\"../Tissues/All/Neutrophils.html\\\">Neutrophils</option>\\n<option value=\\\"../Tissues/All/RBC.html\\\">RBC</option>\\n<option value=\\\"../Tissues/All/Whole brain.html\\\">Whole brain</option>\\n<option value=\\\"../Tissues/All/Fetal brain.html\\\">Fetal brain</option>\\n<option value=\\\"../Tissues/All/Frontal cortex.html\\\">Frontal cortex</option>\\n<option value=\\\"../Tissues/All/Prefrontal cortex.html\\\">Prefrontal cortex</option>\\n<option value=\\\"../Tissues/All/Parietal Lobe.html\\\">Parietal Lobe</option>\\n<option value=\\\"../Tissues/All/Occipital lobe.html\\\">Occipital lobe</option>\\n<option value=\\\"../Tissues/All/Temporal lobe.html\\\">Temporal lobe</option>\\n<option value=\\\"../Tissues/All/Cingulate cortex.html\\\">Cingulate cortex</option>\\n<option value=\\\"../Tissues/All/Caudate nucleus.html\\\">Caudate nucleus</option>\\n<option value=\\\"../Tissues/All/Globus pallidus.html\\\">Globus pallidus</option>\\n<option value=\\\"../Tissues/All/Thalamus.html\\\">Thalamus</option>\\n<option value=\\\"../Tissues/All/Subthalamic nucleus.html\\\">Subthalamic nucleus</option>\\n<option value=\\\"../Tissues/All/Hypothalamus.html\\\">Hypothalamus</option>\\n<option value=\\\"../Tissues/All/Hippocampus.html\\\">Hippocampus</option>\\n<option value=\\\"../Tissues/All/Amygdala.html\\\">Amygdala</option>\\n<option value=\\\"../Tissues/All/Cerebellum.html\\\">Cerebellum</option>\\n<option value=\\\"../Tissues/All/Cerebellum peduncles.html\\\">Cerebellum peduncles</option>\\n<option value=\\\"../Tissues/All/Pons.html\\\">Pons</option>\\n<option value=\\\"../Tissues/All/Medulla oblongata.html\\\">Medulla oblongata</option>\\n<option value=\\\"../Tissues/All/Spinal cord.html\\\">Spinal cord</option>\\n<option value=\\\"../Tissues/All/Olfactory bulb.html\\\">Olfactory bulb</option>\\n<option value=\\\"../Tissues/All/Trigeminal ganglion.html\\\">Trigeminal ganglion</option>\\n<option value=\\\"../Tissues/All/Ciliary ganglion.html\\\">Ciliary ganglion</option>\\n<option value=\\\"../Tissues/All/Dorsal root ganglion.html\\\">Dorsal root ganglion</option>\\n<option value=\\\"../Tissues/All/Superior cervical ganglion.html\\\">Superior cervical ganglion</option>\\n<option value=\\\"../Tissues/All/Adrenal gland.html\\\">Adrenal gland</option>\\n<option value=\\\"../Tissues/All/Pituitary.html\\\">Pituitary</option>\\n<option value=\\\"../Tissues/All/Thyroid.html\\\">Thyroid</option>\\n<option value=\\\"../Tissues/All/Fetal thyroid.html\\\">Fetal thyroid</option>\\n<option value=\\\"../Tissues/All/Pancreas.html\\\">Pancreas</option>\\n<option value=\\\"../Tissues/All/Skeletal muscle.html\\\">Skeletal muscle</option>\\n<option value=\\\"../Tissues/All/Tongue.html\\\">Tongue</option>\\n<option value=\\\"../Tissues/All/Smooth muscle.html\\\">Smooth muscle</option>\\n<option value=\\\"../Tissues/All/Cardiac myocytes.html\\\">Cardiac myocytes</option>\\n<option value=\\\"../Tissues/All/Cardiac muscle left ventricle.html\\\">Cardiac muscle left ventricle</option>\\n<option value=\\\"../Tissues/All/Heart.html\\\">Heart</option>\\n<option value=\\\"../Tissues/All/Atrioventricular node.html\\\">Atrioventricular node</option>\\n<option value=\\\"../Tissues/All/Islet cells.html\\\">Islet cells</option>\\n<option value=\\\"../Tissues/All/Kidney.html\\\">Kidney</option>\\n<option value=\\\"../Tissues/All/Bladder.html\\\">Bladder</option>\\n<option value=\\\"../Tissues/All/Liver.html\\\">Liver</option>\\n<option value=\\\"../Tissues/All/Fetal liver.html\\\">Fetal liver</option>\\n<option value=\\\"../Tissues/All/Preadipocyte subcutanous.html\\\">Preadipocyte subcutanous</option>\\n<option value=\\\"../Tissues/All/Adipocyte.html\\\">Adipocyte</option>\\n<option value=\\\"../Tissues/All/Lung.html\\\">Lung</option>\\n<option value=\\\"../Tissues/All/Fetal Lung.html\\\">Fetal Lung</option>\\n<option value=\\\"../Tissues/All/Broncho epithelial.html\\\">Broncho epithelial</option>\\n<option value=\\\"../Tissues/All/Trachea.html\\\">Trachea</option>\\n<option value=\\\"../Tissues/All/Placenta.html\\\">Placenta</option>\\n<option value=\\\"../Tissues/All/Skin.html\\\">Skin</option>\\n<option value=\\\"../Tissues/All/Endothelial CD105+.html\\\">Endothelial CD105+</option>\\n<option value=\\\"../Tissues/All/Salivary gland.html\\\">Salivary gland</option>\\n<option value=\\\"../Tissues/All/Esophagus.html\\\">Esophagus</option>\\n<option value=\\\"../Tissues/All/Stomach.html\\\">Stomach</option>\\n<option value=\\\"../Tissues/All/Small intestine.html\\\">Small intestine</option>\\n<option value=\\\"../Tissues/All/Appendix.html\\\">Appendix</option>\\n<option value=\\\"../Tissues/All/Colon.html\\\">Colon</option>\\n<option value=\\\"../Tissues/All/Ovary.html\\\">Ovary</option>\\n<option value=\\\"../Tissues/All/Uterus.html\\\">Uterus</option>\\n<option value=\\\"../Tissues/All/Uterus corpus.html\\\">Uterus corpus</option>\\n<option value=\\\"../Tissues/All/Breast.html\\\">Breast</option>\\n<option value=\\\"../Tissues/All/Testis.html\\\">Testis</option>\\n<option value=\\\"../Tissues/All/Testis Leydig cell.html\\\">Testis Leydig cell</option>\\n<option value=\\\"../Tissues/All/Testis germ cell.html\\\">Testis germ cell</option>\\n<option value=\\\"../Tissues/All/Testis intersitial.html\\\">Testis intersitial</option>\\n<option value=\\\"../Tissues/All/Testis seminiferous tubule.html\\\">Testis seminiferous tubule</option>\\n<option value=\\\"../Tissues/All/Prostate.html\\\">Prostate</option>\\n<option value=\\\"../Tissues/All/Conjunctiva.html\\\">Conjunctiva</option>\\n<!-- end enter tissue menu --></select>\\n</form>\\n\\t\\t\\t</td>\\n\\t\\t</tr>\\n<tr>\\n<td>\\n\\t\\t\\t\\t<form name=\\\"redirectCoreg\\\">\\n\\t\\t\\t\\t\\t<select name=\\\"GoToProbe\\\" onchange=\\\"location=document.redirectCoreg.GoToProbe.options[document.redirectCoreg.GoToProbe.selectedIndex].value;\\\" value=\\\"GO\\\"><!-- enter coreg menu here --><option value=\\\"#\\\" selected>View Coregulated Genes</option>\\n<option value=\\\"AFFX-BioB-5_at.html\\\">AFFX-BioB-5_at (0.99)</option>\\n<option value=\\\"AFFX-BioB-3_at.html\\\">AFFX-BioB-3_at (0.99)</option>\\n<option value=\\\"AFFX-r2-Ec-bioB-5_at.html\\\">AFFX-r2-Ec-bioB-5_at (0.99)</option>\\n<option value=\\\"AFFX-r2-Ec-bioB-M_at.html\\\">AFFX-r2-Ec-bioB-M_at (0.98)</option>\\n<option value=\\\"AFFX-BioB-M_at.html\\\">AFFX-BioB-M_at (0.98)</option>\\n<option value=\\\"AFFX-BioC-3_at.html\\\">AFFX-BioC-3_at (0.8)</option>\\n<option value=\\\"AFFX-BioC-5_at.html\\\">AFFX-BioC-5_at (0.79)</option>\\n<option value=\\\"AFFX-r2-Ec-bioC-3_at.html\\\">AFFX-r2-Ec-bioC-3_at (0.78)</option>\\n<option value=\\\"AFFX-r2-Ec-bioC-5_at.html\\\">AFFX-r2-Ec-bioC-5_at (0.77)</option>\\n<option value=\\\"215587_x_at.html\\\">215587_x_at (0.77)</option>\\n<option value=\\\"AFFX-BioDn-5_at.html\\\">AFFX-BioDn-5_at (0.77)</option>\\n<option value=\\\"216229_x_at.html\\\">RICTOR (0.77)</option>\\n<option value=\\\"AFFX-BioDn-3_at.html\\\">AFFX-BioDn-3_at (0.76)</option>\\n<option value=\\\"214989_x_at.html\\\">SFRS11 (0.75)</option>\\n<option value=\\\"217700_at.html\\\">217700_at (0.75)</option>\\n<option value=\\\"219893_at.html\\\">219893_at (0.74)</option>\\n<option value=\\\"215467_x_at.html\\\">215467_x_at (0.74)</option>\\n<option value=\\\"211374_x_at.html\\\">211374_x_at (0.73)</option>\\n<option value=\\\"215560_x_at.html\\\">215560_x_at (0.73)</option>\\n<option value=\\\"221155_x_at.html\\\">221155_x_at (0.73)</option>\\n<!-- end enter coreg menu --></select>\\n</form>\\n\\t\\t\\t</td>\\n\\t\\t</tr>\\n</table>\\n<img id=\\\"colorbar\\\" src=\\\"../../img/GrayColorBar.png\\\" border=\\\"0\\\"><div id=\\\"notes\\\">\\n\\t\\t<ul>\\n<!-- enter notes --><li>This is a control probe.</li>\\n<li>\\n<a href=\\\"../../ProbeMapping/U133A/HTML/AFFX-r2-Ec-bioB-3_at.html\\\">Review genomic mapping for this probe</a>.</li>\\n\\t\\t\\t\\n\\t\\t\\t<!-- end enter notes -->\\n\\t\\t</ul>\\n</div>\\n</div>\""
      ]
     },
     "metadata": {},
     "output_type": "display_data"
    }
   ],
   "source": [
    "as.character(xml_children(xml_children(site_read)[2])[7])"
   ]
  },
  {
   "cell_type": "code",
   "execution_count": 38,
   "metadata": {},
   "outputs": [
    {
     "data": {
      "text/html": [
       "NA"
      ],
      "text/latex": [
       "NA"
      ],
      "text/markdown": [
       "NA"
      ],
      "text/plain": [
       "[1] NA"
      ]
     },
     "metadata": {},
     "output_type": "display_data"
    }
   ],
   "source": [
    "xml_attr(site_read, \"id\")"
   ]
  },
  {
   "cell_type": "code",
   "execution_count": 43,
   "metadata": {},
   "outputs": [
    {
     "ename": "ERROR",
     "evalue": "Error in xml_chidren(xml_children(site_read)[2]): could not find function \"xml_chidren\"\n",
     "output_type": "error",
     "traceback": [
      "Error in xml_chidren(xml_children(site_read)[2]): could not find function \"xml_chidren\"\nTraceback:\n"
     ]
    }
   ],
   "source": [
    "xml_chidren(xml_children(site_read)[2])"
   ]
  },
  {
   "cell_type": "code",
   "execution_count": 44,
   "metadata": {},
   "outputs": [
    {
     "data": {
      "text/plain": [
       "{xml_nodeset (1)}\n",
       "[1] <body>\\n<div id=\"title\">\\n\\tGene Enrichment Profiler\\n</div>\\n\\n<div id=\" ..."
      ]
     },
     "metadata": {},
     "output_type": "display_data"
    }
   ],
   "source": [
    "xml_children(site_read)[2]"
   ]
  },
  {
   "cell_type": "code",
   "execution_count": 57,
   "metadata": {},
   "outputs": [
    {
     "data": {
      "text/html": [
       "'\"&gt;\\n\\t\\t&lt;ul&gt;\\n&lt;!-- enter notes --&gt;&lt;li&gt;This is a control probe.&lt;/li&gt;\\n&lt;li&gt;\\n&lt;a href=\"../../ProbeMapping/U133A/HTML/AFFX-r2-Ec-bioB-3_at.html\"&gt;Review genomic mapping for this probe&lt;/a&gt;.&lt;/li&gt;\\n\\t\\t\\t\\n\\t\\t\\t&lt;!-- end enter notes --&gt;\\n\\t\\t&lt;/ul&gt;\\n&lt;/div&gt;\\n&lt;/div&gt;'"
      ],
      "text/latex": [
       "'\">\\textbackslash{}n\\textbackslash{}t\\textbackslash{}t<ul>\\textbackslash{}n<!-- enter notes --><li>This is a control probe.</li>\\textbackslash{}n<li>\\textbackslash{}n<a href=\"../../ProbeMapping/U133A/HTML/AFFX-r2-Ec-bioB-3\\_at.html\">Review genomic mapping for this probe</a>.</li>\\textbackslash{}n\\textbackslash{}t\\textbackslash{}t\\textbackslash{}t\\textbackslash{}n\\textbackslash{}t\\textbackslash{}t\\textbackslash{}t<!-- end enter notes -->\\textbackslash{}n\\textbackslash{}t\\textbackslash{}t</ul>\\textbackslash{}n</div>\\textbackslash{}n</div>'"
      ],
      "text/markdown": [
       "'\"&gt;\\n\\t\\t&lt;ul&gt;\\n&lt;!-- enter notes --&gt;&lt;li&gt;This is a control probe.&lt;/li&gt;\\n&lt;li&gt;\\n&lt;a href=\"../../ProbeMapping/U133A/HTML/AFFX-r2-Ec-bioB-3_at.html\"&gt;Review genomic mapping for this probe&lt;/a&gt;.&lt;/li&gt;\\n\\t\\t\\t\\n\\t\\t\\t&lt;!-- end enter notes --&gt;\\n\\t\\t&lt;/ul&gt;\\n&lt;/div&gt;\\n&lt;/div&gt;'"
      ],
      "text/plain": [
       "[1] \"\\\">\\n\\t\\t<ul>\\n<!-- enter notes --><li>This is a control probe.</li>\\n<li>\\n<a href=\\\"../../ProbeMapping/U133A/HTML/AFFX-r2-Ec-bioB-3_at.html\\\">Review genomic mapping for this probe</a>.</li>\\n\\t\\t\\t\\n\\t\\t\\t<!-- end enter notes -->\\n\\t\\t</ul>\\n</div>\\n</div>\""
      ]
     },
     "metadata": {},
     "output_type": "display_data"
    }
   ],
   "source": [
    "line_interest <- strsplit(as.character(xml_children(xml_children(site_read)[2])[7]), 'div id=\\\\\"notes')[[1]][2]\n",
    "line_interest"
   ]
  },
  {
   "cell_type": "code",
   "execution_count": 74,
   "metadata": {},
   "outputs": [],
   "source": [
    "ix <- lapply(strsplit(line_interest, \">\")[[1]], function(x) grepl(\"probe\", x))"
   ]
  },
  {
   "cell_type": "code",
   "execution_count": 77,
   "metadata": {},
   "outputs": [
    {
     "data": {
      "text/html": [
       "<ol class=list-inline>\n",
       "\t<li>'This is a control probe.&lt;/li'</li>\n",
       "\t<li>'Review genomic mapping for this probe&lt;/a'</li>\n",
       "</ol>\n"
      ],
      "text/latex": [
       "\\begin{enumerate*}\n",
       "\\item 'This is a control probe.</li'\n",
       "\\item 'Review genomic mapping for this probe</a'\n",
       "\\end{enumerate*}\n"
      ],
      "text/markdown": [
       "1. 'This is a control probe.&lt;/li'\n",
       "2. 'Review genomic mapping for this probe&lt;/a'\n",
       "\n",
       "\n"
      ],
      "text/plain": [
       "[1] \"This is a control probe.</li\"            \n",
       "[2] \"Review genomic mapping for this probe</a\""
      ]
     },
     "metadata": {},
     "output_type": "display_data"
    }
   ],
   "source": [
    "strsplit(line_interest, \">\")[[1]][unlist(ix)]"
   ]
  },
  {
   "cell_type": "markdown",
   "metadata": {},
   "source": [
    "# Function to Ask the Site"
   ]
  },
  {
   "cell_type": "code",
   "execution_count": 181,
   "metadata": {},
   "outputs": [],
   "source": [
    "probe_to_gene <- function(probe_name) {\n",
    "    # * USING THIS LAB INFO\n",
    "    site <- \"http://xavierlab2.mgh.harvard.edu/EnrichmentProfiler/cancer/Expression/\"\n",
    "    site <- paste0(site, probe_name, \".html\")\n",
    "    site_read <- read_html(site)\n",
    "    \n",
    "    if (length(site_read)>0) {\n",
    "        line_interest <- strsplit(as.character(xml_children(xml_children(site_read)[2])[7]), 'div id=\\\\\"notes')[[1]][2]\n",
    "        \n",
    "        ix <- lapply(strsplit(line_interest, \">\")[[1]], function(x) grepl(\"probe\", x))\n",
    "        site <- strsplit(line_interest, \">\")[[1]][unlist(ix)][1]\n",
    "                     \n",
    "        if(!grepl(\"control\", site)) {\n",
    "              site <- strsplit(site, '\\\\\"')[[1]][2]\n",
    "            site_read <- read_html(site)\n",
    "            gene <- strsplit(as.character(xml_children(site_read)[1]), \"<title>\")\n",
    "            strsplit(strsplit(gene[[1]][2], \"</title>\")[[1]][1], \" \")[[1]][1]\n",
    "        } else {\n",
    "            \"control\"\n",
    "        }\n",
    "        \n",
    "                    \n",
    "                     \n",
    "    } else {\n",
    "        return(0)\n",
    "    }\n",
    "}"
   ]
  },
  {
   "cell_type": "code",
   "execution_count": 170,
   "metadata": {},
   "outputs": [
    {
     "data": {
      "text/html": [
       "'RFC2'"
      ],
      "text/latex": [
       "'RFC2'"
      ],
      "text/markdown": [
       "'RFC2'"
      ],
      "text/plain": [
       "[1] \"RFC2\""
      ]
     },
     "metadata": {},
     "output_type": "display_data"
    }
   ],
   "source": [
    "probe_to_gene(\"1053_at\")"
   ]
  },
  {
   "cell_type": "code",
   "execution_count": 171,
   "metadata": {},
   "outputs": [
    {
     "data": {
      "text/html": [
       "'HSPA6'"
      ],
      "text/latex": [
       "'HSPA6'"
      ],
      "text/markdown": [
       "'HSPA6'"
      ],
      "text/plain": [
       "[1] \"HSPA6\""
      ]
     },
     "metadata": {},
     "output_type": "display_data"
    }
   ],
   "source": [
    "probe_to_gene(\"117_at\")"
   ]
  },
  {
   "cell_type": "code",
   "execution_count": 172,
   "metadata": {},
   "outputs": [
    {
     "data": {
      "text/html": [
       "'PAX8'"
      ],
      "text/latex": [
       "'PAX8'"
      ],
      "text/markdown": [
       "'PAX8'"
      ],
      "text/plain": [
       "[1] \"PAX8\""
      ]
     },
     "metadata": {},
     "output_type": "display_data"
    }
   ],
   "source": [
    "probe_to_gene(\"121_at\")"
   ]
  },
  {
   "cell_type": "code",
   "execution_count": 182,
   "metadata": {},
   "outputs": [
    {
     "data": {
      "text/html": [
       "'control'"
      ],
      "text/latex": [
       "'control'"
      ],
      "text/markdown": [
       "'control'"
      ],
      "text/plain": [
       "[1] \"control\""
      ]
     },
     "metadata": {},
     "output_type": "display_data"
    }
   ],
   "source": [
    "probe_to_gene(\"AFFX-TrpnX-3_at\")"
   ]
  }
 ],
 "metadata": {
  "kernelspec": {
   "display_name": "R",
   "language": "R",
   "name": "ir"
  },
  "language_info": {
   "codemirror_mode": "r",
   "file_extension": ".r",
   "mimetype": "text/x-r-source",
   "name": "R",
   "pygments_lexer": "r",
   "version": "3.5.1"
  }
 },
 "nbformat": 4,
 "nbformat_minor": 2
}
